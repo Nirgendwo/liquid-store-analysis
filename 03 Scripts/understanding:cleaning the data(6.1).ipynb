{
 "cells": [
  {
   "cell_type": "markdown",
   "id": "6017ed91",
   "metadata": {},
   "source": [
    "# Content\n",
    "Data cleaning: \n",
    "- mixed data\n",
    "- duplicates\n",
    "- null values"
   ]
  },
  {
   "cell_type": "code",
   "execution_count": 1,
   "id": "dda6891b",
   "metadata": {
    "ExecuteTime": {
     "end_time": "2022-12-14T08:19:36.574443Z",
     "start_time": "2022-12-14T08:19:35.126116Z"
    }
   },
   "outputs": [],
   "source": [
    "# import lybaries \n",
    "import pandas as pd\n",
    "import numpy as np\n",
    "import os"
   ]
  },
  {
   "cell_type": "code",
   "execution_count": 2,
   "id": "9d97f58c",
   "metadata": {
    "ExecuteTime": {
     "end_time": "2022-12-14T08:20:51.264300Z",
     "start_time": "2022-12-14T08:19:36.575969Z"
    }
   },
   "outputs": [
    {
     "name": "stderr",
     "output_type": "stream",
     "text": [
      "/var/folders/zw/37lckzg54ll7byfmgjl5pkw40000gn/T/ipykernel_70763/1053455517.py:3: DtypeWarning: Columns (6) have mixed types. Specify dtype option on import or set low_memory=False.\n",
      "  df_liquid_sales = pd.read_csv(os.path.join(path, '02 Data','Original Data', 'Iowa_Liquor_Sales.csv'))\n"
     ]
    }
   ],
   "source": [
    "# import data\n",
    "path = r'/Users/lennartzeidler/Desktop/Uni/(6) Advances Analytics and Dashboard Design/liquid store sales analysis'\n",
    "df_liquid_sales = pd.read_csv(os.path.join(path, '02 Data','Original Data', 'Iowa_Liquor_Sales.csv'))"
   ]
  },
  {
   "cell_type": "code",
   "execution_count": 11,
   "id": "fa05ccf8",
   "metadata": {
    "ExecuteTime": {
     "end_time": "2022-12-14T08:25:38.721283Z",
     "start_time": "2022-12-14T08:25:38.715318Z"
    }
   },
   "outputs": [
    {
     "data": {
      "text/plain": [
       "(12591077, 24)"
      ]
     },
     "execution_count": 11,
     "metadata": {},
     "output_type": "execute_result"
    }
   ],
   "source": [
    "df_liquid_sales.shape"
   ]
  },
  {
   "cell_type": "code",
   "execution_count": 3,
   "id": "f56185f8",
   "metadata": {
    "ExecuteTime": {
     "end_time": "2022-12-14T08:20:51.388519Z",
     "start_time": "2022-12-14T08:20:51.313113Z"
    },
    "scrolled": true
   },
   "outputs": [
    {
     "data": {
      "text/html": [
       "<div>\n",
       "<style scoped>\n",
       "    .dataframe tbody tr th:only-of-type {\n",
       "        vertical-align: middle;\n",
       "    }\n",
       "\n",
       "    .dataframe tbody tr th {\n",
       "        vertical-align: top;\n",
       "    }\n",
       "\n",
       "    .dataframe thead th {\n",
       "        text-align: right;\n",
       "    }\n",
       "</style>\n",
       "<table border=\"1\" class=\"dataframe\">\n",
       "  <thead>\n",
       "    <tr style=\"text-align: right;\">\n",
       "      <th></th>\n",
       "      <th>Invoice/Item Number</th>\n",
       "      <th>Date</th>\n",
       "      <th>Store Number</th>\n",
       "      <th>Store Name</th>\n",
       "      <th>Address</th>\n",
       "      <th>City</th>\n",
       "      <th>Zip Code</th>\n",
       "      <th>Store Location</th>\n",
       "      <th>County Number</th>\n",
       "      <th>County</th>\n",
       "      <th>...</th>\n",
       "      <th>Item Number</th>\n",
       "      <th>Item Description</th>\n",
       "      <th>Pack</th>\n",
       "      <th>Bottle Volume (ml)</th>\n",
       "      <th>State Bottle Cost</th>\n",
       "      <th>State Bottle Retail</th>\n",
       "      <th>Bottles Sold</th>\n",
       "      <th>Sale (Dollars)</th>\n",
       "      <th>Volume Sold (Liters)</th>\n",
       "      <th>Volume Sold (Gallons)</th>\n",
       "    </tr>\n",
       "  </thead>\n",
       "  <tbody>\n",
       "    <tr>\n",
       "      <th>0</th>\n",
       "      <td>S29198800001</td>\n",
       "      <td>11/20/2015</td>\n",
       "      <td>2191</td>\n",
       "      <td>Keokuk Spirits</td>\n",
       "      <td>1013 MAIN</td>\n",
       "      <td>KEOKUK</td>\n",
       "      <td>52632</td>\n",
       "      <td>1013 MAIN\\nKEOKUK 52632\\n(40.39978, -91.387531)</td>\n",
       "      <td>56.0</td>\n",
       "      <td>Lee</td>\n",
       "      <td>...</td>\n",
       "      <td>297</td>\n",
       "      <td>Templeton Rye w/Flask</td>\n",
       "      <td>6</td>\n",
       "      <td>750</td>\n",
       "      <td>$18.09</td>\n",
       "      <td>$27.14</td>\n",
       "      <td>6</td>\n",
       "      <td>$162.84</td>\n",
       "      <td>4.50</td>\n",
       "      <td>1.19</td>\n",
       "    </tr>\n",
       "    <tr>\n",
       "      <th>1</th>\n",
       "      <td>S29195400002</td>\n",
       "      <td>11/21/2015</td>\n",
       "      <td>2205</td>\n",
       "      <td>Ding's Honk And Holler</td>\n",
       "      <td>900 E WASHINGTON</td>\n",
       "      <td>CLARINDA</td>\n",
       "      <td>51632</td>\n",
       "      <td>900 E WASHINGTON\\nCLARINDA 51632\\n(40.739238, ...</td>\n",
       "      <td>73.0</td>\n",
       "      <td>Page</td>\n",
       "      <td>...</td>\n",
       "      <td>297</td>\n",
       "      <td>Templeton Rye w/Flask</td>\n",
       "      <td>6</td>\n",
       "      <td>750</td>\n",
       "      <td>$18.09</td>\n",
       "      <td>$27.14</td>\n",
       "      <td>12</td>\n",
       "      <td>$325.68</td>\n",
       "      <td>9.00</td>\n",
       "      <td>2.38</td>\n",
       "    </tr>\n",
       "    <tr>\n",
       "      <th>2</th>\n",
       "      <td>S29050300001</td>\n",
       "      <td>11/16/2015</td>\n",
       "      <td>3549</td>\n",
       "      <td>Quicker Liquor Store</td>\n",
       "      <td>1414 48TH ST</td>\n",
       "      <td>FORT MADISON</td>\n",
       "      <td>52627</td>\n",
       "      <td>1414 48TH ST\\nFORT MADISON 52627\\n(40.624226, ...</td>\n",
       "      <td>56.0</td>\n",
       "      <td>Lee</td>\n",
       "      <td>...</td>\n",
       "      <td>249</td>\n",
       "      <td>Disaronno Amaretto Cavalli Mignon 3-50ml Pack</td>\n",
       "      <td>20</td>\n",
       "      <td>150</td>\n",
       "      <td>$6.40</td>\n",
       "      <td>$9.60</td>\n",
       "      <td>2</td>\n",
       "      <td>$19.20</td>\n",
       "      <td>0.30</td>\n",
       "      <td>0.08</td>\n",
       "    </tr>\n",
       "    <tr>\n",
       "      <th>3</th>\n",
       "      <td>S28867700001</td>\n",
       "      <td>11/04/2015</td>\n",
       "      <td>2513</td>\n",
       "      <td>Hy-Vee Food Store #2 / Iowa City</td>\n",
       "      <td>812  S 1ST AVE</td>\n",
       "      <td>IOWA CITY</td>\n",
       "      <td>52240</td>\n",
       "      <td>812 S 1ST AVE\\nIOWA CITY 52240\\n</td>\n",
       "      <td>52.0</td>\n",
       "      <td>Johnson</td>\n",
       "      <td>...</td>\n",
       "      <td>237</td>\n",
       "      <td>Knob Creek w/ Crystal Decanter</td>\n",
       "      <td>3</td>\n",
       "      <td>1750</td>\n",
       "      <td>$35.55</td>\n",
       "      <td>$53.34</td>\n",
       "      <td>3</td>\n",
       "      <td>$160.02</td>\n",
       "      <td>5.25</td>\n",
       "      <td>1.39</td>\n",
       "    </tr>\n",
       "    <tr>\n",
       "      <th>4</th>\n",
       "      <td>S29050800001</td>\n",
       "      <td>11/17/2015</td>\n",
       "      <td>3942</td>\n",
       "      <td>Twin Town Liquor</td>\n",
       "      <td>104 HIGHWAY 30 WEST</td>\n",
       "      <td>TOLEDO</td>\n",
       "      <td>52342</td>\n",
       "      <td>104 HIGHWAY 30 WEST\\nTOLEDO 52342\\n(41.985887,...</td>\n",
       "      <td>86.0</td>\n",
       "      <td>Tama</td>\n",
       "      <td>...</td>\n",
       "      <td>249</td>\n",
       "      <td>Disaronno Amaretto Cavalli Mignon 3-50ml Pack</td>\n",
       "      <td>20</td>\n",
       "      <td>150</td>\n",
       "      <td>$6.40</td>\n",
       "      <td>$9.60</td>\n",
       "      <td>2</td>\n",
       "      <td>$19.20</td>\n",
       "      <td>0.30</td>\n",
       "      <td>0.08</td>\n",
       "    </tr>\n",
       "  </tbody>\n",
       "</table>\n",
       "<p>5 rows × 24 columns</p>\n",
       "</div>"
      ],
      "text/plain": [
       "  Invoice/Item Number        Date  Store Number  \\\n",
       "0        S29198800001  11/20/2015          2191   \n",
       "1        S29195400002  11/21/2015          2205   \n",
       "2        S29050300001  11/16/2015          3549   \n",
       "3        S28867700001  11/04/2015          2513   \n",
       "4        S29050800001  11/17/2015          3942   \n",
       "\n",
       "                         Store Name              Address          City  \\\n",
       "0                    Keokuk Spirits            1013 MAIN        KEOKUK   \n",
       "1            Ding's Honk And Holler     900 E WASHINGTON      CLARINDA   \n",
       "2              Quicker Liquor Store         1414 48TH ST  FORT MADISON   \n",
       "3  Hy-Vee Food Store #2 / Iowa City       812  S 1ST AVE     IOWA CITY   \n",
       "4                  Twin Town Liquor  104 HIGHWAY 30 WEST        TOLEDO   \n",
       "\n",
       "  Zip Code                                     Store Location  County Number  \\\n",
       "0    52632    1013 MAIN\\nKEOKUK 52632\\n(40.39978, -91.387531)           56.0   \n",
       "1    51632  900 E WASHINGTON\\nCLARINDA 51632\\n(40.739238, ...           73.0   \n",
       "2    52627  1414 48TH ST\\nFORT MADISON 52627\\n(40.624226, ...           56.0   \n",
       "3    52240                   812 S 1ST AVE\\nIOWA CITY 52240\\n           52.0   \n",
       "4    52342  104 HIGHWAY 30 WEST\\nTOLEDO 52342\\n(41.985887,...           86.0   \n",
       "\n",
       "    County  ...  Item Number                               Item Description  \\\n",
       "0      Lee  ...          297                          Templeton Rye w/Flask   \n",
       "1     Page  ...          297                          Templeton Rye w/Flask   \n",
       "2      Lee  ...          249  Disaronno Amaretto Cavalli Mignon 3-50ml Pack   \n",
       "3  Johnson  ...          237                 Knob Creek w/ Crystal Decanter   \n",
       "4     Tama  ...          249  Disaronno Amaretto Cavalli Mignon 3-50ml Pack   \n",
       "\n",
       "   Pack Bottle Volume (ml)  State Bottle Cost State Bottle Retail  \\\n",
       "0     6                750             $18.09              $27.14   \n",
       "1     6                750             $18.09              $27.14   \n",
       "2    20                150              $6.40               $9.60   \n",
       "3     3               1750             $35.55              $53.34   \n",
       "4    20                150              $6.40               $9.60   \n",
       "\n",
       "   Bottles Sold  Sale (Dollars) Volume Sold (Liters) Volume Sold (Gallons)  \n",
       "0             6         $162.84                 4.50                  1.19  \n",
       "1            12         $325.68                 9.00                  2.38  \n",
       "2             2          $19.20                 0.30                  0.08  \n",
       "3             3         $160.02                 5.25                  1.39  \n",
       "4             2          $19.20                 0.30                  0.08  \n",
       "\n",
       "[5 rows x 24 columns]"
      ]
     },
     "execution_count": 3,
     "metadata": {},
     "output_type": "execute_result"
    }
   ],
   "source": [
    "df_liquid_sales.head()"
   ]
  },
  {
   "cell_type": "code",
   "execution_count": 8,
   "id": "691545ed",
   "metadata": {
    "ExecuteTime": {
     "end_time": "2022-12-14T08:23:55.656328Z",
     "start_time": "2022-12-14T08:23:55.651785Z"
    }
   },
   "outputs": [
    {
     "data": {
      "text/plain": [
       "Index(['Invoice/Item Number', 'Date', 'Store Number', 'Store Name', 'Address',\n",
       "       'City', 'Zip Code', 'Store Location', 'County Number', 'County',\n",
       "       'Category', 'Category Name', 'Vendor Number', 'Vendor Name',\n",
       "       'Item Number', 'Item Description', 'Pack', 'Bottle Volume (ml)',\n",
       "       'State Bottle Cost', 'State Bottle Retail', 'Bottles Sold',\n",
       "       'Sale (Dollars)', 'Volume Sold (Liters)', 'Volume Sold (Gallons)'],\n",
       "      dtype='object')"
      ]
     },
     "execution_count": 8,
     "metadata": {},
     "output_type": "execute_result"
    }
   ],
   "source": [
    "df_liquid_sales.columns"
   ]
  },
  {
   "cell_type": "code",
   "execution_count": 4,
   "id": "ad9684ac",
   "metadata": {
    "ExecuteTime": {
     "end_time": "2022-12-14T08:21:46.263156Z",
     "start_time": "2022-12-14T08:20:51.391648Z"
    }
   },
   "outputs": [
    {
     "name": "stdout",
     "output_type": "stream",
     "text": [
      "Address 2376\n",
      "City 2375\n",
      "Zip Code 2499302\n",
      "Store Location 2375\n",
      "County 79178\n",
      "Category Name 12574991\n",
      "Vendor Name 1\n",
      "State Bottle Cost 10\n",
      "State Bottle Retail 10\n",
      "Sale (Dollars) 10\n"
     ]
    }
   ],
   "source": [
    "# check for mixed types\n",
    "for col in df_liquid_sales.columns.tolist():\n",
    "  weird = (df_liquid_sales[[col]].applymap(type) != df_liquid_sales[[col]].iloc[0].apply(type)).any(axis = 1)\n",
    "  if len (df_liquid_sales[weird]) > 0:\n",
    "    print (col, len (df_liquid_sales[weird]))"
   ]
  },
  {
   "cell_type": "code",
   "execution_count": 6,
   "id": "4276f436",
   "metadata": {
    "ExecuteTime": {
     "end_time": "2022-12-14T08:22:42.882791Z",
     "start_time": "2022-12-14T08:21:59.179842Z"
    }
   },
   "outputs": [
    {
     "data": {
      "text/html": [
       "<div>\n",
       "<style scoped>\n",
       "    .dataframe tbody tr th:only-of-type {\n",
       "        vertical-align: middle;\n",
       "    }\n",
       "\n",
       "    .dataframe tbody tr th {\n",
       "        vertical-align: top;\n",
       "    }\n",
       "\n",
       "    .dataframe thead th {\n",
       "        text-align: right;\n",
       "    }\n",
       "</style>\n",
       "<table border=\"1\" class=\"dataframe\">\n",
       "  <thead>\n",
       "    <tr style=\"text-align: right;\">\n",
       "      <th></th>\n",
       "      <th>Invoice/Item Number</th>\n",
       "      <th>Date</th>\n",
       "      <th>Store Number</th>\n",
       "      <th>Store Name</th>\n",
       "      <th>Address</th>\n",
       "      <th>City</th>\n",
       "      <th>Zip Code</th>\n",
       "      <th>Store Location</th>\n",
       "      <th>County Number</th>\n",
       "      <th>County</th>\n",
       "      <th>...</th>\n",
       "      <th>Item Number</th>\n",
       "      <th>Item Description</th>\n",
       "      <th>Pack</th>\n",
       "      <th>Bottle Volume (ml)</th>\n",
       "      <th>State Bottle Cost</th>\n",
       "      <th>State Bottle Retail</th>\n",
       "      <th>Bottles Sold</th>\n",
       "      <th>Sale (Dollars)</th>\n",
       "      <th>Volume Sold (Liters)</th>\n",
       "      <th>Volume Sold (Gallons)</th>\n",
       "    </tr>\n",
       "  </thead>\n",
       "  <tbody>\n",
       "  </tbody>\n",
       "</table>\n",
       "<p>0 rows × 24 columns</p>\n",
       "</div>"
      ],
      "text/plain": [
       "Empty DataFrame\n",
       "Columns: [Invoice/Item Number, Date, Store Number, Store Name, Address, City, Zip Code, Store Location, County Number, County, Category, Category Name, Vendor Number, Vendor Name, Item Number, Item Description, Pack, Bottle Volume (ml), State Bottle Cost, State Bottle Retail, Bottles Sold, Sale (Dollars), Volume Sold (Liters), Volume Sold (Gallons)]\n",
       "Index: []\n",
       "\n",
       "[0 rows x 24 columns]"
      ]
     },
     "execution_count": 6,
     "metadata": {},
     "output_type": "execute_result"
    }
   ],
   "source": [
    "# finding duplicates\n",
    "\n",
    "df_dups = df_liquid_sales[df_liquid_sales.duplicated()]\n",
    "df_dups"
   ]
  },
  {
   "cell_type": "code",
   "execution_count": 9,
   "id": "5adb197c",
   "metadata": {
    "ExecuteTime": {
     "end_time": "2022-12-14T08:24:50.395078Z",
     "start_time": "2022-12-14T08:24:31.963951Z"
    }
   },
   "outputs": [
    {
     "data": {
      "text/plain": [
       "Invoice/Item Number          0\n",
       "Date                         0\n",
       "Store Number                 0\n",
       "Store Name                   0\n",
       "Address                   2376\n",
       "City                      2375\n",
       "Zip Code                  2420\n",
       "Store Location            2375\n",
       "County Number            79178\n",
       "County                   79178\n",
       "Category                  8020\n",
       "Category Name            16086\n",
       "Vendor Number                3\n",
       "Vendor Name                  1\n",
       "Item Number                  0\n",
       "Item Description             0\n",
       "Pack                         0\n",
       "Bottle Volume (ml)           0\n",
       "State Bottle Cost           10\n",
       "State Bottle Retail         10\n",
       "Bottles Sold                 0\n",
       "Sale (Dollars)              10\n",
       "Volume Sold (Liters)         0\n",
       "Volume Sold (Gallons)        0\n",
       "dtype: int64"
      ]
     },
     "execution_count": 9,
     "metadata": {},
     "output_type": "execute_result"
    }
   ],
   "source": [
    "# finding null values\n",
    "df_liquid_sales.isnull().sum()"
   ]
  },
  {
   "cell_type": "markdown",
   "id": "476e9349",
   "metadata": {},
   "source": [
    "I decided to delete all rows with null values, since I lose less than 1 percent of the data through doing so. That will make the analysis way easyier."
   ]
  },
  {
   "cell_type": "code",
   "execution_count": 15,
   "id": "b8d05ae8",
   "metadata": {
    "ExecuteTime": {
     "end_time": "2022-12-14T08:30:36.664040Z",
     "start_time": "2022-12-14T08:30:14.204670Z"
    }
   },
   "outputs": [],
   "source": [
    "# droping all null values in df\n",
    "df_liquid_sales_clean = df_liquid_sales.dropna()"
   ]
  },
  {
   "cell_type": "code",
   "execution_count": 35,
   "id": "05f76faf",
   "metadata": {
    "ExecuteTime": {
     "end_time": "2022-12-14T08:45:03.613866Z",
     "start_time": "2022-12-14T08:45:03.599485Z"
    }
   },
   "outputs": [
    {
     "data": {
      "text/plain": [
       "(12495974, 24)"
      ]
     },
     "execution_count": 35,
     "metadata": {},
     "output_type": "execute_result"
    }
   ],
   "source": [
    "df_liquid_sales_clean.shape"
   ]
  },
  {
   "cell_type": "code",
   "execution_count": 17,
   "id": "674daeef",
   "metadata": {
    "ExecuteTime": {
     "end_time": "2022-12-14T08:31:45.105119Z",
     "start_time": "2022-12-14T08:31:26.449224Z"
    },
    "scrolled": true
   },
   "outputs": [
    {
     "data": {
      "text/plain": [
       "Invoice/Item Number      0\n",
       "Date                     0\n",
       "Store Number             0\n",
       "Store Name               0\n",
       "Address                  0\n",
       "City                     0\n",
       "Zip Code                 0\n",
       "Store Location           0\n",
       "County Number            0\n",
       "County                   0\n",
       "Category                 0\n",
       "Category Name            0\n",
       "Vendor Number            0\n",
       "Vendor Name              0\n",
       "Item Number              0\n",
       "Item Description         0\n",
       "Pack                     0\n",
       "Bottle Volume (ml)       0\n",
       "State Bottle Cost        0\n",
       "State Bottle Retail      0\n",
       "Bottles Sold             0\n",
       "Sale (Dollars)           0\n",
       "Volume Sold (Liters)     0\n",
       "Volume Sold (Gallons)    0\n",
       "dtype: int64"
      ]
     },
     "execution_count": 17,
     "metadata": {},
     "output_type": "execute_result"
    }
   ],
   "source": [
    "# check again fo null values\n",
    "df_liquid_sales_clean.isnull().sum()"
   ]
  },
  {
   "cell_type": "code",
   "execution_count": null,
   "id": "a9bb50d5",
   "metadata": {},
   "outputs": [],
   "source": [
    "# change data type to string\n",
    "df_liquid_sales_clean = df_liquid_sales_clean.astype({'Zip Code': 'str'})"
   ]
  },
  {
   "cell_type": "code",
   "execution_count": 34,
   "id": "69813d7f",
   "metadata": {
    "ExecuteTime": {
     "end_time": "2022-12-14T08:43:44.920957Z",
     "start_time": "2022-12-14T08:42:47.624796Z"
    },
    "scrolled": true
   },
   "outputs": [],
   "source": [
    "# check for mixed types\n",
    "for col in df_liquid_sales_clean.columns.tolist():\n",
    "  weird = (df_liquid_sales_clean[[col]].applymap(type) != df_liquid_sales_clean[[col]].iloc[0].apply(type)).any(axis = 1)\n",
    "  if len (df_liquid_sales_clean[weird]) > 0:\n",
    "    print (col, len (df_liquid_sales_clean[weird]))"
   ]
  },
  {
   "cell_type": "code",
   "execution_count": 42,
   "id": "c2fdfe22",
   "metadata": {
    "ExecuteTime": {
     "end_time": "2022-12-14T09:04:05.113615Z",
     "start_time": "2022-12-14T09:04:02.805022Z"
    }
   },
   "outputs": [],
   "source": [
    "# droping unnecessary columns\n",
    "df_liquid_sales_clean_dropedCOL = df_liquid_sales_clean.drop(columns=['Store Number', 'County Number', 'County Number', 'Item Number', 'Vendor Number', 'Category'])"
   ]
  },
  {
   "cell_type": "code",
   "execution_count": 43,
   "id": "b9de63ff",
   "metadata": {
    "ExecuteTime": {
     "end_time": "2022-12-14T09:04:05.127404Z",
     "start_time": "2022-12-14T09:04:05.118838Z"
    },
    "scrolled": true
   },
   "outputs": [
    {
     "data": {
      "text/plain": [
       "Index(['Invoice/Item Number', 'Date', 'Store Name', 'Address', 'City',\n",
       "       'Zip Code', 'Store Location', 'County', 'Category Name', 'Vendor Name',\n",
       "       'Item Description', 'Pack', 'Bottle Volume (ml)', 'State Bottle Cost',\n",
       "       'State Bottle Retail', 'Bottles Sold', 'Sale (Dollars)',\n",
       "       'Volume Sold (Liters)', 'Volume Sold (Gallons)'],\n",
       "      dtype='object')"
      ]
     },
     "execution_count": 43,
     "metadata": {},
     "output_type": "execute_result"
    }
   ],
   "source": [
    "df_liquid_sales_clean_dropedCOL.columns"
   ]
  },
  {
   "cell_type": "code",
   "execution_count": 44,
   "id": "a146a280",
   "metadata": {
    "ExecuteTime": {
     "end_time": "2022-12-14T09:04:13.811226Z",
     "start_time": "2022-12-14T09:04:13.804344Z"
    }
   },
   "outputs": [
    {
     "data": {
      "text/plain": [
       "Index(['Invoice/Item Number', 'Date', 'Store Number', 'Store Name', 'Address',\n",
       "       'City', 'Zip Code', 'Store Location', 'County Number', 'County',\n",
       "       'Category', 'Category Name', 'Vendor Number', 'Vendor Name',\n",
       "       'Item Number', 'Item Description', 'Pack', 'Bottle Volume (ml)',\n",
       "       'State Bottle Cost', 'State Bottle Retail', 'Bottles Sold',\n",
       "       'Sale (Dollars)', 'Volume Sold (Liters)', 'Volume Sold (Gallons)'],\n",
       "      dtype='object')"
      ]
     },
     "execution_count": 44,
     "metadata": {},
     "output_type": "execute_result"
    }
   ],
   "source": [
    "df_liquid_sales_clean.columns"
   ]
  },
  {
   "cell_type": "markdown",
   "id": "f7521a86",
   "metadata": {},
   "source": [
    "Data cleaning is done for now, untill I have deeper insights to the data. "
   ]
  },
  {
   "cell_type": "code",
   "execution_count": 46,
   "id": "fea9594f",
   "metadata": {
    "ExecuteTime": {
     "end_time": "2022-12-14T09:30:12.780441Z",
     "start_time": "2022-12-14T09:29:27.561042Z"
    }
   },
   "outputs": [],
   "source": [
    "# export cleaned dataset and cleaned dataset with all columns in case I need them(both as pkl)\n",
    "df_liquid_sales_clean.to_pickle(os.path.join(path, '02 Data','Prepared Data', 'df_liquid_sales_clean_all_columns.pkl'))\n",
    "df_liquid_sales_clean_dropedCOL.to_pickle(os.path.join(path, '02 Data','Prepared Data', 'df_liquid_sales_clean.pkl'))"
   ]
  }
 ],
 "metadata": {
  "kernelspec": {
   "display_name": "Python 3 (ipykernel)",
   "language": "python",
   "name": "python3"
  },
  "language_info": {
   "codemirror_mode": {
    "name": "ipython",
    "version": 3
   },
   "file_extension": ".py",
   "mimetype": "text/x-python",
   "name": "python",
   "nbconvert_exporter": "python",
   "pygments_lexer": "ipython3",
   "version": "3.8.15"
  }
 },
 "nbformat": 4,
 "nbformat_minor": 5
}
