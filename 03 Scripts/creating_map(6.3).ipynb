{
 "cells": [
  {
   "cell_type": "markdown",
   "id": "5667606b",
   "metadata": {},
   "source": [
    "# Content\n",
    "- wrangel dataset\n",
    "- Create a choropleth map\n",
    "- discussing the results"
   ]
  },
  {
   "cell_type": "code",
   "execution_count": 1,
   "id": "8853ff7d",
   "metadata": {
    "ExecuteTime": {
     "end_time": "2022-12-15T19:03:59.456542Z",
     "start_time": "2022-12-15T19:03:56.351371Z"
    },
    "scrolled": true
   },
   "outputs": [],
   "source": [
    "# import lybaries\n",
    "import pandas as pd\n",
    "import numpy as np\n",
    "import seaborn as sns\n",
    "import matplotlib\n",
    "import os\n",
    "import folium\n",
    "import json"
   ]
  },
  {
   "cell_type": "code",
   "execution_count": 2,
   "id": "655c3a9c",
   "metadata": {
    "ExecuteTime": {
     "end_time": "2022-12-15T19:03:59.474333Z",
     "start_time": "2022-12-15T19:03:59.459729Z"
    },
    "scrolled": true
   },
   "outputs": [],
   "source": [
    "%matplotlib inline"
   ]
  },
  {
   "cell_type": "code",
   "execution_count": 3,
   "id": "4df0f2bb",
   "metadata": {
    "ExecuteTime": {
     "end_time": "2022-12-15T19:04:11.236081Z",
     "start_time": "2022-12-15T19:03:59.478359Z"
    },
    "scrolled": true
   },
   "outputs": [],
   "source": [
    "# import data\n",
    "# I use the dataset with all columns\n",
    "\n",
    "path = r'/Users/lennartzeidler/Desktop/Uni/(6) Advances Analytics and Dashboard Design/liquid store sales analysis'\n",
    "sales = pd.read_pickle(os.path.join(path, '02 Data','Prepared Data', 'df_liquid_sales_clean_all_columns.pkl'))"
   ]
  },
  {
   "cell_type": "code",
   "execution_count": 4,
   "id": "b5dca546",
   "metadata": {
    "ExecuteTime": {
     "end_time": "2022-12-15T19:04:11.272685Z",
     "start_time": "2022-12-15T19:04:11.240481Z"
    },
    "scrolled": true
   },
   "outputs": [
    {
     "data": {
      "text/html": [
       "<div>\n",
       "<style scoped>\n",
       "    .dataframe tbody tr th:only-of-type {\n",
       "        vertical-align: middle;\n",
       "    }\n",
       "\n",
       "    .dataframe tbody tr th {\n",
       "        vertical-align: top;\n",
       "    }\n",
       "\n",
       "    .dataframe thead th {\n",
       "        text-align: right;\n",
       "    }\n",
       "</style>\n",
       "<table border=\"1\" class=\"dataframe\">\n",
       "  <thead>\n",
       "    <tr style=\"text-align: right;\">\n",
       "      <th></th>\n",
       "      <th>Invoice/Item Number</th>\n",
       "      <th>Date</th>\n",
       "      <th>Store Number</th>\n",
       "      <th>Store Name</th>\n",
       "      <th>Address</th>\n",
       "      <th>City</th>\n",
       "      <th>Zip Code</th>\n",
       "      <th>Store Location</th>\n",
       "      <th>County Number</th>\n",
       "      <th>County</th>\n",
       "      <th>...</th>\n",
       "      <th>Item Number</th>\n",
       "      <th>Item Description</th>\n",
       "      <th>Pack</th>\n",
       "      <th>Bottle Volume (ml)</th>\n",
       "      <th>State Bottle Cost</th>\n",
       "      <th>State Bottle Retail</th>\n",
       "      <th>Bottles Sold</th>\n",
       "      <th>Sale (Dollars)</th>\n",
       "      <th>Volume Sold (Liters)</th>\n",
       "      <th>Volume Sold (Gallons)</th>\n",
       "    </tr>\n",
       "  </thead>\n",
       "  <tbody>\n",
       "    <tr>\n",
       "      <th>6</th>\n",
       "      <td>S28865700001</td>\n",
       "      <td>11/09/2015</td>\n",
       "      <td>2538</td>\n",
       "      <td>Hy-Vee Food Store #3 / Waterloo</td>\n",
       "      <td>1422 FLAMMANG DR</td>\n",
       "      <td>WATERLOO</td>\n",
       "      <td>50702</td>\n",
       "      <td>1422 FLAMMANG DR\\nWATERLOO 50702\\n(42.459938, ...</td>\n",
       "      <td>7.0</td>\n",
       "      <td>Black Hawk</td>\n",
       "      <td>...</td>\n",
       "      <td>238</td>\n",
       "      <td>Forbidden Secret Coffee Pack</td>\n",
       "      <td>6</td>\n",
       "      <td>1500</td>\n",
       "      <td>$11.62</td>\n",
       "      <td>$17.43</td>\n",
       "      <td>6</td>\n",
       "      <td>$104.58</td>\n",
       "      <td>9.0</td>\n",
       "      <td>2.38</td>\n",
       "    </tr>\n",
       "    <tr>\n",
       "      <th>8</th>\n",
       "      <td>S29339300091</td>\n",
       "      <td>11/30/2015</td>\n",
       "      <td>2662</td>\n",
       "      <td>Hy-Vee Wine &amp; Spirits / Muscatine</td>\n",
       "      <td>522 MULBERRY, SUITE A</td>\n",
       "      <td>MUSCATINE</td>\n",
       "      <td>52761</td>\n",
       "      <td>522 MULBERRY, SUITE A\\nMUSCATINE 52761\\n</td>\n",
       "      <td>70.0</td>\n",
       "      <td>Muscatine</td>\n",
       "      <td>...</td>\n",
       "      <td>173</td>\n",
       "      <td>Laphroaig w/ Whiskey Stones</td>\n",
       "      <td>12</td>\n",
       "      <td>750</td>\n",
       "      <td>$19.58</td>\n",
       "      <td>$29.37</td>\n",
       "      <td>4</td>\n",
       "      <td>$117.48</td>\n",
       "      <td>3.0</td>\n",
       "      <td>0.79</td>\n",
       "    </tr>\n",
       "    <tr>\n",
       "      <th>13</th>\n",
       "      <td>S28866900001</td>\n",
       "      <td>11/11/2015</td>\n",
       "      <td>3650</td>\n",
       "      <td>Spirits, Stogies and Stuff</td>\n",
       "      <td>118 South Main St.</td>\n",
       "      <td>HOLSTEIN</td>\n",
       "      <td>51025</td>\n",
       "      <td>118 South Main St.\\nHOLSTEIN 51025\\n(42.490073...</td>\n",
       "      <td>47.0</td>\n",
       "      <td>Ida</td>\n",
       "      <td>...</td>\n",
       "      <td>238</td>\n",
       "      <td>Forbidden Secret Coffee Pack</td>\n",
       "      <td>6</td>\n",
       "      <td>1500</td>\n",
       "      <td>$11.62</td>\n",
       "      <td>$17.43</td>\n",
       "      <td>1</td>\n",
       "      <td>$17.43</td>\n",
       "      <td>1.5</td>\n",
       "      <td>0.40</td>\n",
       "    </tr>\n",
       "    <tr>\n",
       "      <th>18</th>\n",
       "      <td>S29134300126</td>\n",
       "      <td>11/18/2015</td>\n",
       "      <td>3723</td>\n",
       "      <td>J D Spirits Liquor</td>\n",
       "      <td>1023  9TH ST</td>\n",
       "      <td>ONAWA</td>\n",
       "      <td>51040</td>\n",
       "      <td>1023 9TH ST\\nONAWA 51040\\n(42.025841, -96.095845)</td>\n",
       "      <td>67.0</td>\n",
       "      <td>Monona</td>\n",
       "      <td>...</td>\n",
       "      <td>258</td>\n",
       "      <td>Rumchata \"GoChatas\"</td>\n",
       "      <td>1</td>\n",
       "      <td>6000</td>\n",
       "      <td>$99.00</td>\n",
       "      <td>$148.50</td>\n",
       "      <td>1</td>\n",
       "      <td>$148.50</td>\n",
       "      <td>6.0</td>\n",
       "      <td>1.59</td>\n",
       "    </tr>\n",
       "    <tr>\n",
       "      <th>21</th>\n",
       "      <td>S29282800048</td>\n",
       "      <td>11/23/2015</td>\n",
       "      <td>2642</td>\n",
       "      <td>Hy-Vee Wine and Spirits / Pella</td>\n",
       "      <td>512 E OSKALOOSA</td>\n",
       "      <td>PELLA</td>\n",
       "      <td>50219</td>\n",
       "      <td>512 E OSKALOOSA\\nPELLA 50219\\n(41.397023, -92....</td>\n",
       "      <td>63.0</td>\n",
       "      <td>Marion</td>\n",
       "      <td>...</td>\n",
       "      <td>238</td>\n",
       "      <td>Forbidden Secret Coffee Pack</td>\n",
       "      <td>6</td>\n",
       "      <td>1500</td>\n",
       "      <td>$11.62</td>\n",
       "      <td>$17.43</td>\n",
       "      <td>6</td>\n",
       "      <td>$104.58</td>\n",
       "      <td>9.0</td>\n",
       "      <td>2.38</td>\n",
       "    </tr>\n",
       "  </tbody>\n",
       "</table>\n",
       "<p>5 rows × 24 columns</p>\n",
       "</div>"
      ],
      "text/plain": [
       "   Invoice/Item Number        Date  Store Number  \\\n",
       "6         S28865700001  11/09/2015          2538   \n",
       "8         S29339300091  11/30/2015          2662   \n",
       "13        S28866900001  11/11/2015          3650   \n",
       "18        S29134300126  11/18/2015          3723   \n",
       "21        S29282800048  11/23/2015          2642   \n",
       "\n",
       "                           Store Name                Address       City  \\\n",
       "6     Hy-Vee Food Store #3 / Waterloo       1422 FLAMMANG DR   WATERLOO   \n",
       "8   Hy-Vee Wine & Spirits / Muscatine  522 MULBERRY, SUITE A  MUSCATINE   \n",
       "13         Spirits, Stogies and Stuff     118 South Main St.   HOLSTEIN   \n",
       "18                 J D Spirits Liquor           1023  9TH ST      ONAWA   \n",
       "21    Hy-Vee Wine and Spirits / Pella        512 E OSKALOOSA      PELLA   \n",
       "\n",
       "   Zip Code                                     Store Location  County Number  \\\n",
       "6     50702  1422 FLAMMANG DR\\nWATERLOO 50702\\n(42.459938, ...            7.0   \n",
       "8     52761           522 MULBERRY, SUITE A\\nMUSCATINE 52761\\n           70.0   \n",
       "13    51025  118 South Main St.\\nHOLSTEIN 51025\\n(42.490073...           47.0   \n",
       "18    51040  1023 9TH ST\\nONAWA 51040\\n(42.025841, -96.095845)           67.0   \n",
       "21    50219  512 E OSKALOOSA\\nPELLA 50219\\n(41.397023, -92....           63.0   \n",
       "\n",
       "        County  ...  Item Number              Item Description  Pack  \\\n",
       "6   Black Hawk  ...          238  Forbidden Secret Coffee Pack     6   \n",
       "8    Muscatine  ...          173   Laphroaig w/ Whiskey Stones    12   \n",
       "13         Ida  ...          238  Forbidden Secret Coffee Pack     6   \n",
       "18      Monona  ...          258           Rumchata \"GoChatas\"     1   \n",
       "21      Marion  ...          238  Forbidden Secret Coffee Pack     6   \n",
       "\n",
       "   Bottle Volume (ml)  State Bottle Cost State Bottle Retail  Bottles Sold  \\\n",
       "6                1500             $11.62              $17.43             6   \n",
       "8                 750             $19.58              $29.37             4   \n",
       "13               1500             $11.62              $17.43             1   \n",
       "18               6000             $99.00             $148.50             1   \n",
       "21               1500             $11.62              $17.43             6   \n",
       "\n",
       "    Sale (Dollars) Volume Sold (Liters) Volume Sold (Gallons)  \n",
       "6          $104.58                  9.0                  2.38  \n",
       "8          $117.48                  3.0                  0.79  \n",
       "13          $17.43                  1.5                  0.40  \n",
       "18         $148.50                  6.0                  1.59  \n",
       "21         $104.58                  9.0                  2.38  \n",
       "\n",
       "[5 rows x 24 columns]"
      ]
     },
     "execution_count": 4,
     "metadata": {},
     "output_type": "execute_result"
    }
   ],
   "source": [
    "sales.head()"
   ]
  },
  {
   "cell_type": "markdown",
   "id": "5ed7c9c3",
   "metadata": {},
   "source": [
    "### wrangel dataset\n",
    "I got my Json from https://geodata.iowa.gov/datasets/iowa::iowa-county-boundaries/explore?location=41.962084%2C-93.498741%2C7.59 \n"
   ]
  },
  {
   "cell_type": "code",
   "execution_count": 5,
   "id": "6ec12259",
   "metadata": {
    "ExecuteTime": {
     "end_time": "2022-12-15T19:04:11.510353Z",
     "start_time": "2022-12-15T19:04:11.275247Z"
    },
    "scrolled": true
   },
   "outputs": [],
   "source": [
    "# put country number into sales df\n",
    "sales['Country Number'] = sales['County Number'].astype(int)"
   ]
  },
  {
   "cell_type": "code",
   "execution_count": 6,
   "id": "92b4e02c",
   "metadata": {
    "ExecuteTime": {
     "end_time": "2022-12-15T19:04:11.620234Z",
     "start_time": "2022-12-15T19:04:11.512162Z"
    },
    "scrolled": false
   },
   "outputs": [
    {
     "data": {
      "text/plain": [
       "77.0    2275842\n",
       "57.0    1049769\n",
       "82.0     780681\n",
       "7.0      685137\n",
       "52.0     626067\n",
       "         ...   \n",
       "2.0       10433\n",
       "93.0      10355\n",
       "26.0       9677\n",
       "80.0       9062\n",
       "36.0       1243\n",
       "Name: County Number, Length: 99, dtype: int64"
      ]
     },
     "execution_count": 6,
     "metadata": {},
     "output_type": "execute_result"
    }
   ],
   "source": [
    "sales['County Number'].value_counts()"
   ]
  },
  {
   "cell_type": "code",
   "execution_count": 7,
   "id": "a4528b71",
   "metadata": {
    "ExecuteTime": {
     "end_time": "2022-12-15T19:04:12.896237Z",
     "start_time": "2022-12-15T19:04:11.622733Z"
    },
    "scrolled": true
   },
   "outputs": [],
   "source": [
    "# create subset for map\n",
    "sub = sales[['Sale (Dollars)', 'County Number']]"
   ]
  },
  {
   "cell_type": "code",
   "execution_count": 8,
   "id": "cff53fe5",
   "metadata": {
    "ExecuteTime": {
     "end_time": "2022-12-15T19:04:18.328500Z",
     "start_time": "2022-12-15T19:04:12.898451Z"
    },
    "scrolled": false
   },
   "outputs": [
    {
     "name": "stderr",
     "output_type": "stream",
     "text": [
      "/var/folders/zw/37lckzg54ll7byfmgjl5pkw40000gn/T/ipykernel_16024/1281162340.py:2: FutureWarning: The default value of regex will change from True to False in a future version. In addition, single character regular expressions will *not* be treated as literal strings when regex=True.\n",
      "  sub['Sale (Dollars)'] = sub['Sale (Dollars)'].str.replace(\"$\",\"\")\n",
      "/var/folders/zw/37lckzg54ll7byfmgjl5pkw40000gn/T/ipykernel_16024/1281162340.py:2: SettingWithCopyWarning: \n",
      "A value is trying to be set on a copy of a slice from a DataFrame.\n",
      "Try using .loc[row_indexer,col_indexer] = value instead\n",
      "\n",
      "See the caveats in the documentation: https://pandas.pydata.org/pandas-docs/stable/user_guide/indexing.html#returning-a-view-versus-a-copy\n",
      "  sub['Sale (Dollars)'] = sub['Sale (Dollars)'].str.replace(\"$\",\"\")\n",
      "/var/folders/zw/37lckzg54ll7byfmgjl5pkw40000gn/T/ipykernel_16024/1281162340.py:3: SettingWithCopyWarning: \n",
      "A value is trying to be set on a copy of a slice from a DataFrame.\n",
      "Try using .loc[row_indexer,col_indexer] = value instead\n",
      "\n",
      "See the caveats in the documentation: https://pandas.pydata.org/pandas-docs/stable/user_guide/indexing.html#returning-a-view-versus-a-copy\n",
      "  sub['Sale (Dollars)'] = sub['Sale (Dollars)'].astype(float)\n"
     ]
    }
   ],
   "source": [
    "# cleaning 'Sale (Dollars)' column\n",
    "sub['Sale (Dollars)'] = sub['Sale (Dollars)'].str.replace(\"$\",\"\")\n",
    "sub['Sale (Dollars)'] = sub['Sale (Dollars)'].astype(float)"
   ]
  },
  {
   "cell_type": "code",
   "execution_count": 9,
   "id": "9e6cabfb",
   "metadata": {
    "ExecuteTime": {
     "end_time": "2022-12-15T19:04:18.340520Z",
     "start_time": "2022-12-15T19:04:18.333642Z"
    },
    "scrolled": false
   },
   "outputs": [
    {
     "data": {
      "text/html": [
       "<div>\n",
       "<style scoped>\n",
       "    .dataframe tbody tr th:only-of-type {\n",
       "        vertical-align: middle;\n",
       "    }\n",
       "\n",
       "    .dataframe tbody tr th {\n",
       "        vertical-align: top;\n",
       "    }\n",
       "\n",
       "    .dataframe thead th {\n",
       "        text-align: right;\n",
       "    }\n",
       "</style>\n",
       "<table border=\"1\" class=\"dataframe\">\n",
       "  <thead>\n",
       "    <tr style=\"text-align: right;\">\n",
       "      <th></th>\n",
       "      <th>Sale (Dollars)</th>\n",
       "      <th>County Number</th>\n",
       "    </tr>\n",
       "  </thead>\n",
       "  <tbody>\n",
       "    <tr>\n",
       "      <th>6</th>\n",
       "      <td>104.58</td>\n",
       "      <td>7.0</td>\n",
       "    </tr>\n",
       "    <tr>\n",
       "      <th>8</th>\n",
       "      <td>117.48</td>\n",
       "      <td>70.0</td>\n",
       "    </tr>\n",
       "    <tr>\n",
       "      <th>13</th>\n",
       "      <td>17.43</td>\n",
       "      <td>47.0</td>\n",
       "    </tr>\n",
       "    <tr>\n",
       "      <th>18</th>\n",
       "      <td>148.50</td>\n",
       "      <td>67.0</td>\n",
       "    </tr>\n",
       "    <tr>\n",
       "      <th>21</th>\n",
       "      <td>104.58</td>\n",
       "      <td>63.0</td>\n",
       "    </tr>\n",
       "  </tbody>\n",
       "</table>\n",
       "</div>"
      ],
      "text/plain": [
       "    Sale (Dollars)  County Number\n",
       "6           104.58            7.0\n",
       "8           117.48           70.0\n",
       "13           17.43           47.0\n",
       "18          148.50           67.0\n",
       "21          104.58           63.0"
      ]
     },
     "execution_count": 9,
     "metadata": {},
     "output_type": "execute_result"
    }
   ],
   "source": [
    "sub.head()"
   ]
  },
  {
   "cell_type": "code",
   "execution_count": 10,
   "id": "53361d1e",
   "metadata": {
    "ExecuteTime": {
     "end_time": "2022-12-15T19:04:18.735183Z",
     "start_time": "2022-12-15T19:04:18.342812Z"
    },
    "scrolled": true
   },
   "outputs": [
    {
     "data": {
      "text/plain": [
       "count    1.249597e+07\n",
       "mean     1.165708e+02\n",
       "std      3.850013e+02\n",
       "min      0.000000e+00\n",
       "25%      2.540000e+01\n",
       "50%      6.714000e+01\n",
       "75%      1.327200e+02\n",
       "max      2.541000e+05\n",
       "Name: Sale (Dollars), dtype: float64"
      ]
     },
     "execution_count": 10,
     "metadata": {},
     "output_type": "execute_result"
    }
   ],
   "source": [
    "sub['Sale (Dollars)'].describe()"
   ]
  },
  {
   "cell_type": "code",
   "execution_count": 11,
   "id": "eeb046f2",
   "metadata": {
    "ExecuteTime": {
     "end_time": "2022-12-15T19:04:19.234185Z",
     "start_time": "2022-12-15T19:04:18.737512Z"
    },
    "scrolled": true
   },
   "outputs": [],
   "source": [
    "# excluding outliers\n",
    "sub = sub[sub['Sale (Dollars)'] < 500]"
   ]
  },
  {
   "cell_type": "code",
   "execution_count": 12,
   "id": "5950dc7a",
   "metadata": {
    "ExecuteTime": {
     "end_time": "2022-12-15T19:04:19.590701Z",
     "start_time": "2022-12-15T19:04:19.236755Z"
    },
    "scrolled": true
   },
   "outputs": [
    {
     "data": {
      "text/plain": [
       "count    1.225033e+07\n",
       "mean     8.965088e+01\n",
       "std      8.364417e+01\n",
       "min      0.000000e+00\n",
       "25%      2.475000e+01\n",
       "50%      6.552000e+01\n",
       "75%      1.260000e+02\n",
       "max      4.998600e+02\n",
       "Name: Sale (Dollars), dtype: float64"
      ]
     },
     "execution_count": 12,
     "metadata": {},
     "output_type": "execute_result"
    }
   ],
   "source": [
    "sub['Sale (Dollars)'].describe()"
   ]
  },
  {
   "cell_type": "code",
   "execution_count": 13,
   "id": "c528229c",
   "metadata": {
    "ExecuteTime": {
     "end_time": "2022-12-15T19:04:19.595038Z",
     "start_time": "2022-12-15T19:04:19.592712Z"
    },
    "scrolled": true
   },
   "outputs": [],
   "source": [
    "# Import \".json\" file for the whole world \n",
    "\n",
    "country_geo = r'/Users/lennartzeidler/Desktop/Uni/(6) Advances Analytics and Dashboard Design/liquid store sales analysis/02 Data/map-json/Iowa_County_Boundaries.geojson'"
   ]
  },
  {
   "cell_type": "code",
   "execution_count": 14,
   "id": "cc5d5892",
   "metadata": {
    "ExecuteTime": {
     "end_time": "2022-12-15T19:04:19.731901Z",
     "start_time": "2022-12-15T19:04:19.597378Z"
    },
    "scrolled": false
   },
   "outputs": [
    {
     "name": "stdout",
     "output_type": "stream",
     "text": [
      "{'type': 'Feature', 'properties': {'OBJECTID': 1, 'PERIMETER': 193975.5, 'DOMCountyID': 60, 'FIPS': '19119', 'FIPS_INT': 19119, 'CountyName': 'Lyon', 'StateAbbr': 'IA', 'SHAPE_Length': 2.2127526708553003, 'SHAPE_Area': 0.1691018345380776}, 'geometry': {'type': 'MultiPolygon', 'coordinates': [[[[-96.59915441799996, 43.500333546000036], [-96.58646743099996, 43.500300485000025], [-96.56643811899994, 43.50023442100007], [-96.54643406899999, 43.50020006400007], [-96.52654343799998, 43.500158690000035], [-96.52404983099996, 43.50015462500005], [-96.50653798199994, 43.500333451000074], [-96.50060923499996, 43.500389262000056], [-96.48654343699997, 43.50040510800005], [-96.46656928699997, 43.500292469000044], [-96.44674280099997, 43.50029792200007], [-96.44659578999995, 43.50030235600008], [-96.42979997999998, 43.50029445100006], [-96.40981507599997, 43.500298232000034], [-96.40967674099994, 43.500302359000045], [-96.389988814, 43.50028479800005], [-96.37560426999994, 43.50028739100003], [-96.375008042, 43.50028699200004], [-96.37015497399995, 43.50029514700003], [-96.37000930299996, 43.500299443000074], [-96.34981823099997, 43.50010970300008], [-96.329640225, 43.500159100000076], [-96.31373050699995, 43.500180295000064], [-96.29370276199995, 43.50021897200003], [-96.27368833399998, 43.50013670100003], [-96.25379495699997, 43.500281562000055], [-96.23378989299994, 43.50013808800003], [-96.21408148999996, 43.500108828000066], [-96.21392846599997, 43.50011313200008], [-96.19575503099998, 43.50019959200006], [-96.19559563499996, 43.50020404900005], [-96.17574751599994, 43.50017206700005], [-96.15589772999994, 43.50022671200003], [-96.15575801199998, 43.50023057000004], [-96.13604652399994, 43.50018790200005], [-96.11620112399999, 43.500280531000044], [-96.09605077099997, 43.50017088300007], [-96.07786350099997, 43.50018489900003], [-96.05802433499997, 43.50028523900005], [-96.03802072099995, 43.50028745900005], [-96.01816844499996, 43.50017412700004], [-96.00045191799995, 43.50018137100005], [-95.99999398399996, 43.500175385000034], [-95.99817916599994, 43.50016899000008], [-95.97802310199995, 43.50013778600004], [-95.96044364599999, 43.500108331000035], [-95.94043897399996, 43.50006656100004], [-95.92045135999996, 43.50013789500008], [-95.90059384799997, 43.50009437700004], [-95.88089457699994, 43.50015145900005], [-95.87558650999995, 43.50007805100006], [-95.87483855299996, 43.500060853000036], [-95.860890252, 43.49997867600007], [-95.860875691, 43.490615450000064], [-95.86087561199997, 43.49050741100007], [-95.86084550599998, 43.47607560800003], [-95.86084542799995, 43.475967568000044], [-95.86081412799996, 43.46166181700005], [-95.86081405199997, 43.46155377600007], [-95.86078472299994, 43.447121898000034], [-95.86078310399995, 43.44701389700003], [-95.86060087599998, 43.43258581600003], [-95.86055532399996, 43.41804624500003], [-95.86055567499994, 43.417947197000046], [-95.86052500899996, 43.40350626500003], [-95.86052536199998, 43.40340721700005], [-95.86049373699996, 43.388966280000034], [-95.86037142399994, 43.37453658700008], [-95.86047772699999, 43.36000210700007], [-95.86043324899998, 43.34548037500008], [-95.86082965399999, 43.33008323300004], [-95.86093559799997, 43.31555768000004], [-95.86117985399994, 43.30103764000006], [-95.86143888099997, 43.28672428900006], [-95.86168432099998, 43.27208711600008], [-95.86192725599994, 43.25766606600007], [-95.86192950299994, 43.257557965000046], [-95.88182528899995, 43.25767055600005], [-95.90181452799999, 43.25780431800007], [-95.90196717899994, 43.257800444000054], [-95.92165426499997, 43.25782134800005], [-95.94165670799998, 43.25783974500007], [-95.96134071799997, 43.25764679500003], [-95.96149336199994, 43.25764284200005], [-95.98043007799998, 43.257763072000046], [-96.00012983799996, 43.258094234000055], [-96.02010276699997, 43.25844182800006], [-96.03939105199998, 43.25881313000008], [-96.05928842699996, 43.258282518000044], [-96.05942625599994, 43.25827883000005], [-96.07917065099997, 43.25774884300006], [-96.09801623999994, 43.257212784000046], [-96.11805072599998, 43.257217429000036], [-96.11820334499998, 43.257213267000054], [-96.12508451599996, 43.25733152500004], [-96.12543761399996, 43.25732187300008], [-96.13803973599994, 43.25731884100003], [-96.15793853399998, 43.25732020100003], [-96.17782086099999, 43.25740858200004], [-96.19787091899997, 43.25749780900003], [-96.21639620099995, 43.25738331900004], [-96.23629003899998, 43.25745217600007], [-96.25587054599998, 43.25762552800006], [-96.27572356599995, 43.25751760900005], [-96.29574365199994, 43.25765351600006], [-96.31545945299996, 43.25776772200004], [-96.33412047399997, 43.257558148000044], [-96.35399033399995, 43.257670200000064], [-96.37356795599999, 43.25800349700006], [-96.37504885399994, 43.25800480300006], [-96.37552187799997, 43.25798183400008], [-96.39299383699995, 43.25814886100005], [-96.41290856999996, 43.25831233400004], [-96.43253094399995, 43.25859815300004], [-96.45032429199995, 43.25875574300005], [-96.46993326699999, 43.25890947700003], [-96.47008564899994, 43.25890485100007], [-96.48969439699994, 43.25918123900004], [-96.50956575399994, 43.25941909800008], [-96.50971447699999, 43.25941453000007], [-96.52938367799999, 43.259610029000044], [-96.54905274799995, 43.26016227300005], [-96.55508237799995, 43.26023594000003], [-96.55510791099994, 43.25991102200004], [-96.55582774699997, 43.25964553100005], [-96.55657657599994, 43.25921707200007], [-96.55732322599994, 43.25909479300003], [-96.55805646099998, 43.25909897400004], [-96.55883521399994, 43.25903870900004], [-96.55956676999995, 43.259033929000054], [-96.56045284899994, 43.259249417000035], [-96.56119905199995, 43.25937021800007], [-96.56208417499994, 43.259720773000026], [-96.56284830699997, 43.25983200200005], [-96.56374828099996, 43.26007404000006], [-96.56445030699996, 43.26019619900006], [-96.56486723699999, 43.260354257000074], [-96.56521265399994, 43.26048753600003], [-96.56579309299997, 43.261081657000034], [-96.56623501799999, 43.26164408500006], [-96.56698282799994, 43.26196287300007], [-96.56771462999995, 43.262192123000034], [-96.56861690299996, 43.262308003000044], [-96.56872655799998, 43.262349595000046], [-96.56937801199996, 43.262554333000026], [-96.57026430699995, 43.26298581900005], [-96.57084290699999, 43.26354395800007], [-96.57111763399996, 43.26409358400008], [-96.57156150199995, 43.26466493400005], [-96.57230852299995, 43.265136770000026], [-96.57304035699997, 43.26547402500006], [-96.57378860999995, 43.26590079600004], [-96.57452115999996, 43.26635506300005], [-96.57513120199997, 43.266903193000076], [-96.57540588399996, 43.26747081700006], [-96.57629068799997, 43.268019346000074], [-96.57702353399998, 43.26839255700003], [-96.57777026499997, 43.26847721900003], [-96.57854879099995, 43.268263768000054], [-96.57943394499995, 43.26819102600007], [-96.58018228499998, 43.26805053700008], [-96.58109738999997, 43.26819292600004], [-96.58181435499995, 43.26806241200006], [-96.58257806299997, 43.26784939800007], [-96.58332561799995, 43.26778094000008], [-96.58424135099995, 43.26791428100006], [-96.58494329899997, 43.26843246400006], [-96.58526342999994, 43.26903465200007], [-96.58553835999999, 43.269647260000056], [-96.58553753599995, 43.27019649300007], [-96.58520248199994, 43.270765218000065], [-96.58520280899995, 43.27131441600005], [-96.58564455699997, 43.271849762000045], [-96.58624072499998, 43.27243428100007], [-96.58651467299995, 43.27298389300006], [-96.58651419599994, 43.27354211900007], [-96.58651568999994, 43.27409127900006], [-96.58618057899997, 43.27474103900005], [-96.585553727, 43.27529191200006], [-96.58480574199996, 43.27571153200006], [-96.58451524299994, 43.276242842000045], [-96.58389076199995, 43.27681163800003], [-96.58318842599994, 43.27645552300004], [-96.58318811399994, 43.27590632500005], [-96.58347766299994, 43.27533903300008], [-96.58334166799995, 43.274830104000046], [-96.58259399699995, 43.274583447000055], [-96.58184650699997, 43.27458887500006], [-96.581097447, 43.27499049700003], [-96.58104337999998, 43.275181262000046], [-96.58093024899995, 43.27556295100004], [-96.58076261799994, 43.27610840800003], [-96.58028916399996, 43.27667245200007], [-96.57957153799998, 43.27708208300004], [-96.57879397199997, 43.27762863600003], [-96.57818389099998, 43.27815193300006], [-96.57772562499997, 43.27874250200006], [-96.57771083999995, 43.279373203000034], [-96.57784870099994, 43.28006214800007], [-96.57812259999997, 43.28071982300003], [-96.57841183299996, 43.28138602000007], [-96.57854948799996, 43.281903905000036], [-96.57855081599996, 43.28247107800007], [-96.57854974499998, 43.28302031900006], [-96.57868754499998, 43.28358321800005], [-96.57882400199998, 43.284146157000066], [-96.57925224199994, 43.28469995700004], [-96.57998419299997, 43.285244240000054], [-96.58056362099995, 43.285919345000025], [-96.58083874, 43.28646893400003], [-96.58114327499999, 43.28701760000007], [-96.58143373499996, 43.287575710000056], [-96.58138837599995, 43.28825238600007], [-96.58138858299998, 43.28881959300003], [-96.58138754099997, 43.289368833000026], [-96.581217929, 43.289671260000034], [-96.58109724399998, 43.28988212100006], [-96.58076161099996, 43.29056789400005], [-96.58045746, 43.29111762900004], [-96.57984745099998, 43.29174897300004], [-96.57937310799997, 43.29227702700007], [-96.57923642299994, 43.29284852200004], [-96.57923671099996, 43.29339772000003], [-96.57920623799998, 43.293947881000065], [-96.57951185599995, 43.29451452400008], [-96.57966344499994, 43.29505898100007], [-96.57948085899994, 43.295622911000066], [-96.57990731999996, 43.29616776000006], [-96.58064099299997, 43.296171781000055], [-96.58138843299997, 43.295761209000034], [-96.58218199899994, 43.295421214000044], [-96.58263932399996, 43.29487567600006], [-96.58326471199996, 43.294315862000076], [-96.58387595799996, 43.29366645300007], [-96.58462406599995, 43.29326484400008], [-96.58537033899995, 43.29291730600005], [-96.586119202"
     ]
    },
    {
     "data": {
      "text/html": [
       "<b>limit_output extension: Maximum message size of 10000 exceeded with 1446720 characters</b>"
      ]
     },
     "metadata": {},
     "output_type": "display_data"
    }
   ],
   "source": [
    "# taking a look at the file\n",
    "f = open('/Users/lennartzeidler/Desktop/Uni/(6) Advances Analytics and Dashboard Design/liquid store sales analysis/02 Data/map-json/Iowa_County_Boundaries.geojson')\n",
    "data = json.load(f)\n",
    "leng = 0\n",
    "for i in data['features']:\n",
    "    print(i)"
   ]
  },
  {
   "cell_type": "markdown",
   "id": "3e845342",
   "metadata": {},
   "source": [
    "### Create a choropleth map"
   ]
  },
  {
   "cell_type": "code",
   "execution_count": 17,
   "id": "7e2fa534",
   "metadata": {
    "ExecuteTime": {
     "end_time": "2022-12-15T19:05:13.044355Z",
     "start_time": "2022-12-15T19:05:08.581767Z"
    },
    "scrolled": true
   },
   "outputs": [
    {
     "data": {
      "text/html": [
       "<div style=\"width:100%;\"><div style=\"position:relative;width:100%;height:0;padding-bottom:60%;\"><span style=\"color:#565656\">Make this Notebook Trusted to load map: File -> Trust Notebook</span><iframe srcdoc=\"&lt;!DOCTYPE html&gt;\n",
       "&lt;html&gt;\n",
       "&lt;head&gt;\n",
       "    \n",
       "    &lt;meta http-equiv=&quot;content-type&quot; content=&quot;text/html; charset=UTF-8&quot; /&gt;\n",
       "    \n",
       "        &lt;script&gt;\n",
       "            L_NO_TOUCH = false;\n",
       "            L_DISABLE_3D = false;\n",
       "        &lt;/script&gt;\n",
       "    \n",
       "    &lt;style&gt;html, body {width: 100%;height: 100%;margin: 0;padding: 0;}&lt;/style&gt;\n",
       "    &lt;style&gt;#map {position:absolute;top:0;bottom:0;right:0;left:0;}&lt;/style&gt;\n",
       "    &lt;script src=&quot;https://cdn.jsdelivr.net/npm/leaflet@1.6.0/dist/leaflet.js&quot;&gt;&lt;/script&gt;\n",
       "    &lt;script src=&quot;https://code.jquery.com/jquery-1.12.4.min.js&quot;&gt;&lt;/script&gt;\n",
       "    &lt;script src=&quot;https://maxcdn.bootstrapcdn.com/bootstrap/3.2.0/js/bootstrap.min.js&quot;&gt;&lt;/script&gt;\n",
       "    &lt;script src=&quot;https://cdnjs.cloudflare.com/ajax/libs/Leaflet.awesome-markers/2.0.2/leaflet.awesome-markers.js&quot;&gt;&lt;/script&gt;\n",
       "    &lt;link rel=&quot;stylesheet&quot; href=&quot;https://cdn.jsdelivr.net/npm/leaflet@1.6.0/dist/leaflet.css&quot;/&gt;\n",
       "    &lt;link rel=&quot;stylesheet&quot; href=&quot;https://maxcdn.bootstrapcdn.com/bootstrap/3.2.0/css/bootstrap.min.css&quot;/&gt;\n",
       "    &lt;link rel=&quot;stylesheet&quot; href=&quot;https://maxcdn.bootstrapcdn.com/bootstrap/3.2.0/css/bootstrap-theme.min.css&quot;/&gt;\n",
       "    &lt;link rel=&quot;stylesheet&quot; href=&quot;https://maxcdn.bootstrapcdn.com/font-awesome/4.6.3/css/font-awesome.min.css&quot;/&gt;\n",
       "    &lt;link rel=&quot;stylesheet&quot; href=&quot;https://cdnjs.cloudflare.com/ajax/libs/Leaflet.awesome-markers/2.0.2/leaflet.awesome-markers.css&quot;/&gt;\n",
       "    &lt;link rel=&quot;stylesheet&quot; href=&quot;https://cdn.jsdelivr.net/gh/python-visualization/folium/folium/templates/leaflet.awesome.rotate.min.css&quot;/&gt;\n",
       "    \n",
       "            &lt;meta name=&quot;viewport&quot; content=&quot;width=device-width,\n",
       "                initial-scale=1.0, maximum-scale=1.0, user-scalable=no&quot; /&gt;\n",
       "            &lt;style&gt;\n",
       "                #map_247d60a522ead2fdd724bdac6a1cecee {\n",
       "                    position: relative;\n",
       "                    width: 100.0%;\n",
       "                    height: 100.0%;\n",
       "                    left: 0.0%;\n",
       "                    top: 0.0%;\n",
       "                }\n",
       "            &lt;/style&gt;\n",
       "        \n",
       "    &lt;script src=&quot;https://cdnjs.cloudflare.com/ajax/libs/d3/3.5.5/d3.min.js&quot;&gt;&lt;/script&gt;\n",
       "&lt;/head&gt;\n",
       "&lt;body&gt;\n",
       "    \n",
       "    \n",
       "            &lt;div class=&quot;folium-map&quot; id=&quot;map_247d60a522ead2fdd724bdac6a1cecee&quot; &gt;&lt;/div&gt;\n",
       "        \n",
       "&lt;/body&gt;\n",
       "&lt;script&gt;\n",
       "    \n",
       "    \n",
       "            var map_247d60a522ead2fdd724bdac6a1cecee = L.map(\n",
       "                &quot;map_247d60a522ead2fdd724bdac6a1cecee&quot;,\n",
       "                {\n",
       "                    center: [100.0, 0.0],\n",
       "                    crs: L.CRS.EPSG3857,\n",
       "                    zoom: 1.5,\n",
       "                    zoomControl: true,\n",
       "                    preferCanvas: false,\n",
       "                }\n",
       "            );\n",
       "\n",
       "            \n",
       "\n",
       "        \n",
       "    \n",
       "            var tile_layer_2090067a862e6568c4c8d36e23631a5b = L.tileLayer(\n",
       "                &quot;https://{s}.tile.openstreetmap.org/{z}/{x}/{y}.png&quot;,\n",
       "                {&quot;attribution&quot;: &quot;Data by \\u0026copy; \\u003ca href=\\&quot;http://openstreetmap.org\\&quot;\\u003eOpenStreetMap\\u003c/a\\u003e, under \\u003ca href=\\&quot;http://www.openstreetmap.org/copyright\\&quot;\\u003eODbL\\u003c/a\\u003e.&quot;, &quot;detectRetina&quot;: false, &quot;maxNativeZoom&quot;: 18, &quot;maxZoom&quot;: 18, &quot;minZoom&quot;: 0, &quot;noWrap&quot;: false, &quot;opacity&quot;: 1, &quot;subdomains&quot;: &quot;abc&quot;, &quot;tms&quot;: false}\n",
       "            ).addTo(map_247d60a522ead2fdd724bdac6a1cecee);\n",
       "        \n",
       "    \n",
       "            var choropleth_4652b18d28898a82b5a749240f5ce1e8 = L.featureGroup(\n",
       "                {}\n",
       "            ).addTo(map_247d60a522ead2fdd724bdac6a1cecee);\n",
       "        \n",
       "    \n",
       "        function geo_json_0589096be820e1691d4309460d68dd22_styler(feature) {\n",
       "            switch(feature.properties.OBJECTID) {\n",
       "                case 4: case 25: case 27: case 55: case 70: case 95: \n",
       "                    return {&quot;color&quot;: &quot;black&quot;, &quot;fillColor&quot;: &quot;#fe9929&quot;, &quot;fillOpacity&quot;: 0.6, &quot;opacity&quot;: 0.1, &quot;weight&quot;: 1};\n",
       "                case 6: case 11: case 14: case 20: case 21: case 23: case 35: case 40: case 58: case 62: case 66: case 77: case 86: \n",
       "                    return {&quot;color&quot;: &quot;black&quot;, &quot;fillColor&quot;: &quot;#fee391&quot;, &quot;fillOpacity&quot;: 0.6, &quot;opacity&quot;: 0.1, &quot;weight&quot;: 1};\n",
       "                case 7: case 8: case 29: case 31: case 34: case 44: case 76: case 80: case 82: case 83: case 89: case 90: case 97: \n",
       "                    return {&quot;color&quot;: &quot;black&quot;, &quot;fillColor&quot;: &quot;#fec44f&quot;, &quot;fillOpacity&quot;: 0.6, &quot;opacity&quot;: 0.1, &quot;weight&quot;: 1};\n",
       "                case 32: case 74: \n",
       "                    return {&quot;color&quot;: &quot;black&quot;, &quot;fillColor&quot;: &quot;#993404&quot;, &quot;fillOpacity&quot;: 0.6, &quot;opacity&quot;: 0.1, &quot;weight&quot;: 1};\n",
       "                case 46: case 50: case 79: \n",
       "                    return {&quot;color&quot;: &quot;black&quot;, &quot;fillColor&quot;: &quot;#d95f0e&quot;, &quot;fillOpacity&quot;: 0.6, &quot;opacity&quot;: 0.1, &quot;weight&quot;: 1};\n",
       "                default:\n",
       "                    return {&quot;color&quot;: &quot;black&quot;, &quot;fillColor&quot;: &quot;#ffffd4&quot;, &quot;fillOpacity&quot;: 0.6, &quot;opacity&quot;: 0.1, &quot;weight&quot;: 1};\n",
       "            }\n",
       "        }\n",
       "\n",
       "        function geo_json_0589096be820e1691d4309460d68dd22_onEachFeature(feature, layer) {\n",
       "            layer.on({\n",
       "            });\n",
       "        };\n",
       "        var geo_json_0589096be820e1691d4309460d68dd22 = L.geoJson(null, {\n",
       "                onEachFeature: geo_json_0589096be820e1691d4309460d68dd22_onEachFeature,\n",
       "            \n",
       "                style: geo_json_0589096be820e1691d4309460d68dd22_styler,\n",
       "        });\n",
       "\n",
       "        function geo_json_0589096be820e1691d4309460d68dd22_add (data) {\n",
       "            geo_json_0589096be820e1691d4309460d68dd22\n",
       "                .addData(data)\n",
       "                .addTo(choropleth_4652b18d28898a82b5a749240f5ce1e8);\n",
       "        }\n",
       "            geo_json_0589096be820e1691d4309460d68dd22_add({&quot;crs&quot;: {&quot;properties&quot;: {&quot;name&quot;: &quot;urn:ogc:def:crs:OGC:1.3:CRS84&quot;}, &quot;type&quot;: &quot;name&quot;}, &quot;features&quot;: [{&quot;geometry&quot;: {&quot;coordinates&quot;: [[[[-96.59915441799996, 43.500333546000036], [-96.58646743099996, 43.500300485000025], [-96.56643811899994, 43.50023442100007], [-96.54643406899999, 43.50020006400007], [-96.52654343799998, 43.500158690000035], [-96.52404983099996, 43.50015462500005], [-96.50653798199994, 43.500333451000074], [-96.50060923499996, 43.500389262000056], [-96.48654343699997, 43.50040510800005], [-96.46656928699997, 43.500292469000044], [-96.44674280099997, 43.50029792200007], [-96.44659578999995, 43.50030235600008], [-96.42979997999998, 43.50029445100006], [-96.40981507599997, 43.500298232000034], [-96.40967674099994, 43.500302359000045], [-96.389988814, 43.50028479800005], [-96.37560426999994, 43.50028739100003], [-96.375008042, 43.50028699200004], [-96.37015497399995, 43.50029514700003], [-96.37000930299996, 43.500299443000074], [-96.34981823099997, 43.50010970300008], [-96.329640225, 43.500159100000076], [-96.31373050699995, 43.500180295000064], [-96.29370276199995, 43.50021897200003], [-96.27368833399998, 43.50013670100003], [-96.25379495699997, 43.500281562000055], [-96.23378989299994, 43.50013808800003], [-96.21408148999996, 43.500108828000066], [-96.21392846599997, 43.50011313200008], [-96.19575503099998, 43.50019959200006], [-96.19559563499996, 43.50020404900005], [-96.17574751599994, 43.50017206700005], [-96.15589772999994, 43.50022671200003], [-96.15575801199998, 43.50023057000004], [-96.13604652399994, 43.50018790200005], [-96.11620112399999, 43.500280531000044], [-96.09605077099997, 43.50017088300007], [-96.07786350099997, 43.50018489900003], [-96.05802433499997, 43.50028523900005], [-96.03802072099995, 43.50028745900005], [-96.01816844499996, 43.50017412700004], [-96.00045191799995, 43.50018137100005], [-95.99999398399996, 43.500175385000034], [-95.99817916599994, 43.50016899000008], [-95.97802310199995, 43.50013778600004], [-95.96044364599999, 43.500108331000035], [-95.94043897399996, 43.50006656100004], [-95.92045135999996, 43.50013789500008], [-95.90059384799997, 43.50009437700004], [-95.88089457699994, 43.50015145900005], [-95.87558650999995, 43.50007805100006], [-95.87483855299996, 43.500060853000036], [-95.860890252, 43.49997867600007], [-95.860875691, 43.490615450000064], [-95.86087561199997, 43.49050741100007], [-95.86084550599998, 43.47607560800003], [-95.86084542799995, 43.475967568000044], [-95.86081412799996, 43.46166181700005], [-95.86081405199997, 43.46155377600007], [-95.86078472299994, 43.447121898000034], [-95.86078310399995, 43.44701389700003], [-95.86060087599998, 43.43258581600003], [-95.86055532399996, 43.41804624500003], [-95.86055567499994, 43.417947197000046], [-95.86052500899996, 43.40350626500003], [-95.86052536199998, 43.40340721700005], [-95.86049373699996, 43.388966280000034], [-95.86037142399994, 43.37453658700008], [-95.86047772699999, 43.36000210700007], [-95.86043324899998, 43.34548037500008], [-95.86082965399999, 43.33008323300004], [-95.86093559799997, 43.31555768000004], [-95.86117985399994, 43.30103764000006], [-95.86143888099997, 43.28672428900006], [-95.86168432099998, 43.27208711600008], [-95.86192725599994, 43.25766606600007], [-95.86192950299994, 43.257557965000046], [-95.88182528899995, 43.25767055600005], [-95.90181452799999, 43.25780431800007], [-95.90196717899994, 43.257800444000054], [-95.92165426"
      ],
      "text/plain": [
       "<folium.folium.Map at 0x7fb399aa8490>"
      ]
     },
     "execution_count": 17,
     "metadata": {},
     "output_type": "execute_result"
    },
    {
     "data": {
      "text/html": [
       "<b>limit_output extension: Maximum message size of 10000 exceeded with 1497234 characters</b>"
      ]
     },
     "metadata": {},
     "output_type": "display_data"
    }
   ],
   "source": [
    "# Setup a folium map at a high-level zoom\n",
    "map = folium.Map(location = [100, 0], zoom_start = 1.5)\n",
    "\n",
    "# Choropleth maps bind Pandas Data Frames and json geometries.This allows us to quickly visualize data combinations\n",
    "folium.Choropleth(\n",
    "    geo_data = country_geo, \n",
    "    data = sub,\n",
    "    columns = ['County Number', 'Sale (Dollars)'],\n",
    "    key_on = 'feature.properties.DOMCountyID', # this part is very important - check your json file to see where the KEY is located\n",
    "    fill_color = 'YlOrBr', fill_opacity=0.6, line_opacity=0.1,\n",
    "    legend_name = \"rating\").add_to(map)\n",
    "folium.LayerControl().add_to(map)\n",
    "\n",
    "map"
   ]
  }
 ],
 "metadata": {
  "kernelspec": {
   "display_name": "Python 3 (ipykernel)",
   "language": "python",
   "name": "python3"
  },
  "language_info": {
   "codemirror_mode": {
    "name": "ipython",
    "version": 3
   },
   "file_extension": ".py",
   "mimetype": "text/x-python",
   "name": "python",
   "nbconvert_exporter": "python",
   "pygments_lexer": "ipython3",
   "version": "3.8.15"
  }
 },
 "nbformat": 4,
 "nbformat_minor": 5
}
