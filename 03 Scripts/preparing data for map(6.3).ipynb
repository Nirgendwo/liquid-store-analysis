{
 "cells": [
  {
   "cell_type": "markdown",
   "id": "5eb5f6a8",
   "metadata": {},
   "source": [
    "# Content \n",
    "- preparing data for map"
   ]
  },
  {
   "cell_type": "code",
   "execution_count": 1,
   "id": "3644fa7c",
   "metadata": {
    "ExecuteTime": {
     "end_time": "2022-12-15T12:40:01.778208Z",
     "start_time": "2022-12-15T12:40:00.543707Z"
    }
   },
   "outputs": [],
   "source": [
    "# import lybaries\n",
    "import pandas as pd\n",
    "import numpy as np\n",
    "import os\n",
    "import json"
   ]
  },
  {
   "cell_type": "code",
   "execution_count": 2,
   "id": "f4960659",
   "metadata": {
    "ExecuteTime": {
     "end_time": "2022-12-15T12:40:02.400774Z",
     "start_time": "2022-12-15T12:40:01.779722Z"
    }
   },
   "outputs": [],
   "source": [
    "%matplotlib inline"
   ]
  },
  {
   "cell_type": "code",
   "execution_count": 3,
   "id": "5826fda7",
   "metadata": {
    "ExecuteTime": {
     "end_time": "2022-12-15T12:40:08.456240Z",
     "start_time": "2022-12-15T12:40:02.403949Z"
    }
   },
   "outputs": [],
   "source": [
    "# import data\n",
    "\n",
    "path = r'/Users/lennartzeidler/Desktop/Uni/(6) Advances Analytics and Dashboard Design/liquid store sales analysis'\n",
    "sales = pd.read_pickle(os.path.join(path, '02 Data','Prepared Data', 'liquid_sales_PriceAsINT_clean.pkl'))"
   ]
  },
  {
   "cell_type": "code",
   "execution_count": 4,
   "id": "11caed43",
   "metadata": {
    "ExecuteTime": {
     "end_time": "2022-12-15T12:40:08.481805Z",
     "start_time": "2022-12-15T12:40:08.459207Z"
    },
    "scrolled": true
   },
   "outputs": [
    {
     "data": {
      "text/html": [
       "<div>\n",
       "<style scoped>\n",
       "    .dataframe tbody tr th:only-of-type {\n",
       "        vertical-align: middle;\n",
       "    }\n",
       "\n",
       "    .dataframe tbody tr th {\n",
       "        vertical-align: top;\n",
       "    }\n",
       "\n",
       "    .dataframe thead th {\n",
       "        text-align: right;\n",
       "    }\n",
       "</style>\n",
       "<table border=\"1\" class=\"dataframe\">\n",
       "  <thead>\n",
       "    <tr style=\"text-align: right;\">\n",
       "      <th></th>\n",
       "      <th>Invoice/Item Number</th>\n",
       "      <th>Date</th>\n",
       "      <th>Store Name</th>\n",
       "      <th>Address</th>\n",
       "      <th>City</th>\n",
       "      <th>Zip Code</th>\n",
       "      <th>Store Location</th>\n",
       "      <th>County</th>\n",
       "      <th>Category Name</th>\n",
       "      <th>Vendor Name</th>\n",
       "      <th>Item Description</th>\n",
       "      <th>Pack</th>\n",
       "      <th>Bottle Volume (ml)</th>\n",
       "      <th>State Bottle Cost</th>\n",
       "      <th>State Bottle Retail</th>\n",
       "      <th>Bottles Sold</th>\n",
       "      <th>Sale (Dollars)</th>\n",
       "      <th>Volume Sold (Liters)</th>\n",
       "      <th>Volume Sold (Gallons)</th>\n",
       "    </tr>\n",
       "  </thead>\n",
       "  <tbody>\n",
       "    <tr>\n",
       "      <th>6</th>\n",
       "      <td>S28865700001</td>\n",
       "      <td>11/09/2015</td>\n",
       "      <td>Hy-Vee Food Store #3 / Waterloo</td>\n",
       "      <td>1422 FLAMMANG DR</td>\n",
       "      <td>WATERLOO</td>\n",
       "      <td>50702</td>\n",
       "      <td>1422 FLAMMANG DR\\nWATERLOO 50702\\n(42.459938, ...</td>\n",
       "      <td>Black Hawk</td>\n",
       "      <td>DECANTERS &amp; SPECIALTY PACKAGES</td>\n",
       "      <td>Duggan's Distillers Products Corp</td>\n",
       "      <td>Forbidden Secret Coffee Pack</td>\n",
       "      <td>6</td>\n",
       "      <td>1500</td>\n",
       "      <td>11.62</td>\n",
       "      <td>17.43</td>\n",
       "      <td>6</td>\n",
       "      <td>104.58</td>\n",
       "      <td>9.0</td>\n",
       "      <td>2.38</td>\n",
       "    </tr>\n",
       "    <tr>\n",
       "      <th>8</th>\n",
       "      <td>S29339300091</td>\n",
       "      <td>11/30/2015</td>\n",
       "      <td>Hy-Vee Wine &amp; Spirits / Muscatine</td>\n",
       "      <td>522 MULBERRY, SUITE A</td>\n",
       "      <td>MUSCATINE</td>\n",
       "      <td>52761</td>\n",
       "      <td>522 MULBERRY, SUITE A\\nMUSCATINE 52761\\n</td>\n",
       "      <td>Muscatine</td>\n",
       "      <td>DECANTERS &amp; SPECIALTY PACKAGES</td>\n",
       "      <td>Jim Beam Brands</td>\n",
       "      <td>Laphroaig w/ Whiskey Stones</td>\n",
       "      <td>12</td>\n",
       "      <td>750</td>\n",
       "      <td>19.58</td>\n",
       "      <td>29.37</td>\n",
       "      <td>4</td>\n",
       "      <td>117.48</td>\n",
       "      <td>3.0</td>\n",
       "      <td>0.79</td>\n",
       "    </tr>\n",
       "    <tr>\n",
       "      <th>13</th>\n",
       "      <td>S28866900001</td>\n",
       "      <td>11/11/2015</td>\n",
       "      <td>Spirits, Stogies and Stuff</td>\n",
       "      <td>118 South Main St.</td>\n",
       "      <td>HOLSTEIN</td>\n",
       "      <td>51025</td>\n",
       "      <td>118 South Main St.\\nHOLSTEIN 51025\\n(42.490073...</td>\n",
       "      <td>Ida</td>\n",
       "      <td>DECANTERS &amp; SPECIALTY PACKAGES</td>\n",
       "      <td>Duggan's Distillers Products Corp</td>\n",
       "      <td>Forbidden Secret Coffee Pack</td>\n",
       "      <td>6</td>\n",
       "      <td>1500</td>\n",
       "      <td>11.62</td>\n",
       "      <td>17.43</td>\n",
       "      <td>1</td>\n",
       "      <td>17.43</td>\n",
       "      <td>1.5</td>\n",
       "      <td>0.40</td>\n",
       "    </tr>\n",
       "    <tr>\n",
       "      <th>18</th>\n",
       "      <td>S29134300126</td>\n",
       "      <td>11/18/2015</td>\n",
       "      <td>J D Spirits Liquor</td>\n",
       "      <td>1023  9TH ST</td>\n",
       "      <td>ONAWA</td>\n",
       "      <td>51040</td>\n",
       "      <td>1023 9TH ST\\nONAWA 51040\\n(42.025841, -96.095845)</td>\n",
       "      <td>Monona</td>\n",
       "      <td>CREAM LIQUEURS</td>\n",
       "      <td>MHW Ltd</td>\n",
       "      <td>Rumchata \"GoChatas\"</td>\n",
       "      <td>1</td>\n",
       "      <td>6000</td>\n",
       "      <td>99.00</td>\n",
       "      <td>148.50</td>\n",
       "      <td>1</td>\n",
       "      <td>148.50</td>\n",
       "      <td>6.0</td>\n",
       "      <td>1.59</td>\n",
       "    </tr>\n",
       "    <tr>\n",
       "      <th>21</th>\n",
       "      <td>S29282800048</td>\n",
       "      <td>11/23/2015</td>\n",
       "      <td>Hy-Vee Wine and Spirits / Pella</td>\n",
       "      <td>512 E OSKALOOSA</td>\n",
       "      <td>PELLA</td>\n",
       "      <td>50219</td>\n",
       "      <td>512 E OSKALOOSA\\nPELLA 50219\\n(41.397023, -92....</td>\n",
       "      <td>Marion</td>\n",
       "      <td>DECANTERS &amp; SPECIALTY PACKAGES</td>\n",
       "      <td>Duggan's Distillers Products Corp</td>\n",
       "      <td>Forbidden Secret Coffee Pack</td>\n",
       "      <td>6</td>\n",
       "      <td>1500</td>\n",
       "      <td>11.62</td>\n",
       "      <td>17.43</td>\n",
       "      <td>6</td>\n",
       "      <td>104.58</td>\n",
       "      <td>9.0</td>\n",
       "      <td>2.38</td>\n",
       "    </tr>\n",
       "  </tbody>\n",
       "</table>\n",
       "</div>"
      ],
      "text/plain": [
       "   Invoice/Item Number        Date                         Store Name  \\\n",
       "6         S28865700001  11/09/2015    Hy-Vee Food Store #3 / Waterloo   \n",
       "8         S29339300091  11/30/2015  Hy-Vee Wine & Spirits / Muscatine   \n",
       "13        S28866900001  11/11/2015         Spirits, Stogies and Stuff   \n",
       "18        S29134300126  11/18/2015                 J D Spirits Liquor   \n",
       "21        S29282800048  11/23/2015    Hy-Vee Wine and Spirits / Pella   \n",
       "\n",
       "                  Address       City Zip Code  \\\n",
       "6        1422 FLAMMANG DR   WATERLOO    50702   \n",
       "8   522 MULBERRY, SUITE A  MUSCATINE    52761   \n",
       "13     118 South Main St.   HOLSTEIN    51025   \n",
       "18           1023  9TH ST      ONAWA    51040   \n",
       "21        512 E OSKALOOSA      PELLA    50219   \n",
       "\n",
       "                                       Store Location      County  \\\n",
       "6   1422 FLAMMANG DR\\nWATERLOO 50702\\n(42.459938, ...  Black Hawk   \n",
       "8            522 MULBERRY, SUITE A\\nMUSCATINE 52761\\n   Muscatine   \n",
       "13  118 South Main St.\\nHOLSTEIN 51025\\n(42.490073...         Ida   \n",
       "18  1023 9TH ST\\nONAWA 51040\\n(42.025841, -96.095845)      Monona   \n",
       "21  512 E OSKALOOSA\\nPELLA 50219\\n(41.397023, -92....      Marion   \n",
       "\n",
       "                     Category Name                        Vendor Name  \\\n",
       "6   DECANTERS & SPECIALTY PACKAGES  Duggan's Distillers Products Corp   \n",
       "8   DECANTERS & SPECIALTY PACKAGES                    Jim Beam Brands   \n",
       "13  DECANTERS & SPECIALTY PACKAGES  Duggan's Distillers Products Corp   \n",
       "18                  CREAM LIQUEURS                            MHW Ltd   \n",
       "21  DECANTERS & SPECIALTY PACKAGES  Duggan's Distillers Products Corp   \n",
       "\n",
       "                Item Description  Pack  Bottle Volume (ml)  State Bottle Cost  \\\n",
       "6   Forbidden Secret Coffee Pack     6                1500              11.62   \n",
       "8    Laphroaig w/ Whiskey Stones    12                 750              19.58   \n",
       "13  Forbidden Secret Coffee Pack     6                1500              11.62   \n",
       "18           Rumchata \"GoChatas\"     1                6000              99.00   \n",
       "21  Forbidden Secret Coffee Pack     6                1500              11.62   \n",
       "\n",
       "    State Bottle Retail  Bottles Sold  Sale (Dollars)  Volume Sold (Liters)  \\\n",
       "6                 17.43             6          104.58                   9.0   \n",
       "8                 29.37             4          117.48                   3.0   \n",
       "13                17.43             1           17.43                   1.5   \n",
       "18               148.50             1          148.50                   6.0   \n",
       "21                17.43             6          104.58                   9.0   \n",
       "\n",
       "    Volume Sold (Gallons)  \n",
       "6                    2.38  \n",
       "8                    0.79  \n",
       "13                   0.40  \n",
       "18                   1.59  \n",
       "21                   2.38  "
      ]
     },
     "execution_count": 4,
     "metadata": {},
     "output_type": "execute_result"
    }
   ],
   "source": [
    "sales.head()"
   ]
  },
  {
   "cell_type": "code",
   "execution_count": 5,
   "id": "72e039bf",
   "metadata": {
    "ExecuteTime": {
     "end_time": "2022-12-15T12:40:15.773505Z",
     "start_time": "2022-12-15T12:40:08.484257Z"
    }
   },
   "outputs": [],
   "source": [
    "sales = sales.rename(columns={'County': 'Country'})"
   ]
  },
  {
   "cell_type": "code",
   "execution_count": 6,
   "id": "5a39359b",
   "metadata": {
    "ExecuteTime": {
     "end_time": "2022-12-15T12:40:15.796298Z",
     "start_time": "2022-12-15T12:40:15.780047Z"
    }
   },
   "outputs": [
    {
     "data": {
      "text/plain": [
       "(12495974, 19)"
      ]
     },
     "execution_count": 6,
     "metadata": {},
     "output_type": "execute_result"
    }
   ],
   "source": [
    "sales.shape"
   ]
  },
  {
   "cell_type": "code",
   "execution_count": 7,
   "id": "6c87f2af",
   "metadata": {
    "ExecuteTime": {
     "end_time": "2022-12-15T12:40:16.526327Z",
     "start_time": "2022-12-15T12:40:15.798741Z"
    },
    "scrolled": true
   },
   "outputs": [
    {
     "data": {
      "text/plain": [
       "52402      280176\n",
       "50010      277871\n",
       "52240      275974\n",
       "50613      201106\n",
       "50317      199080\n",
       "            ...  \n",
       "50162.0        20\n",
       "50251.0        16\n",
       "50540.0        13\n",
       "51230          10\n",
       "50447.0         7\n",
       "Name: Zip Code, Length: 880, dtype: int64"
      ]
     },
     "execution_count": 7,
     "metadata": {},
     "output_type": "execute_result"
    }
   ],
   "source": [
    "sales['Zip Code'].value_counts()"
   ]
  },
  {
   "cell_type": "markdown",
   "id": "dda61193",
   "metadata": {},
   "source": [
    "We need to do some data cleaning here. We need to delete everything after the '.'."
   ]
  },
  {
   "cell_type": "code",
   "execution_count": 8,
   "id": "2131f3fe",
   "metadata": {
    "ExecuteTime": {
     "end_time": "2022-12-15T12:40:19.959386Z",
     "start_time": "2022-12-15T12:40:16.528026Z"
    }
   },
   "outputs": [],
   "source": [
    "# cutting zip Code up after 5. char\n",
    "sales[\"Zip Code\"] = sales[\"Zip Code\"].str[:5]"
   ]
  },
  {
   "cell_type": "code",
   "execution_count": 9,
   "id": "ef48ec44",
   "metadata": {
    "ExecuteTime": {
     "end_time": "2022-12-15T12:40:20.649730Z",
     "start_time": "2022-12-15T12:40:19.965633Z"
    }
   },
   "outputs": [
    {
     "data": {
      "text/plain": [
       "50010    309866\n",
       "52402    304906\n",
       "52240    298110\n",
       "50613    224929\n",
       "50317    218570\n",
       "          ...  \n",
       "52158        74\n",
       "50447        70\n",
       "51235        65\n",
       "52659        56\n",
       "51230        10\n",
       "Name: Zip Code, Length: 450, dtype: int64"
      ]
     },
     "execution_count": 9,
     "metadata": {},
     "output_type": "execute_result"
    }
   ],
   "source": [
    "sales['Zip Code'].value_counts()"
   ]
  },
  {
   "cell_type": "code",
   "execution_count": 10,
   "id": "e8d48140",
   "metadata": {
    "ExecuteTime": {
     "end_time": "2022-12-15T12:40:20.655046Z",
     "start_time": "2022-12-15T12:40:20.651926Z"
    }
   },
   "outputs": [],
   "source": [
    "# Import \".json\" file for the whole world \n",
    "\n",
    "country_geo = r'/Users/lennartzeidler/Desktop/Uni/(6) Advances Analytics and Dashboard Design/liquid store sales analysis/02 Data/map-json/iowa_zip_geo.json'"
   ]
  },
  {
   "cell_type": "code",
   "execution_count": 11,
   "id": "ae8e6563",
   "metadata": {
    "ExecuteTime": {
     "end_time": "2022-12-15T12:40:21.905399Z",
     "start_time": "2022-12-15T12:40:20.657586Z"
    },
    "scrolled": false
   },
   "outputs": [],
   "source": [
    "# taking a look at the file\n",
    "f = open('/Users/lennartzeidler/Desktop/Uni/(6) Advances Analytics and Dashboard Design/liquid store sales analysis/02 Data/map-json/iowa_zip_geo.json')\n",
    "data = json.load(f)\n",
    "zips = []\n",
    "for i in data['features']:\n",
    "    zips.append(i['properties']['ZCTA5CE10'])"
   ]
  },
  {
   "cell_type": "code",
   "execution_count": 12,
   "id": "33029045",
   "metadata": {
    "ExecuteTime": {
     "end_time": "2022-12-15T12:40:22.291602Z",
     "start_time": "2022-12-15T12:40:21.907560Z"
    }
   },
   "outputs": [],
   "source": [
    "data_zips = list( dict.fromkeys(sales['Zip Code'].to_list()))"
   ]
  },
  {
   "cell_type": "code",
   "execution_count": 13,
   "id": "4b70854a",
   "metadata": {
    "ExecuteTime": {
     "end_time": "2022-12-15T12:40:22.303200Z",
     "start_time": "2022-12-15T12:40:22.293581Z"
    }
   },
   "outputs": [
    {
     "name": "stdout",
     "output_type": "stream",
     "text": [
      "50300\n",
      "712-2\n",
      "52084\n",
      "52733\n",
      "52004\n",
      "50015\n",
      "52303\n",
      "52087\n",
      "52036\n",
      "56201\n"
     ]
    }
   ],
   "source": [
    "for i in data_zips: \n",
    "    if i not in zips:\n",
    "        print(i)"
   ]
  },
  {
   "cell_type": "code",
   "execution_count": 14,
   "id": "fb135d19",
   "metadata": {
    "ExecuteTime": {
     "end_time": "2022-12-15T12:40:27.916143Z",
     "start_time": "2022-12-15T12:40:22.305419Z"
    }
   },
   "outputs": [],
   "source": [
    "# creating subset containing only Items with zipcode present in our List\n",
    "test = sales[sales['Zip Code'].isin(zips)]"
   ]
  },
  {
   "cell_type": "code",
   "execution_count": 15,
   "id": "9392c645",
   "metadata": {
    "ExecuteTime": {
     "end_time": "2022-12-15T12:40:27.922388Z",
     "start_time": "2022-12-15T12:40:27.918292Z"
    }
   },
   "outputs": [
    {
     "data": {
      "text/plain": [
       "(12410125, 19)"
      ]
     },
     "execution_count": 15,
     "metadata": {},
     "output_type": "execute_result"
    }
   ],
   "source": [
    "test.shape"
   ]
  },
  {
   "cell_type": "code",
   "execution_count": 16,
   "id": "b42c98e1",
   "metadata": {
    "ExecuteTime": {
     "end_time": "2022-12-15T12:40:28.294511Z",
     "start_time": "2022-12-15T12:40:27.924496Z"
    }
   },
   "outputs": [],
   "source": [
    "# creating array containing zip codes from df\n",
    "newZip = list( dict.fromkeys(test['Zip Code'].to_list()))"
   ]
  },
  {
   "cell_type": "code",
   "execution_count": 17,
   "id": "eeb75cde",
   "metadata": {
    "ExecuteTime": {
     "end_time": "2022-12-15T12:40:28.307546Z",
     "start_time": "2022-12-15T12:40:28.296934Z"
    }
   },
   "outputs": [],
   "source": [
    "# check if any Zip Codes are not in our json\n",
    "for i in newZip: \n",
    "    if i not in zips:\n",
    "        print(i)"
   ]
  },
  {
   "cell_type": "markdown",
   "id": "50e9e200",
   "metadata": {},
   "source": [
    "All right data cleaning done and we are ready to create the map in another script"
   ]
  },
  {
   "cell_type": "code",
   "execution_count": 18,
   "id": "f18ed912",
   "metadata": {
    "ExecuteTime": {
     "end_time": "2022-12-15T12:40:28.326338Z",
     "start_time": "2022-12-15T12:40:28.309653Z"
    }
   },
   "outputs": [
    {
     "data": {
      "text/html": [
       "<div>\n",
       "<style scoped>\n",
       "    .dataframe tbody tr th:only-of-type {\n",
       "        vertical-align: middle;\n",
       "    }\n",
       "\n",
       "    .dataframe tbody tr th {\n",
       "        vertical-align: top;\n",
       "    }\n",
       "\n",
       "    .dataframe thead th {\n",
       "        text-align: right;\n",
       "    }\n",
       "</style>\n",
       "<table border=\"1\" class=\"dataframe\">\n",
       "  <thead>\n",
       "    <tr style=\"text-align: right;\">\n",
       "      <th></th>\n",
       "      <th>Invoice/Item Number</th>\n",
       "      <th>Date</th>\n",
       "      <th>Store Name</th>\n",
       "      <th>Address</th>\n",
       "      <th>City</th>\n",
       "      <th>Zip Code</th>\n",
       "      <th>Store Location</th>\n",
       "      <th>Country</th>\n",
       "      <th>Category Name</th>\n",
       "      <th>Vendor Name</th>\n",
       "      <th>Item Description</th>\n",
       "      <th>Pack</th>\n",
       "      <th>Bottle Volume (ml)</th>\n",
       "      <th>State Bottle Cost</th>\n",
       "      <th>State Bottle Retail</th>\n",
       "      <th>Bottles Sold</th>\n",
       "      <th>Sale (Dollars)</th>\n",
       "      <th>Volume Sold (Liters)</th>\n",
       "      <th>Volume Sold (Gallons)</th>\n",
       "    </tr>\n",
       "  </thead>\n",
       "  <tbody>\n",
       "    <tr>\n",
       "      <th>6</th>\n",
       "      <td>S28865700001</td>\n",
       "      <td>11/09/2015</td>\n",
       "      <td>Hy-Vee Food Store #3 / Waterloo</td>\n",
       "      <td>1422 FLAMMANG DR</td>\n",
       "      <td>WATERLOO</td>\n",
       "      <td>50702</td>\n",
       "      <td>1422 FLAMMANG DR\\nWATERLOO 50702\\n(42.459938, ...</td>\n",
       "      <td>Black Hawk</td>\n",
       "      <td>DECANTERS &amp; SPECIALTY PACKAGES</td>\n",
       "      <td>Duggan's Distillers Products Corp</td>\n",
       "      <td>Forbidden Secret Coffee Pack</td>\n",
       "      <td>6</td>\n",
       "      <td>1500</td>\n",
       "      <td>11.62</td>\n",
       "      <td>17.43</td>\n",
       "      <td>6</td>\n",
       "      <td>104.58</td>\n",
       "      <td>9.0</td>\n",
       "      <td>2.38</td>\n",
       "    </tr>\n",
       "    <tr>\n",
       "      <th>8</th>\n",
       "      <td>S29339300091</td>\n",
       "      <td>11/30/2015</td>\n",
       "      <td>Hy-Vee Wine &amp; Spirits / Muscatine</td>\n",
       "      <td>522 MULBERRY, SUITE A</td>\n",
       "      <td>MUSCATINE</td>\n",
       "      <td>52761</td>\n",
       "      <td>522 MULBERRY, SUITE A\\nMUSCATINE 52761\\n</td>\n",
       "      <td>Muscatine</td>\n",
       "      <td>DECANTERS &amp; SPECIALTY PACKAGES</td>\n",
       "      <td>Jim Beam Brands</td>\n",
       "      <td>Laphroaig w/ Whiskey Stones</td>\n",
       "      <td>12</td>\n",
       "      <td>750</td>\n",
       "      <td>19.58</td>\n",
       "      <td>29.37</td>\n",
       "      <td>4</td>\n",
       "      <td>117.48</td>\n",
       "      <td>3.0</td>\n",
       "      <td>0.79</td>\n",
       "    </tr>\n",
       "    <tr>\n",
       "      <th>13</th>\n",
       "      <td>S28866900001</td>\n",
       "      <td>11/11/2015</td>\n",
       "      <td>Spirits, Stogies and Stuff</td>\n",
       "      <td>118 South Main St.</td>\n",
       "      <td>HOLSTEIN</td>\n",
       "      <td>51025</td>\n",
       "      <td>118 South Main St.\\nHOLSTEIN 51025\\n(42.490073...</td>\n",
       "      <td>Ida</td>\n",
       "      <td>DECANTERS &amp; SPECIALTY PACKAGES</td>\n",
       "      <td>Duggan's Distillers Products Corp</td>\n",
       "      <td>Forbidden Secret Coffee Pack</td>\n",
       "      <td>6</td>\n",
       "      <td>1500</td>\n",
       "      <td>11.62</td>\n",
       "      <td>17.43</td>\n",
       "      <td>1</td>\n",
       "      <td>17.43</td>\n",
       "      <td>1.5</td>\n",
       "      <td>0.40</td>\n",
       "    </tr>\n",
       "    <tr>\n",
       "      <th>18</th>\n",
       "      <td>S29134300126</td>\n",
       "      <td>11/18/2015</td>\n",
       "      <td>J D Spirits Liquor</td>\n",
       "      <td>1023  9TH ST</td>\n",
       "      <td>ONAWA</td>\n",
       "      <td>51040</td>\n",
       "      <td>1023 9TH ST\\nONAWA 51040\\n(42.025841, -96.095845)</td>\n",
       "      <td>Monona</td>\n",
       "      <td>CREAM LIQUEURS</td>\n",
       "      <td>MHW Ltd</td>\n",
       "      <td>Rumchata \"GoChatas\"</td>\n",
       "      <td>1</td>\n",
       "      <td>6000</td>\n",
       "      <td>99.00</td>\n",
       "      <td>148.50</td>\n",
       "      <td>1</td>\n",
       "      <td>148.50</td>\n",
       "      <td>6.0</td>\n",
       "      <td>1.59</td>\n",
       "    </tr>\n",
       "    <tr>\n",
       "      <th>21</th>\n",
       "      <td>S29282800048</td>\n",
       "      <td>11/23/2015</td>\n",
       "      <td>Hy-Vee Wine and Spirits / Pella</td>\n",
       "      <td>512 E OSKALOOSA</td>\n",
       "      <td>PELLA</td>\n",
       "      <td>50219</td>\n",
       "      <td>512 E OSKALOOSA\\nPELLA 50219\\n(41.397023, -92....</td>\n",
       "      <td>Marion</td>\n",
       "      <td>DECANTERS &amp; SPECIALTY PACKAGES</td>\n",
       "      <td>Duggan's Distillers Products Corp</td>\n",
       "      <td>Forbidden Secret Coffee Pack</td>\n",
       "      <td>6</td>\n",
       "      <td>1500</td>\n",
       "      <td>11.62</td>\n",
       "      <td>17.43</td>\n",
       "      <td>6</td>\n",
       "      <td>104.58</td>\n",
       "      <td>9.0</td>\n",
       "      <td>2.38</td>\n",
       "    </tr>\n",
       "  </tbody>\n",
       "</table>\n",
       "</div>"
      ],
      "text/plain": [
       "   Invoice/Item Number        Date                         Store Name  \\\n",
       "6         S28865700001  11/09/2015    Hy-Vee Food Store #3 / Waterloo   \n",
       "8         S29339300091  11/30/2015  Hy-Vee Wine & Spirits / Muscatine   \n",
       "13        S28866900001  11/11/2015         Spirits, Stogies and Stuff   \n",
       "18        S29134300126  11/18/2015                 J D Spirits Liquor   \n",
       "21        S29282800048  11/23/2015    Hy-Vee Wine and Spirits / Pella   \n",
       "\n",
       "                  Address       City Zip Code  \\\n",
       "6        1422 FLAMMANG DR   WATERLOO    50702   \n",
       "8   522 MULBERRY, SUITE A  MUSCATINE    52761   \n",
       "13     118 South Main St.   HOLSTEIN    51025   \n",
       "18           1023  9TH ST      ONAWA    51040   \n",
       "21        512 E OSKALOOSA      PELLA    50219   \n",
       "\n",
       "                                       Store Location     Country  \\\n",
       "6   1422 FLAMMANG DR\\nWATERLOO 50702\\n(42.459938, ...  Black Hawk   \n",
       "8            522 MULBERRY, SUITE A\\nMUSCATINE 52761\\n   Muscatine   \n",
       "13  118 South Main St.\\nHOLSTEIN 51025\\n(42.490073...         Ida   \n",
       "18  1023 9TH ST\\nONAWA 51040\\n(42.025841, -96.095845)      Monona   \n",
       "21  512 E OSKALOOSA\\nPELLA 50219\\n(41.397023, -92....      Marion   \n",
       "\n",
       "                     Category Name                        Vendor Name  \\\n",
       "6   DECANTERS & SPECIALTY PACKAGES  Duggan's Distillers Products Corp   \n",
       "8   DECANTERS & SPECIALTY PACKAGES                    Jim Beam Brands   \n",
       "13  DECANTERS & SPECIALTY PACKAGES  Duggan's Distillers Products Corp   \n",
       "18                  CREAM LIQUEURS                            MHW Ltd   \n",
       "21  DECANTERS & SPECIALTY PACKAGES  Duggan's Distillers Products Corp   \n",
       "\n",
       "                Item Description  Pack  Bottle Volume (ml)  State Bottle Cost  \\\n",
       "6   Forbidden Secret Coffee Pack     6                1500              11.62   \n",
       "8    Laphroaig w/ Whiskey Stones    12                 750              19.58   \n",
       "13  Forbidden Secret Coffee Pack     6                1500              11.62   \n",
       "18           Rumchata \"GoChatas\"     1                6000              99.00   \n",
       "21  Forbidden Secret Coffee Pack     6                1500              11.62   \n",
       "\n",
       "    State Bottle Retail  Bottles Sold  Sale (Dollars)  Volume Sold (Liters)  \\\n",
       "6                 17.43             6          104.58                   9.0   \n",
       "8                 29.37             4          117.48                   3.0   \n",
       "13                17.43             1           17.43                   1.5   \n",
       "18               148.50             1          148.50                   6.0   \n",
       "21                17.43             6          104.58                   9.0   \n",
       "\n",
       "    Volume Sold (Gallons)  \n",
       "6                    2.38  \n",
       "8                    0.79  \n",
       "13                   0.40  \n",
       "18                   1.59  \n",
       "21                   2.38  "
      ]
     },
     "execution_count": 18,
     "metadata": {},
     "output_type": "execute_result"
    }
   ],
   "source": [
    "sales.head()"
   ]
  },
  {
   "cell_type": "code",
   "execution_count": 19,
   "id": "d29e2a50",
   "metadata": {
    "ExecuteTime": {
     "end_time": "2022-12-15T12:40:28.439035Z",
     "start_time": "2022-12-15T12:40:28.328279Z"
    }
   },
   "outputs": [],
   "source": [
    "tab_data = sales[['Zip Code', 'Sale (Dollars)']]"
   ]
  },
  {
   "cell_type": "code",
   "execution_count": 20,
   "id": "8f5216a5",
   "metadata": {
    "ExecuteTime": {
     "end_time": "2022-12-15T12:40:28.445751Z",
     "start_time": "2022-12-15T12:40:28.441490Z"
    }
   },
   "outputs": [
    {
     "ename": "SyntaxError",
     "evalue": "invalid syntax (3133375982.py, line 1)",
     "output_type": "error",
     "traceback": [
      "\u001b[0;36m  Input \u001b[0;32mIn [20]\u001b[0;36m\u001b[0m\n\u001b[0;31m    pd.\u001b[0m\n\u001b[0m       ^\u001b[0m\n\u001b[0;31mSyntaxError\u001b[0m\u001b[0;31m:\u001b[0m invalid syntax\n"
     ]
    }
   ],
   "source": [
    "tab_data = tab_data[tab_data['Sale (Dollars)'] > 500]"
   ]
  }
 ],
 "metadata": {
  "kernelspec": {
   "display_name": "Python 3 (ipykernel)",
   "language": "python",
   "name": "python3"
  },
  "language_info": {
   "codemirror_mode": {
    "name": "ipython",
    "version": 3
   },
   "file_extension": ".py",
   "mimetype": "text/x-python",
   "name": "python",
   "nbconvert_exporter": "python",
   "pygments_lexer": "ipython3",
   "version": "3.8.15"
  }
 },
 "nbformat": 4,
 "nbformat_minor": 5
}
