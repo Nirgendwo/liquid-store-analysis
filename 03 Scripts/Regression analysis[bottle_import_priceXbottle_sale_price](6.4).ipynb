{
 "cells": [
  {
   "cell_type": "markdown",
   "id": "4260123d",
   "metadata": {},
   "source": [
    "# Content"
   ]
  },
  {
   "cell_type": "code",
   "execution_count": 1,
   "id": "8d2cfaeb",
   "metadata": {
    "ExecuteTime": {
     "end_time": "2022-12-15T07:58:14.848460Z",
     "start_time": "2022-12-15T07:58:07.370449Z"
    }
   },
   "outputs": [],
   "source": [
    "# import lybaries\n",
    "import pandas as pd\n",
    "import numpy as np\n",
    "import seaborn as sns\n",
    "import matplotlib\n",
    "import matplotlib.pyplot as plt\n",
    "import os\n",
    "import sklearn\n",
    "from sklearn.model_selection import train_test_split \n",
    "from sklearn.linear_model import LinearRegression\n",
    "from sklearn.metrics import mean_squared_error, r2_score"
   ]
  },
  {
   "cell_type": "code",
   "execution_count": 2,
   "id": "67819b0e",
   "metadata": {
    "ExecuteTime": {
     "end_time": "2022-12-15T07:58:19.709717Z",
     "start_time": "2022-12-15T07:58:19.692089Z"
    }
   },
   "outputs": [],
   "source": [
    "%matplotlib inline"
   ]
  },
  {
   "cell_type": "code",
   "execution_count": 3,
   "id": "0ad5084a",
   "metadata": {
    "ExecuteTime": {
     "end_time": "2022-12-15T07:58:58.270068Z",
     "start_time": "2022-12-15T07:58:48.947199Z"
    }
   },
   "outputs": [],
   "source": [
    "# import data\n",
    "path = r'/Users/lennartzeidler/Desktop/Uni/(6) Advances Analytics and Dashboard Design/liquid store sales analysis'\n",
    "sales = pd.read_pickle(os.path.join(path, '02 Data','Prepared Data', 'prepared_map_data.pkl'))"
   ]
  },
  {
   "cell_type": "code",
   "execution_count": 4,
   "id": "0a7957f6",
   "metadata": {
    "ExecuteTime": {
     "end_time": "2022-12-15T08:32:49.882005Z",
     "start_time": "2022-12-15T08:32:49.841075Z"
    }
   },
   "outputs": [
    {
     "data": {
      "text/html": [
       "<div>\n",
       "<style scoped>\n",
       "    .dataframe tbody tr th:only-of-type {\n",
       "        vertical-align: middle;\n",
       "    }\n",
       "\n",
       "    .dataframe tbody tr th {\n",
       "        vertical-align: top;\n",
       "    }\n",
       "\n",
       "    .dataframe thead th {\n",
       "        text-align: right;\n",
       "    }\n",
       "</style>\n",
       "<table border=\"1\" class=\"dataframe\">\n",
       "  <thead>\n",
       "    <tr style=\"text-align: right;\">\n",
       "      <th></th>\n",
       "      <th>Invoice/Item Number</th>\n",
       "      <th>Date</th>\n",
       "      <th>Store Name</th>\n",
       "      <th>Address</th>\n",
       "      <th>City</th>\n",
       "      <th>Zip Code</th>\n",
       "      <th>Store Location</th>\n",
       "      <th>Country</th>\n",
       "      <th>Category Name</th>\n",
       "      <th>Vendor Name</th>\n",
       "      <th>Item Description</th>\n",
       "      <th>Pack</th>\n",
       "      <th>Bottle Volume (ml)</th>\n",
       "      <th>State Bottle Cost</th>\n",
       "      <th>State Bottle Retail</th>\n",
       "      <th>Bottles Sold</th>\n",
       "      <th>Sale (Dollars)</th>\n",
       "      <th>Volume Sold (Liters)</th>\n",
       "      <th>Volume Sold (Gallons)</th>\n",
       "    </tr>\n",
       "  </thead>\n",
       "  <tbody>\n",
       "    <tr>\n",
       "      <th>6</th>\n",
       "      <td>S28865700001</td>\n",
       "      <td>11/09/2015</td>\n",
       "      <td>Hy-Vee Food Store #3 / Waterloo</td>\n",
       "      <td>1422 FLAMMANG DR</td>\n",
       "      <td>WATERLOO</td>\n",
       "      <td>50702</td>\n",
       "      <td>1422 FLAMMANG DR\\nWATERLOO 50702\\n(42.459938, ...</td>\n",
       "      <td>Black Hawk</td>\n",
       "      <td>DECANTERS &amp; SPECIALTY PACKAGES</td>\n",
       "      <td>Duggan's Distillers Products Corp</td>\n",
       "      <td>Forbidden Secret Coffee Pack</td>\n",
       "      <td>6</td>\n",
       "      <td>1500</td>\n",
       "      <td>11.62</td>\n",
       "      <td>17.43</td>\n",
       "      <td>6</td>\n",
       "      <td>104.58</td>\n",
       "      <td>9.0</td>\n",
       "      <td>2.38</td>\n",
       "    </tr>\n",
       "    <tr>\n",
       "      <th>8</th>\n",
       "      <td>S29339300091</td>\n",
       "      <td>11/30/2015</td>\n",
       "      <td>Hy-Vee Wine &amp; Spirits / Muscatine</td>\n",
       "      <td>522 MULBERRY, SUITE A</td>\n",
       "      <td>MUSCATINE</td>\n",
       "      <td>52761</td>\n",
       "      <td>522 MULBERRY, SUITE A\\nMUSCATINE 52761\\n</td>\n",
       "      <td>Muscatine</td>\n",
       "      <td>DECANTERS &amp; SPECIALTY PACKAGES</td>\n",
       "      <td>Jim Beam Brands</td>\n",
       "      <td>Laphroaig w/ Whiskey Stones</td>\n",
       "      <td>12</td>\n",
       "      <td>750</td>\n",
       "      <td>19.58</td>\n",
       "      <td>29.37</td>\n",
       "      <td>4</td>\n",
       "      <td>117.48</td>\n",
       "      <td>3.0</td>\n",
       "      <td>0.79</td>\n",
       "    </tr>\n",
       "    <tr>\n",
       "      <th>13</th>\n",
       "      <td>S28866900001</td>\n",
       "      <td>11/11/2015</td>\n",
       "      <td>Spirits, Stogies and Stuff</td>\n",
       "      <td>118 South Main St.</td>\n",
       "      <td>HOLSTEIN</td>\n",
       "      <td>51025</td>\n",
       "      <td>118 South Main St.\\nHOLSTEIN 51025\\n(42.490073...</td>\n",
       "      <td>Ida</td>\n",
       "      <td>DECANTERS &amp; SPECIALTY PACKAGES</td>\n",
       "      <td>Duggan's Distillers Products Corp</td>\n",
       "      <td>Forbidden Secret Coffee Pack</td>\n",
       "      <td>6</td>\n",
       "      <td>1500</td>\n",
       "      <td>11.62</td>\n",
       "      <td>17.43</td>\n",
       "      <td>1</td>\n",
       "      <td>17.43</td>\n",
       "      <td>1.5</td>\n",
       "      <td>0.40</td>\n",
       "    </tr>\n",
       "    <tr>\n",
       "      <th>18</th>\n",
       "      <td>S29134300126</td>\n",
       "      <td>11/18/2015</td>\n",
       "      <td>J D Spirits Liquor</td>\n",
       "      <td>1023  9TH ST</td>\n",
       "      <td>ONAWA</td>\n",
       "      <td>51040</td>\n",
       "      <td>1023 9TH ST\\nONAWA 51040\\n(42.025841, -96.095845)</td>\n",
       "      <td>Monona</td>\n",
       "      <td>CREAM LIQUEURS</td>\n",
       "      <td>MHW Ltd</td>\n",
       "      <td>Rumchata \"GoChatas\"</td>\n",
       "      <td>1</td>\n",
       "      <td>6000</td>\n",
       "      <td>99.00</td>\n",
       "      <td>148.50</td>\n",
       "      <td>1</td>\n",
       "      <td>148.50</td>\n",
       "      <td>6.0</td>\n",
       "      <td>1.59</td>\n",
       "    </tr>\n",
       "    <tr>\n",
       "      <th>21</th>\n",
       "      <td>S29282800048</td>\n",
       "      <td>11/23/2015</td>\n",
       "      <td>Hy-Vee Wine and Spirits / Pella</td>\n",
       "      <td>512 E OSKALOOSA</td>\n",
       "      <td>PELLA</td>\n",
       "      <td>50219</td>\n",
       "      <td>512 E OSKALOOSA\\nPELLA 50219\\n(41.397023, -92....</td>\n",
       "      <td>Marion</td>\n",
       "      <td>DECANTERS &amp; SPECIALTY PACKAGES</td>\n",
       "      <td>Duggan's Distillers Products Corp</td>\n",
       "      <td>Forbidden Secret Coffee Pack</td>\n",
       "      <td>6</td>\n",
       "      <td>1500</td>\n",
       "      <td>11.62</td>\n",
       "      <td>17.43</td>\n",
       "      <td>6</td>\n",
       "      <td>104.58</td>\n",
       "      <td>9.0</td>\n",
       "      <td>2.38</td>\n",
       "    </tr>\n",
       "  </tbody>\n",
       "</table>\n",
       "</div>"
      ],
      "text/plain": [
       "   Invoice/Item Number        Date                         Store Name  \\\n",
       "6         S28865700001  11/09/2015    Hy-Vee Food Store #3 / Waterloo   \n",
       "8         S29339300091  11/30/2015  Hy-Vee Wine & Spirits / Muscatine   \n",
       "13        S28866900001  11/11/2015         Spirits, Stogies and Stuff   \n",
       "18        S29134300126  11/18/2015                 J D Spirits Liquor   \n",
       "21        S29282800048  11/23/2015    Hy-Vee Wine and Spirits / Pella   \n",
       "\n",
       "                  Address       City Zip Code  \\\n",
       "6        1422 FLAMMANG DR   WATERLOO    50702   \n",
       "8   522 MULBERRY, SUITE A  MUSCATINE    52761   \n",
       "13     118 South Main St.   HOLSTEIN    51025   \n",
       "18           1023  9TH ST      ONAWA    51040   \n",
       "21        512 E OSKALOOSA      PELLA    50219   \n",
       "\n",
       "                                       Store Location     Country  \\\n",
       "6   1422 FLAMMANG DR\\nWATERLOO 50702\\n(42.459938, ...  Black Hawk   \n",
       "8            522 MULBERRY, SUITE A\\nMUSCATINE 52761\\n   Muscatine   \n",
       "13  118 South Main St.\\nHOLSTEIN 51025\\n(42.490073...         Ida   \n",
       "18  1023 9TH ST\\nONAWA 51040\\n(42.025841, -96.095845)      Monona   \n",
       "21  512 E OSKALOOSA\\nPELLA 50219\\n(41.397023, -92....      Marion   \n",
       "\n",
       "                     Category Name                        Vendor Name  \\\n",
       "6   DECANTERS & SPECIALTY PACKAGES  Duggan's Distillers Products Corp   \n",
       "8   DECANTERS & SPECIALTY PACKAGES                    Jim Beam Brands   \n",
       "13  DECANTERS & SPECIALTY PACKAGES  Duggan's Distillers Products Corp   \n",
       "18                  CREAM LIQUEURS                            MHW Ltd   \n",
       "21  DECANTERS & SPECIALTY PACKAGES  Duggan's Distillers Products Corp   \n",
       "\n",
       "                Item Description  Pack  Bottle Volume (ml)  State Bottle Cost  \\\n",
       "6   Forbidden Secret Coffee Pack     6                1500              11.62   \n",
       "8    Laphroaig w/ Whiskey Stones    12                 750              19.58   \n",
       "13  Forbidden Secret Coffee Pack     6                1500              11.62   \n",
       "18           Rumchata \"GoChatas\"     1                6000              99.00   \n",
       "21  Forbidden Secret Coffee Pack     6                1500              11.62   \n",
       "\n",
       "    State Bottle Retail  Bottles Sold  Sale (Dollars)  Volume Sold (Liters)  \\\n",
       "6                 17.43             6          104.58                   9.0   \n",
       "8                 29.37             4          117.48                   3.0   \n",
       "13                17.43             1           17.43                   1.5   \n",
       "18               148.50             1          148.50                   6.0   \n",
       "21                17.43             6          104.58                   9.0   \n",
       "\n",
       "    Volume Sold (Gallons)  \n",
       "6                    2.38  \n",
       "8                    0.79  \n",
       "13                   0.40  \n",
       "18                   1.59  \n",
       "21                   2.38  "
      ]
     },
     "execution_count": 4,
     "metadata": {},
     "output_type": "execute_result"
    }
   ],
   "source": [
    "sales.head()"
   ]
  },
  {
   "cell_type": "markdown",
   "id": "7e85b987",
   "metadata": {},
   "source": [
    "### hypothesis\n",
    "The higher the market price, the higher is the sales price."
   ]
  },
  {
   "cell_type": "markdown",
   "id": "e17d26ed",
   "metadata": {},
   "source": [
    "### Data cleaning\n",
    "since I kno my hypothesis, I also know wich variables I will use. Thats why I will create a subset containing those two.  \n",
    "I also cleaned the dataset in previus steps so I only need to be carefull about outliers."
   ]
  },
  {
   "cell_type": "code",
   "execution_count": 5,
   "id": "b9db549d",
   "metadata": {
    "ExecuteTime": {
     "end_time": "2022-12-15T08:33:31.539918Z",
     "start_time": "2022-12-15T08:33:30.898504Z"
    }
   },
   "outputs": [],
   "source": [
    "sales_sub = sales[['State Bottle Cost', 'State Bottle Retail']]"
   ]
  },
  {
   "cell_type": "code",
   "execution_count": 7,
   "id": "22d6b913",
   "metadata": {
    "ExecuteTime": {
     "end_time": "2022-12-15T08:35:36.467549Z",
     "start_time": "2022-12-15T08:35:16.543242Z"
    },
    "scrolled": false
   },
   "outputs": [
    {
     "name": "stderr",
     "output_type": "stream",
     "text": [
      "/var/folders/zw/37lckzg54ll7byfmgjl5pkw40000gn/T/ipykernel_5977/3020816908.py:2: UserWarning: \n",
      "\n",
      "`distplot` is a deprecated function and will be removed in seaborn v0.14.0.\n",
      "\n",
      "Please adapt your code to use either `displot` (a figure-level function with\n",
      "similar flexibility) or `histplot` (an axes-level function for histograms).\n",
      "\n",
      "For a guide to updating your code to use the new functions, please see\n",
      "https://gist.github.com/mwaskom/de44147ed2974457ad6372750bbe5751\n",
      "\n",
      "  sns.distplot(sales_sub['State Bottle Cost'], bins=30)\n"
     ]
    },
    {
     "data": {
      "text/plain": [
       "<AxesSubplot:xlabel='State Bottle Cost', ylabel='Density'>"
      ]
     },
     "execution_count": 7,
     "metadata": {},
     "output_type": "execute_result"
    },
    {
     "data": {
      "image/png": "[encoded data removed]",
      "text/plain": [
       "<Figure size 640x480 with 1 Axes>"
      ]
     },
     "metadata": {},
     "output_type": "display_data"
    }
   ],
   "source": [
    "# check for extreme values\n",
    "sns.distplot(sales_sub['State Bottle Cost'], bins=30)"
   ]
  },
  {
   "cell_type": "code",
   "execution_count": 9,
   "id": "89c1d4f3",
   "metadata": {
    "ExecuteTime": {
     "end_time": "2022-12-15T08:39:36.178422Z",
     "start_time": "2022-12-15T08:39:16.306643Z"
    }
   },
   "outputs": [
    {
     "name": "stderr",
     "output_type": "stream",
     "text": [
      "/var/folders/zw/37lckzg54ll7byfmgjl5pkw40000gn/T/ipykernel_5977/455953907.py:1: UserWarning: \n",
      "\n",
      "`distplot` is a deprecated function and will be removed in seaborn v0.14.0.\n",
      "\n",
      "Please adapt your code to use either `displot` (a figure-level function with\n",
      "similar flexibility) or `histplot` (an axes-level function for histograms).\n",
      "\n",
      "For a guide to updating your code to use the new functions, please see\n",
      "https://gist.github.com/mwaskom/de44147ed2974457ad6372750bbe5751\n",
      "\n",
      "  sns.distplot(sales_sub['State Bottle Retail'], bins=30)\n"
     ]
    },
    {
     "data": {
      "text/plain": [
       "<AxesSubplot:xlabel='State Bottle Retail', ylabel='Density'>"
      ]
     },
     "execution_count": 9,
     "metadata": {},
     "output_type": "execute_result"
    },
    {
     "data": {
      "image/png": "[encoded data removed]",
      "text/plain": [
       "<Figure size 640x480 with 1 Axes>"
      ]
     },
     "metadata": {},
     "output_type": "display_data"
    }
   ],
   "source": [
    "sns.distplot(sales_sub['State Bottle Retail'], bins=30)"
   ]
  },
  {
   "cell_type": "code",
   "execution_count": 8,
   "id": "ab2b0d2a",
   "metadata": {
    "ExecuteTime": {
     "end_time": "2022-12-15T08:39:16.302942Z",
     "start_time": "2022-12-15T08:38:52.100198Z"
    }
   },
   "outputs": [
    {
     "data": {
      "image/png": "[encoded data removed]",
      "text/plain": [
       "<Figure size 640x480 with 1 Axes>"
      ]
     },
     "metadata": {},
     "output_type": "display_data"
    }
   ],
   "source": [
    "sales_sub.plot(x = 'State Bottle Cost', y='State Bottle Retail',style='o') # The style option creates a scatterplot; without it, we only have lines.\n",
    "plt.title('Bottle cost vs Bottle retail price')  \n",
    "plt.xlabel('Bottle cost')  \n",
    "plt.ylabel('Bottle retail price')  \n",
    "plt.show()"
   ]
  },
  {
   "cell_type": "markdown",
   "id": "766cedc5",
   "metadata": {},
   "source": [
    "Results are we have heaps of outliers and they have a huge impact. I will therefore create a subset without outliers( > Bottle cost of 2000) but will conduct the analysis with the original first to see how the preformance is."
   ]
  },
  {
   "cell_type": "markdown",
   "id": "4aab5196",
   "metadata": {},
   "source": [
    "### data prep for regression analysis"
   ]
  },
  {
   "cell_type": "code",
   "execution_count": 11,
   "id": "e6d0af04",
   "metadata": {
    "ExecuteTime": {
     "end_time": "2022-12-15T08:42:41.733848Z",
     "start_time": "2022-12-15T08:42:41.729826Z"
    }
   },
   "outputs": [],
   "source": [
    "# Reshape the variables into NumPy arrays\n",
    "\n",
    "X = sales_sub['State Bottle Cost'].values.reshape(-1,1)\n",
    "y = sales_sub['State Bottle Retail'].values.reshape(-1,1)"
   ]
  },
  {
   "cell_type": "code",
   "execution_count": 12,
   "id": "fc22e4f0",
   "metadata": {
    "ExecuteTime": {
     "end_time": "2022-12-15T08:42:52.260839Z",
     "start_time": "2022-12-15T08:42:51.294520Z"
    }
   },
   "outputs": [],
   "source": [
    "# Split data into a training set and a test set.\n",
    "\n",
    "X_train, X_test, y_train, y_test = train_test_split(X, y, test_size=0.3, random_state=0)"
   ]
  },
  {
   "cell_type": "markdown",
   "id": "8261017f",
   "metadata": {},
   "source": [
    "### regression analysis"
   ]
  },
  {
   "cell_type": "code",
   "execution_count": 13,
   "id": "9c5f9351",
   "metadata": {
    "ExecuteTime": {
     "end_time": "2022-12-15T08:43:15.966368Z",
     "start_time": "2022-12-15T08:43:15.963415Z"
    }
   },
   "outputs": [],
   "source": [
    "# Create a regression object.\n",
    "\n",
    "regression = LinearRegression()"
   ]
  },
  {
   "cell_type": "code",
   "execution_count": 14,
   "id": "4f507bf4",
   "metadata": {
    "ExecuteTime": {
     "end_time": "2022-12-15T08:43:33.145233Z",
     "start_time": "2022-12-15T08:43:32.789126Z"
    }
   },
   "outputs": [
    {
     "data": {
      "text/html": [
       "<style>#sk-container-id-1 {color: black;background-color: white;}#sk-container-id-1 pre{padding: 0;}#sk-container-id-1 div.sk-toggleable {background-color: white;}#sk-container-id-1 label.sk-toggleable__label {cursor: pointer;display: block;width: 100%;margin-bottom: 0;padding: 0.3em;box-sizing: border-box;text-align: center;}#sk-container-id-1 label.sk-toggleable__label-arrow:before {content: \"▸\";float: left;margin-right: 0.25em;color: #696969;}#sk-container-id-1 label.sk-toggleable__label-arrow:hover:before {color: black;}#sk-container-id-1 div.sk-estimator:hover label.sk-toggleable__label-arrow:before {color: black;}#sk-container-id-1 div.sk-toggleable__content {max-height: 0;max-width: 0;overflow: hidden;text-align: left;background-color: #f0f8ff;}#sk-container-id-1 div.sk-toggleable__content pre {margin: 0.2em;color: black;border-radius: 0.25em;background-color: #f0f8ff;}#sk-container-id-1 input.sk-toggleable__control:checked~div.sk-toggleable__content {max-height: 200px;max-width: 100%;overflow: auto;}#sk-container-id-1 input.sk-toggleable__control:checked~label.sk-toggleable__label-arrow:before {content: \"▾\";}#sk-container-id-1 div.sk-estimator input.sk-toggleable__control:checked~label.sk-toggleable__label {background-color: #d4ebff;}#sk-container-id-1 div.sk-label input.sk-toggleable__control:checked~label.sk-toggleable__label {background-color: #d4ebff;}#sk-container-id-1 input.sk-hidden--visually {border: 0;clip: rect(1px 1px 1px 1px);clip: rect(1px, 1px, 1px, 1px);height: 1px;margin: -1px;overflow: hidden;padding: 0;position: absolute;width: 1px;}#sk-container-id-1 div.sk-estimator {font-family: monospace;background-color: #f0f8ff;border: 1px dotted black;border-radius: 0.25em;box-sizing: border-box;margin-bottom: 0.5em;}#sk-container-id-1 div.sk-estimator:hover {background-color: #d4ebff;}#sk-container-id-1 div.sk-parallel-item::after {content: \"\";width: 100%;border-bottom: 1px solid gray;flex-grow: 1;}#sk-container-id-1 div.sk-label:hover label.sk-toggleable__label {background-color: #d4ebff;}#sk-container-id-1 div.sk-serial::before {content: \"\";position: absolute;border-left: 1px solid gray;box-sizing: border-box;top: 0;bottom: 0;left: 50%;z-index: 0;}#sk-container-id-1 div.sk-serial {display: flex;flex-direction: column;align-items: center;background-color: white;padding-right: 0.2em;padding-left: 0.2em;position: relative;}#sk-container-id-1 div.sk-item {position: relative;z-index: 1;}#sk-container-id-1 div.sk-parallel {display: flex;align-items: stretch;justify-content: center;background-color: white;position: relative;}#sk-container-id-1 div.sk-item::before, #sk-container-id-1 div.sk-parallel-item::before {content: \"\";position: absolute;border-left: 1px solid gray;box-sizing: border-box;top: 0;bottom: 0;left: 50%;z-index: -1;}#sk-container-id-1 div.sk-parallel-item {display: flex;flex-direction: column;z-index: 1;position: relative;background-color: white;}#sk-container-id-1 div.sk-parallel-item:first-child::after {align-self: flex-end;width: 50%;}#sk-container-id-1 div.sk-parallel-item:last-child::after {align-self: flex-start;width: 50%;}#sk-container-id-1 div.sk-parallel-item:only-child::after {width: 0;}#sk-container-id-1 div.sk-dashed-wrapped {border: 1px dashed gray;margin: 0 0.4em 0.5em 0.4em;box-sizing: border-box;padding-bottom: 0.4em;background-color: white;}#sk-container-id-1 div.sk-label label {font-family: monospace;font-weight: bold;display: inline-block;line-height: 1.2em;}#sk-container-id-1 div.sk-label-container {text-align: center;}#sk-container-id-1 div.sk-container {/* jupyter's `normalize.less` sets `[hidden] { display: none; }` but bootstrap.min.css set `[hidden] { display: none !important; }` so we also need the `!important` here to be able to override the default hidden behavior on the sphinx rendered scikit-learn.org. See: https://github.com/scikit-learn/scikit-learn/issues/21755 */display: inline-block !important;position: relative;}#sk-container-id-1 div.sk-text-repr-fallback {display: none;}</style><div id=\"sk-container-id-1\" class=\"sk-top-container\"><div class=\"sk-text-repr-fallback\"><pre>LinearRegression()</pre><b>In a Jupyter environment, please rerun this cell to show the HTML representation or trust the notebook. <br />On GitHub, the HTML representation is unable to render, please try loading this page with nbviewer.org.</b></div><div class=\"sk-container\" hidden><div class=\"sk-item\"><div class=\"sk-estimator sk-toggleable\"><input class=\"sk-toggleable__control sk-hidden--visually\" id=\"sk-estimator-id-1\" type=\"checkbox\" checked><label for=\"sk-estimator-id-1\" class=\"sk-toggleable__label sk-toggleable__label-arrow\">LinearRegression</label><div class=\"sk-toggleable__content\"><pre>LinearRegression()</pre></div></div></div></div></div>"
      ],
      "text/plain": [
       "LinearRegression()"
      ]
     },
     "execution_count": 14,
     "metadata": {},
     "output_type": "execute_result"
    }
   ],
   "source": [
    "# Fit the regression object onto the training set\n",
    "\n",
    "regression.fit(X_train, y_train)"
   ]
  },
  {
   "cell_type": "code",
   "execution_count": 15,
   "id": "95aee6b1",
   "metadata": {
    "ExecuteTime": {
     "end_time": "2022-12-15T08:43:52.406406Z",
     "start_time": "2022-12-15T08:43:52.361174Z"
    }
   },
   "outputs": [],
   "source": [
    "# Predict the values of y using X.\n",
    "\n",
    "y_predicted = regression.predict(X_test)"
   ]
  },
  {
   "cell_type": "code",
   "execution_count": 16,
   "id": "9b9281eb",
   "metadata": {
    "ExecuteTime": {
     "end_time": "2022-12-15T08:46:15.082037Z",
     "start_time": "2022-12-15T08:46:11.694023Z"
    }
   },
   "outputs": [
    {
     "data": {
      "image/png": "[encoded data removed]",
      "text/plain": [
       "<Figure size 640x480 with 1 Axes>"
      ]
     },
     "metadata": {},
     "output_type": "display_data"
    }
   ],
   "source": [
    "# Create a plot to visualize results\n",
    "\n",
    "plot_test = plt\n",
    "plot_test.scatter(X_test, y_test, color='blue', s = 15)\n",
    "plot_test.plot(X_test, y_predicted, color='red', linewidth =2)\n",
    "plot_test.title('Bottle cost vs Bottle retail price (Test set)')\n",
    "plot_test.xlabel('Bottle cost')\n",
    "plot_test.ylabel('Bottle retail price')\n",
    "plot_test.show()"
   ]
  },
  {
   "cell_type": "markdown",
   "id": "0f759bbb",
   "metadata": {},
   "source": [
    "Result looks pretty good, I would even say the line fits on point"
   ]
  },
  {
   "cell_type": "code",
   "execution_count": 18,
   "id": "a10cc03e",
   "metadata": {
    "ExecuteTime": {
     "end_time": "2022-12-15T08:47:09.964131Z",
     "start_time": "2022-12-15T08:47:09.914258Z"
    }
   },
   "outputs": [
    {
     "name": "stdout",
     "output_type": "stream",
     "text": [
      "Slope: [[1.49989434]]\n",
      "Mean squared error:  0.0155686512752291\n",
      "R2 score:  0.9999427369447016\n"
     ]
    }
   ],
   "source": [
    "# check model summary statistics\n",
    "\n",
    "rmse = mean_squared_error(y_test, y_predicted) \n",
    "r2 = r2_score(y_test, y_predicted)\n",
    "\n",
    "print('Slope:' ,regression.coef_)\n",
    "print('Mean squared error: ', rmse) # we want that value as low as posible\n",
    "print('R2 score: ', r2) # we want that value to be as close to 1 as possible"
   ]
  },
  {
   "cell_type": "markdown",
   "id": "affe5e8b",
   "metadata": {},
   "source": [
    "Looking at this our model is really precise and usable. Since that is the case we don't really need to exclude outliers."
   ]
  },
  {
   "cell_type": "code",
   "execution_count": 19,
   "id": "21a642b7",
   "metadata": {
    "ExecuteTime": {
     "end_time": "2022-12-15T08:49:53.452434Z",
     "start_time": "2022-12-15T08:49:53.405045Z"
    }
   },
   "outputs": [
    {
     "data": {
      "text/html": [
       "<div>\n",
       "<style scoped>\n",
       "    .dataframe tbody tr th:only-of-type {\n",
       "        vertical-align: middle;\n",
       "    }\n",
       "\n",
       "    .dataframe tbody tr th {\n",
       "        vertical-align: top;\n",
       "    }\n",
       "\n",
       "    .dataframe thead th {\n",
       "        text-align: right;\n",
       "    }\n",
       "</style>\n",
       "<table border=\"1\" class=\"dataframe\">\n",
       "  <thead>\n",
       "    <tr style=\"text-align: right;\">\n",
       "      <th></th>\n",
       "      <th>Actual</th>\n",
       "      <th>Predicted</th>\n",
       "    </tr>\n",
       "  </thead>\n",
       "  <tbody>\n",
       "    <tr>\n",
       "      <th>0</th>\n",
       "      <td>11.37</td>\n",
       "      <td>11.392888</td>\n",
       "    </tr>\n",
       "    <tr>\n",
       "      <th>1</th>\n",
       "      <td>18.75</td>\n",
       "      <td>18.772368</td>\n",
       "    </tr>\n",
       "    <tr>\n",
       "      <th>2</th>\n",
       "      <td>26.40</td>\n",
       "      <td>26.421829</td>\n",
       "    </tr>\n",
       "    <tr>\n",
       "      <th>3</th>\n",
       "      <td>6.08</td>\n",
       "      <td>6.098261</td>\n",
       "    </tr>\n",
       "    <tr>\n",
       "      <th>4</th>\n",
       "      <td>8.22</td>\n",
       "      <td>8.243110</td>\n",
       "    </tr>\n",
       "    <tr>\n",
       "      <th>5</th>\n",
       "      <td>10.25</td>\n",
       "      <td>10.267967</td>\n",
       "    </tr>\n",
       "    <tr>\n",
       "      <th>6</th>\n",
       "      <td>15.00</td>\n",
       "      <td>15.022632</td>\n",
       "    </tr>\n",
       "    <tr>\n",
       "      <th>7</th>\n",
       "      <td>5.91</td>\n",
       "      <td>5.933273</td>\n",
       "    </tr>\n",
       "    <tr>\n",
       "      <th>8</th>\n",
       "      <td>4.83</td>\n",
       "      <td>4.853349</td>\n",
       "    </tr>\n",
       "    <tr>\n",
       "      <th>9</th>\n",
       "      <td>13.50</td>\n",
       "      <td>13.522738</td>\n",
       "    </tr>\n",
       "    <tr>\n",
       "      <th>10</th>\n",
       "      <td>15.74</td>\n",
       "      <td>15.757581</td>\n",
       "    </tr>\n",
       "    <tr>\n",
       "      <th>11</th>\n",
       "      <td>17.99</td>\n",
       "      <td>18.007422</td>\n",
       "    </tr>\n",
       "    <tr>\n",
       "      <th>12</th>\n",
       "      <td>6.33</td>\n",
       "      <td>6.353243</td>\n",
       "    </tr>\n",
       "    <tr>\n",
       "      <th>13</th>\n",
       "      <td>14.25</td>\n",
       "      <td>14.272685</td>\n",
       "    </tr>\n",
       "    <tr>\n",
       "      <th>14</th>\n",
       "      <td>24.00</td>\n",
       "      <td>24.021998</td>\n",
       "    </tr>\n",
       "    <tr>\n",
       "      <th>15</th>\n",
       "      <td>13.50</td>\n",
       "      <td>13.522738</td>\n",
       "    </tr>\n",
       "    <tr>\n",
       "      <th>16</th>\n",
       "      <td>7.33</td>\n",
       "      <td>7.358172</td>\n",
       "    </tr>\n",
       "    <tr>\n",
       "      <th>17</th>\n",
       "      <td>13.47</td>\n",
       "      <td>13.492740</td>\n",
       "    </tr>\n",
       "    <tr>\n",
       "      <th>18</th>\n",
       "      <td>18.81</td>\n",
       "      <td>18.832364</td>\n",
       "    </tr>\n",
       "    <tr>\n",
       "      <th>19</th>\n",
       "      <td>24.74</td>\n",
       "      <td>24.756947</td>\n",
       "    </tr>\n",
       "    <tr>\n",
       "      <th>20</th>\n",
       "      <td>12.30</td>\n",
       "      <td>12.322822</td>\n",
       "    </tr>\n",
       "    <tr>\n",
       "      <th>21</th>\n",
       "      <td>12.49</td>\n",
       "      <td>12.517809</td>\n",
       "    </tr>\n",
       "    <tr>\n",
       "      <th>22</th>\n",
       "      <td>9.49</td>\n",
       "      <td>9.398029</td>\n",
       "    </tr>\n",
       "    <tr>\n",
       "      <th>23</th>\n",
       "      <td>4.11</td>\n",
       "      <td>4.133399</td>\n",
       "    </tr>\n",
       "    <tr>\n",
       "      <th>24</th>\n",
       "      <td>6.81</td>\n",
       "      <td>6.833209</td>\n",
       "    </tr>\n",
       "  </tbody>\n",
       "</table>\n",
       "</div>"
      ],
      "text/plain": [
       "    Actual  Predicted\n",
       "0    11.37  11.392888\n",
       "1    18.75  18.772368\n",
       "2    26.40  26.421829\n",
       "3     6.08   6.098261\n",
       "4     8.22   8.243110\n",
       "5    10.25  10.267967\n",
       "6    15.00  15.022632\n",
       "7     5.91   5.933273\n",
       "8     4.83   4.853349\n",
       "9    13.50  13.522738\n",
       "10   15.74  15.757581\n",
       "11   17.99  18.007422\n",
       "12    6.33   6.353243\n",
       "13   14.25  14.272685\n",
       "14   24.00  24.021998\n",
       "15   13.50  13.522738\n",
       "16    7.33   7.358172\n",
       "17   13.47  13.492740\n",
       "18   18.81  18.832364\n",
       "19   24.74  24.756947\n",
       "20   12.30  12.322822\n",
       "21   12.49  12.517809\n",
       "22    9.49   9.398029\n",
       "23    4.11   4.133399\n",
       "24    6.81   6.833209"
      ]
     },
     "execution_count": 19,
     "metadata": {},
     "output_type": "execute_result"
    }
   ],
   "source": [
    "# create df comparing actual and predicted data\n",
    "compare_df = pd.DataFrame({'Actual': y_test.flatten(), 'Predicted': y_predicted.flatten()})\n",
    "compare_df.head(25)"
   ]
  },
  {
   "cell_type": "markdown",
   "id": "40500fc8",
   "metadata": {},
   "source": [
    "### Conclusion\n",
    "The moddel performed really really good on our test data. The conslusion of that is, that we can actually use this model to predict the price of a bottle in the shops based on the price of the bottle it was imported f"
   ]
  }
 ],
 "metadata": {
  "kernelspec": {
   "display_name": "Python 3 (ipykernel)",
   "language": "python",
   "name": "python3"
  },
  "language_info": {
   "codemirror_mode": {
    "name": "ipython",
    "version": 3
   },
   "file_extension": ".py",
   "mimetype": "text/x-python",
   "name": "python",
   "nbconvert_exporter": "python",
   "pygments_lexer": "ipython3",
   "version": "3.8.15"
  }
 },
 "nbformat": 4,
 "nbformat_minor": 5
}
