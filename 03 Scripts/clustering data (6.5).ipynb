{
 "cells": [
  {
   "cell_type": "markdown",
   "id": "7a94cf44",
   "metadata": {},
   "source": [
    "# Content\n",
    "- Data wrangling\n",
    "- Elbow technique\n",
    "- k-mean clutering (4 clusters)\n",
    "- understanding results\n",
    "- Results"
   ]
  },
  {
   "cell_type": "code",
   "execution_count": 1,
   "id": "a459e73f",
   "metadata": {
    "ExecuteTime": {
     "end_time": "2022-12-20T11:27:50.593725Z",
     "start_time": "2022-12-20T11:27:47.727662Z"
    }
   },
   "outputs": [],
   "source": [
    "# import lybaries\n",
    "import pandas as pd\n",
    "import numpy as np\n",
    "import seaborn as sns\n",
    "import matplotlib\n",
    "import matplotlib.pyplot as plt\n",
    "import os\n",
    "import sklearn\n",
    "from sklearn.cluster import KMeans # Here is where you import the k-means algorithm from scikit-learn.\n",
    "import pylab as pl # PyLab is a convenience module that bulk imports matplotlib."
   ]
  },
  {
   "cell_type": "code",
   "execution_count": 2,
   "id": "a0e740be",
   "metadata": {
    "ExecuteTime": {
     "end_time": "2022-12-20T11:27:50.607809Z",
     "start_time": "2022-12-20T11:27:50.594944Z"
    }
   },
   "outputs": [],
   "source": [
    "%matplotlib inline"
   ]
  },
  {
   "cell_type": "code",
   "execution_count": 3,
   "id": "b8c20813",
   "metadata": {
    "ExecuteTime": {
     "end_time": "2022-12-20T11:27:56.676696Z",
     "start_time": "2022-12-20T11:27:50.611241Z"
    }
   },
   "outputs": [],
   "source": [
    "# import data\n",
    "path = r'/Users/lennartzeidler/Desktop/Uni/(6) Advances Analytics and Dashboard Design/liquid store sales analysis'\n",
    "sales = pd.read_pickle(os.path.join(path, '02 Data','Prepared Data', 'prepared_map_data.pkl'))"
   ]
  },
  {
   "cell_type": "code",
   "execution_count": null,
   "id": "81e8230b",
   "metadata": {},
   "outputs": [],
   "source": []
  },
  {
   "cell_type": "code",
   "execution_count": 4,
   "id": "b3ba3343",
   "metadata": {
    "ExecuteTime": {
     "end_time": "2022-12-20T11:27:56.685444Z",
     "start_time": "2022-12-20T11:27:56.679344Z"
    }
   },
   "outputs": [
    {
     "data": {
      "text/plain": [
       "(12410125, 19)"
      ]
     },
     "execution_count": 4,
     "metadata": {},
     "output_type": "execute_result"
    }
   ],
   "source": [
    "sales.shape"
   ]
  },
  {
   "cell_type": "code",
   "execution_count": 5,
   "id": "e1f8ba3f",
   "metadata": {
    "ExecuteTime": {
     "end_time": "2022-12-20T11:27:56.708859Z",
     "start_time": "2022-12-20T11:27:56.687826Z"
    }
   },
   "outputs": [
    {
     "data": {
      "text/html": [
       "<div>\n",
       "<style scoped>\n",
       "    .dataframe tbody tr th:only-of-type {\n",
       "        vertical-align: middle;\n",
       "    }\n",
       "\n",
       "    .dataframe tbody tr th {\n",
       "        vertical-align: top;\n",
       "    }\n",
       "\n",
       "    .dataframe thead th {\n",
       "        text-align: right;\n",
       "    }\n",
       "</style>\n",
       "<table border=\"1\" class=\"dataframe\">\n",
       "  <thead>\n",
       "    <tr style=\"text-align: right;\">\n",
       "      <th></th>\n",
       "      <th>Invoice/Item Number</th>\n",
       "      <th>Date</th>\n",
       "      <th>Store Name</th>\n",
       "      <th>Address</th>\n",
       "      <th>City</th>\n",
       "      <th>Zip Code</th>\n",
       "      <th>Store Location</th>\n",
       "      <th>Country</th>\n",
       "      <th>Category Name</th>\n",
       "      <th>Vendor Name</th>\n",
       "      <th>Item Description</th>\n",
       "      <th>Pack</th>\n",
       "      <th>Bottle Volume (ml)</th>\n",
       "      <th>State Bottle Cost</th>\n",
       "      <th>State Bottle Retail</th>\n",
       "      <th>Bottles Sold</th>\n",
       "      <th>Sale (Dollars)</th>\n",
       "      <th>Volume Sold (Liters)</th>\n",
       "      <th>Volume Sold (Gallons)</th>\n",
       "    </tr>\n",
       "  </thead>\n",
       "  <tbody>\n",
       "    <tr>\n",
       "      <th>6</th>\n",
       "      <td>S28865700001</td>\n",
       "      <td>11/09/2015</td>\n",
       "      <td>Hy-Vee Food Store #3 / Waterloo</td>\n",
       "      <td>1422 FLAMMANG DR</td>\n",
       "      <td>WATERLOO</td>\n",
       "      <td>50702</td>\n",
       "      <td>1422 FLAMMANG DR\\nWATERLOO 50702\\n(42.459938, ...</td>\n",
       "      <td>Black Hawk</td>\n",
       "      <td>DECANTERS &amp; SPECIALTY PACKAGES</td>\n",
       "      <td>Duggan's Distillers Products Corp</td>\n",
       "      <td>Forbidden Secret Coffee Pack</td>\n",
       "      <td>6</td>\n",
       "      <td>1500</td>\n",
       "      <td>11.62</td>\n",
       "      <td>17.43</td>\n",
       "      <td>6</td>\n",
       "      <td>104.58</td>\n",
       "      <td>9.0</td>\n",
       "      <td>2.38</td>\n",
       "    </tr>\n",
       "    <tr>\n",
       "      <th>8</th>\n",
       "      <td>S29339300091</td>\n",
       "      <td>11/30/2015</td>\n",
       "      <td>Hy-Vee Wine &amp; Spirits / Muscatine</td>\n",
       "      <td>522 MULBERRY, SUITE A</td>\n",
       "      <td>MUSCATINE</td>\n",
       "      <td>52761</td>\n",
       "      <td>522 MULBERRY, SUITE A\\nMUSCATINE 52761\\n</td>\n",
       "      <td>Muscatine</td>\n",
       "      <td>DECANTERS &amp; SPECIALTY PACKAGES</td>\n",
       "      <td>Jim Beam Brands</td>\n",
       "      <td>Laphroaig w/ Whiskey Stones</td>\n",
       "      <td>12</td>\n",
       "      <td>750</td>\n",
       "      <td>19.58</td>\n",
       "      <td>29.37</td>\n",
       "      <td>4</td>\n",
       "      <td>117.48</td>\n",
       "      <td>3.0</td>\n",
       "      <td>0.79</td>\n",
       "    </tr>\n",
       "    <tr>\n",
       "      <th>13</th>\n",
       "      <td>S28866900001</td>\n",
       "      <td>11/11/2015</td>\n",
       "      <td>Spirits, Stogies and Stuff</td>\n",
       "      <td>118 South Main St.</td>\n",
       "      <td>HOLSTEIN</td>\n",
       "      <td>51025</td>\n",
       "      <td>118 South Main St.\\nHOLSTEIN 51025\\n(42.490073...</td>\n",
       "      <td>Ida</td>\n",
       "      <td>DECANTERS &amp; SPECIALTY PACKAGES</td>\n",
       "      <td>Duggan's Distillers Products Corp</td>\n",
       "      <td>Forbidden Secret Coffee Pack</td>\n",
       "      <td>6</td>\n",
       "      <td>1500</td>\n",
       "      <td>11.62</td>\n",
       "      <td>17.43</td>\n",
       "      <td>1</td>\n",
       "      <td>17.43</td>\n",
       "      <td>1.5</td>\n",
       "      <td>0.40</td>\n",
       "    </tr>\n",
       "    <tr>\n",
       "      <th>18</th>\n",
       "      <td>S29134300126</td>\n",
       "      <td>11/18/2015</td>\n",
       "      <td>J D Spirits Liquor</td>\n",
       "      <td>1023  9TH ST</td>\n",
       "      <td>ONAWA</td>\n",
       "      <td>51040</td>\n",
       "      <td>1023 9TH ST\\nONAWA 51040\\n(42.025841, -96.095845)</td>\n",
       "      <td>Monona</td>\n",
       "      <td>CREAM LIQUEURS</td>\n",
       "      <td>MHW Ltd</td>\n",
       "      <td>Rumchata \"GoChatas\"</td>\n",
       "      <td>1</td>\n",
       "      <td>6000</td>\n",
       "      <td>99.00</td>\n",
       "      <td>148.50</td>\n",
       "      <td>1</td>\n",
       "      <td>148.50</td>\n",
       "      <td>6.0</td>\n",
       "      <td>1.59</td>\n",
       "    </tr>\n",
       "    <tr>\n",
       "      <th>21</th>\n",
       "      <td>S29282800048</td>\n",
       "      <td>11/23/2015</td>\n",
       "      <td>Hy-Vee Wine and Spirits / Pella</td>\n",
       "      <td>512 E OSKALOOSA</td>\n",
       "      <td>PELLA</td>\n",
       "      <td>50219</td>\n",
       "      <td>512 E OSKALOOSA\\nPELLA 50219\\n(41.397023, -92....</td>\n",
       "      <td>Marion</td>\n",
       "      <td>DECANTERS &amp; SPECIALTY PACKAGES</td>\n",
       "      <td>Duggan's Distillers Products Corp</td>\n",
       "      <td>Forbidden Secret Coffee Pack</td>\n",
       "      <td>6</td>\n",
       "      <td>1500</td>\n",
       "      <td>11.62</td>\n",
       "      <td>17.43</td>\n",
       "      <td>6</td>\n",
       "      <td>104.58</td>\n",
       "      <td>9.0</td>\n",
       "      <td>2.38</td>\n",
       "    </tr>\n",
       "  </tbody>\n",
       "</table>\n",
       "</div>"
      ],
      "text/plain": [
       "   Invoice/Item Number        Date                         Store Name  \\\n",
       "6         S28865700001  11/09/2015    Hy-Vee Food Store #3 / Waterloo   \n",
       "8         S29339300091  11/30/2015  Hy-Vee Wine & Spirits / Muscatine   \n",
       "13        S28866900001  11/11/2015         Spirits, Stogies and Stuff   \n",
       "18        S29134300126  11/18/2015                 J D Spirits Liquor   \n",
       "21        S29282800048  11/23/2015    Hy-Vee Wine and Spirits / Pella   \n",
       "\n",
       "                  Address       City Zip Code  \\\n",
       "6        1422 FLAMMANG DR   WATERLOO    50702   \n",
       "8   522 MULBERRY, SUITE A  MUSCATINE    52761   \n",
       "13     118 South Main St.   HOLSTEIN    51025   \n",
       "18           1023  9TH ST      ONAWA    51040   \n",
       "21        512 E OSKALOOSA      PELLA    50219   \n",
       "\n",
       "                                       Store Location     Country  \\\n",
       "6   1422 FLAMMANG DR\\nWATERLOO 50702\\n(42.459938, ...  Black Hawk   \n",
       "8            522 MULBERRY, SUITE A\\nMUSCATINE 52761\\n   Muscatine   \n",
       "13  118 South Main St.\\nHOLSTEIN 51025\\n(42.490073...         Ida   \n",
       "18  1023 9TH ST\\nONAWA 51040\\n(42.025841, -96.095845)      Monona   \n",
       "21  512 E OSKALOOSA\\nPELLA 50219\\n(41.397023, -92....      Marion   \n",
       "\n",
       "                     Category Name                        Vendor Name  \\\n",
       "6   DECANTERS & SPECIALTY PACKAGES  Duggan's Distillers Products Corp   \n",
       "8   DECANTERS & SPECIALTY PACKAGES                    Jim Beam Brands   \n",
       "13  DECANTERS & SPECIALTY PACKAGES  Duggan's Distillers Products Corp   \n",
       "18                  CREAM LIQUEURS                            MHW Ltd   \n",
       "21  DECANTERS & SPECIALTY PACKAGES  Duggan's Distillers Products Corp   \n",
       "\n",
       "                Item Description  Pack  Bottle Volume (ml)  State Bottle Cost  \\\n",
       "6   Forbidden Secret Coffee Pack     6                1500              11.62   \n",
       "8    Laphroaig w/ Whiskey Stones    12                 750              19.58   \n",
       "13  Forbidden Secret Coffee Pack     6                1500              11.62   \n",
       "18           Rumchata \"GoChatas\"     1                6000              99.00   \n",
       "21  Forbidden Secret Coffee Pack     6                1500              11.62   \n",
       "\n",
       "    State Bottle Retail  Bottles Sold  Sale (Dollars)  Volume Sold (Liters)  \\\n",
       "6                 17.43             6          104.58                   9.0   \n",
       "8                 29.37             4          117.48                   3.0   \n",
       "13                17.43             1           17.43                   1.5   \n",
       "18               148.50             1          148.50                   6.0   \n",
       "21                17.43             6          104.58                   9.0   \n",
       "\n",
       "    Volume Sold (Gallons)  \n",
       "6                    2.38  \n",
       "8                    0.79  \n",
       "13                   0.40  \n",
       "18                   1.59  \n",
       "21                   2.38  "
      ]
     },
     "execution_count": 5,
     "metadata": {},
     "output_type": "execute_result"
    }
   ],
   "source": [
    "sales.head()"
   ]
  },
  {
   "cell_type": "markdown",
   "id": "84557605",
   "metadata": {},
   "source": [
    "### Data wrangling"
   ]
  },
  {
   "cell_type": "code",
   "execution_count": 6,
   "id": "49cc10c7",
   "metadata": {
    "ExecuteTime": {
     "end_time": "2022-12-20T11:27:57.044117Z",
     "start_time": "2022-12-20T11:27:56.711075Z"
    }
   },
   "outputs": [],
   "source": [
    "# create subset containing only numerical values\n",
    "sales_num = sales[['Pack', 'Bottle Volume (ml)', 'State Bottle Cost', 'State Bottle Retail', 'Bottles Sold', 'Sale (Dollars)', 'Volume Sold (Liters)']]"
   ]
  },
  {
   "cell_type": "code",
   "execution_count": 7,
   "id": "069089b1",
   "metadata": {
    "ExecuteTime": {
     "end_time": "2022-12-20T11:27:57.051063Z",
     "start_time": "2022-12-20T11:27:57.046246Z"
    },
    "scrolled": true
   },
   "outputs": [
    {
     "name": "stderr",
     "output_type": "stream",
     "text": [
      "/var/folders/zw/37lckzg54ll7byfmgjl5pkw40000gn/T/ipykernel_32275/1424979297.py:2: SettingWithCopyWarning: \n",
      "A value is trying to be set on a copy of a slice from a DataFrame\n",
      "\n",
      "See the caveats in the documentation: https://pandas.pydata.org/pandas-docs/stable/user_guide/indexing.html#returning-a-view-versus-a-copy\n",
      "  sales_num.rename(columns = {'Bottle Volume (ml)': 'Bottle_vol', 'State Bottle Cost': 'Bottle_cost', 'State Bottle Retail': 'Bottle_sale', 'Bottles Sold': 'Bottles_sold', 'Sale (Dollars)': 'Sale', 'Volume Sold (Liters)': 'Volumne_sold'}, inplace = True)\n"
     ]
    }
   ],
   "source": [
    "# renaming some columns\n",
    "sales_num.rename(columns = {'Bottle Volume (ml)': 'Bottle_vol', 'State Bottle Cost': 'Bottle_cost', 'State Bottle Retail': 'Bottle_sale', 'Bottles Sold': 'Bottles_sold', 'Sale (Dollars)': 'Sale', 'Volume Sold (Liters)': 'Volumne_sold'}, inplace = True)"
   ]
  },
  {
   "cell_type": "code",
   "execution_count": 8,
   "id": "2d1ce7a6",
   "metadata": {
    "ExecuteTime": {
     "end_time": "2022-12-20T11:27:57.063140Z",
     "start_time": "2022-12-20T11:27:57.053150Z"
    },
    "scrolled": true
   },
   "outputs": [
    {
     "data": {
      "text/html": [
       "<div>\n",
       "<style scoped>\n",
       "    .dataframe tbody tr th:only-of-type {\n",
       "        vertical-align: middle;\n",
       "    }\n",
       "\n",
       "    .dataframe tbody tr th {\n",
       "        vertical-align: top;\n",
       "    }\n",
       "\n",
       "    .dataframe thead th {\n",
       "        text-align: right;\n",
       "    }\n",
       "</style>\n",
       "<table border=\"1\" class=\"dataframe\">\n",
       "  <thead>\n",
       "    <tr style=\"text-align: right;\">\n",
       "      <th></th>\n",
       "      <th>Pack</th>\n",
       "      <th>Bottle_vol</th>\n",
       "      <th>Bottle_cost</th>\n",
       "      <th>Bottle_sale</th>\n",
       "      <th>Bottles_sold</th>\n",
       "      <th>Sale</th>\n",
       "      <th>Volumne_sold</th>\n",
       "    </tr>\n",
       "  </thead>\n",
       "  <tbody>\n",
       "    <tr>\n",
       "      <th>6</th>\n",
       "      <td>6</td>\n",
       "      <td>1500</td>\n",
       "      <td>11.62</td>\n",
       "      <td>17.43</td>\n",
       "      <td>6</td>\n",
       "      <td>104.58</td>\n",
       "      <td>9.0</td>\n",
       "    </tr>\n",
       "    <tr>\n",
       "      <th>8</th>\n",
       "      <td>12</td>\n",
       "      <td>750</td>\n",
       "      <td>19.58</td>\n",
       "      <td>29.37</td>\n",
       "      <td>4</td>\n",
       "      <td>117.48</td>\n",
       "      <td>3.0</td>\n",
       "    </tr>\n",
       "    <tr>\n",
       "      <th>13</th>\n",
       "      <td>6</td>\n",
       "      <td>1500</td>\n",
       "      <td>11.62</td>\n",
       "      <td>17.43</td>\n",
       "      <td>1</td>\n",
       "      <td>17.43</td>\n",
       "      <td>1.5</td>\n",
       "    </tr>\n",
       "    <tr>\n",
       "      <th>18</th>\n",
       "      <td>1</td>\n",
       "      <td>6000</td>\n",
       "      <td>99.00</td>\n",
       "      <td>148.50</td>\n",
       "      <td>1</td>\n",
       "      <td>148.50</td>\n",
       "      <td>6.0</td>\n",
       "    </tr>\n",
       "    <tr>\n",
       "      <th>21</th>\n",
       "      <td>6</td>\n",
       "      <td>1500</td>\n",
       "      <td>11.62</td>\n",
       "      <td>17.43</td>\n",
       "      <td>6</td>\n",
       "      <td>104.58</td>\n",
       "      <td>9.0</td>\n",
       "    </tr>\n",
       "  </tbody>\n",
       "</table>\n",
       "</div>"
      ],
      "text/plain": [
       "    Pack  Bottle_vol  Bottle_cost  Bottle_sale  Bottles_sold    Sale  \\\n",
       "6      6        1500        11.62        17.43             6  104.58   \n",
       "8     12         750        19.58        29.37             4  117.48   \n",
       "13     6        1500        11.62        17.43             1   17.43   \n",
       "18     1        6000        99.00       148.50             1  148.50   \n",
       "21     6        1500        11.62        17.43             6  104.58   \n",
       "\n",
       "    Volumne_sold  \n",
       "6            9.0  \n",
       "8            3.0  \n",
       "13           1.5  \n",
       "18           6.0  \n",
       "21           9.0  "
      ]
     },
     "execution_count": 8,
     "metadata": {},
     "output_type": "execute_result"
    }
   ],
   "source": [
    "sales_num.head()"
   ]
  },
  {
   "cell_type": "markdown",
   "id": "39e978eb",
   "metadata": {},
   "source": [
    "### Elbow technique"
   ]
  },
  {
   "cell_type": "code",
   "execution_count": 9,
   "id": "7c3184e8",
   "metadata": {
    "ExecuteTime": {
     "end_time": "2022-12-20T11:27:57.071789Z",
     "start_time": "2022-12-20T11:27:57.069039Z"
    }
   },
   "outputs": [],
   "source": [
    "# Define k-means clusters\n",
    "kmeans = [KMeans(n_clusters=i) for i in range(1, 10)]"
   ]
  },
  {
   "cell_type": "code",
   "execution_count": 10,
   "id": "c8d59e78",
   "metadata": {
    "ExecuteTime": {
     "end_time": "2022-12-20T11:33:25.053460Z",
     "start_time": "2022-12-20T11:27:57.074406Z"
    }
   },
   "outputs": [
    {
     "data": {
      "text/plain": [
       "[-8610982032242.858,\n",
       " -5149070353663.162,\n",
       " -2773551518782.495,\n",
       " -1935603078590.3833,\n",
       " -1586446113022.6814,\n",
       " -1273655279919.6367,\n",
       " -971985120072.4479,\n",
       " -781649792559.6512,\n",
       " -643103309270.0308]"
      ]
     },
     "execution_count": 10,
     "metadata": {},
     "output_type": "execute_result"
    }
   ],
   "source": [
    "# Creates rate of variation score\n",
    "score = [kmeans[i].fit(sales_num).score(sales_num) for i in range(len(kmeans))] \n",
    "\n",
    "score"
   ]
  },
  {
   "cell_type": "code",
   "execution_count": 11,
   "id": "3d28ac2c",
   "metadata": {
    "ExecuteTime": {
     "end_time": "2022-12-20T11:33:25.209332Z",
     "start_time": "2022-12-20T11:33:25.055982Z"
    }
   },
   "outputs": [
    {
     "data": {
      "image/png": "[encoded data removed]",
      "text/plain": [
       "<Figure size 640x480 with 1 Axes>"
      ]
     },
     "metadata": {},
     "output_type": "display_data"
    }
   ],
   "source": [
    "# Ploting the elbow curve\n",
    "\n",
    "pl.plot(range(1, 10),score)\n",
    "pl.xlabel('Number of Clusters')\n",
    "pl.ylabel('Score')\n",
    "pl.title('Elbow Curve')\n",
    "pl.show()"
   ]
  },
  {
   "cell_type": "markdown",
   "id": "4c16187e",
   "metadata": {},
   "source": [
    "result: I could eather use 3 or 4, but since it really starts flattening at 4 I will use 4. \n"
   ]
  },
  {
   "cell_type": "markdown",
   "id": "571a7131",
   "metadata": {},
   "source": [
    "### k-mean clutering"
   ]
  },
  {
   "cell_type": "code",
   "execution_count": 12,
   "id": "b1e1766b",
   "metadata": {
    "ExecuteTime": {
     "end_time": "2022-12-20T11:33:25.285257Z",
     "start_time": "2022-12-20T11:33:25.211836Z"
    }
   },
   "outputs": [],
   "source": [
    "# Create the k-means object.\n",
    "\n",
    "kmeans = KMeans(n_clusters = 4) "
   ]
  },
  {
   "cell_type": "code",
   "execution_count": 13,
   "id": "43b9edb8",
   "metadata": {
    "ExecuteTime": {
     "end_time": "2022-12-20T11:33:55.340202Z",
     "start_time": "2022-12-20T11:33:25.287516Z"
    }
   },
   "outputs": [
    {
     "data": {
      "text/html": [
       "<style>#sk-container-id-1 {color: black;background-color: white;}#sk-container-id-1 pre{padding: 0;}#sk-container-id-1 div.sk-toggleable {background-color: white;}#sk-container-id-1 label.sk-toggleable__label {cursor: pointer;display: block;width: 100%;margin-bottom: 0;padding: 0.3em;box-sizing: border-box;text-align: center;}#sk-container-id-1 label.sk-toggleable__label-arrow:before {content: \"▸\";float: left;margin-right: 0.25em;color: #696969;}#sk-container-id-1 label.sk-toggleable__label-arrow:hover:before {color: black;}#sk-container-id-1 div.sk-estimator:hover label.sk-toggleable__label-arrow:before {color: black;}#sk-container-id-1 div.sk-toggleable__content {max-height: 0;max-width: 0;overflow: hidden;text-align: left;background-color: #f0f8ff;}#sk-container-id-1 div.sk-toggleable__content pre {margin: 0.2em;color: black;border-radius: 0.25em;background-color: #f0f8ff;}#sk-container-id-1 input.sk-toggleable__control:checked~div.sk-toggleable__content {max-height: 200px;max-width: 100%;overflow: auto;}#sk-container-id-1 input.sk-toggleable__control:checked~label.sk-toggleable__label-arrow:before {content: \"▾\";}#sk-container-id-1 div.sk-estimator input.sk-toggleable__control:checked~label.sk-toggleable__label {background-color: #d4ebff;}#sk-container-id-1 div.sk-label input.sk-toggleable__control:checked~label.sk-toggleable__label {background-color: #d4ebff;}#sk-container-id-1 input.sk-hidden--visually {border: 0;clip: rect(1px 1px 1px 1px);clip: rect(1px, 1px, 1px, 1px);height: 1px;margin: -1px;overflow: hidden;padding: 0;position: absolute;width: 1px;}#sk-container-id-1 div.sk-estimator {font-family: monospace;background-color: #f0f8ff;border: 1px dotted black;border-radius: 0.25em;box-sizing: border-box;margin-bottom: 0.5em;}#sk-container-id-1 div.sk-estimator:hover {background-color: #d4ebff;}#sk-container-id-1 div.sk-parallel-item::after {content: \"\";width: 100%;border-bottom: 1px solid gray;flex-grow: 1;}#sk-container-id-1 div.sk-label:hover label.sk-toggleable__label {background-color: #d4ebff;}#sk-container-id-1 div.sk-serial::before {content: \"\";position: absolute;border-left: 1px solid gray;box-sizing: border-box;top: 0;bottom: 0;left: 50%;z-index: 0;}#sk-container-id-1 div.sk-serial {display: flex;flex-direction: column;align-items: center;background-color: white;padding-right: 0.2em;padding-left: 0.2em;position: relative;}#sk-container-id-1 div.sk-item {position: relative;z-index: 1;}#sk-container-id-1 div.sk-parallel {display: flex;align-items: stretch;justify-content: center;background-color: white;position: relative;}#sk-container-id-1 div.sk-item::before, #sk-container-id-1 div.sk-parallel-item::before {content: \"\";position: absolute;border-left: 1px solid gray;box-sizing: border-box;top: 0;bottom: 0;left: 50%;z-index: -1;}#sk-container-id-1 div.sk-parallel-item {display: flex;flex-direction: column;z-index: 1;position: relative;background-color: white;}#sk-container-id-1 div.sk-parallel-item:first-child::after {align-self: flex-end;width: 50%;}#sk-container-id-1 div.sk-parallel-item:last-child::after {align-self: flex-start;width: 50%;}#sk-container-id-1 div.sk-parallel-item:only-child::after {width: 0;}#sk-container-id-1 div.sk-dashed-wrapped {border: 1px dashed gray;margin: 0 0.4em 0.5em 0.4em;box-sizing: border-box;padding-bottom: 0.4em;background-color: white;}#sk-container-id-1 div.sk-label label {font-family: monospace;font-weight: bold;display: inline-block;line-height: 1.2em;}#sk-container-id-1 div.sk-label-container {text-align: center;}#sk-container-id-1 div.sk-container {/* jupyter's `normalize.less` sets `[hidden] { display: none; }` but bootstrap.min.css set `[hidden] { display: none !important; }` so we also need the `!important` here to be able to override the default hidden behavior on the sphinx rendered scikit-learn.org. See: https://github.com/scikit-learn/scikit-learn/issues/21755 */display: inline-block !important;position: relative;}#sk-container-id-1 div.sk-text-repr-fallback {display: none;}</style><div id=\"sk-container-id-1\" class=\"sk-top-container\"><div class=\"sk-text-repr-fallback\"><pre>KMeans(n_clusters=4)</pre><b>In a Jupyter environment, please rerun this cell to show the HTML representation or trust the notebook. <br />On GitHub, the HTML representation is unable to render, please try loading this page with nbviewer.org.</b></div><div class=\"sk-container\" hidden><div class=\"sk-item\"><div class=\"sk-estimator sk-toggleable\"><input class=\"sk-toggleable__control sk-hidden--visually\" id=\"sk-estimator-id-1\" type=\"checkbox\" checked><label for=\"sk-estimator-id-1\" class=\"sk-toggleable__label sk-toggleable__label-arrow\">KMeans</label><div class=\"sk-toggleable__content\"><pre>KMeans(n_clusters=4)</pre></div></div></div></div></div>"
      ],
      "text/plain": [
       "KMeans(n_clusters=4)"
      ]
     },
     "execution_count": 13,
     "metadata": {},
     "output_type": "execute_result"
    }
   ],
   "source": [
    "# Fit the k-means object to the data.\n",
    "\n",
    "kmeans.fit(sales_num)"
   ]
  },
  {
   "cell_type": "code",
   "execution_count": 14,
   "id": "fb59b9fd",
   "metadata": {
    "ExecuteTime": {
     "end_time": "2022-12-20T11:34:22.682335Z",
     "start_time": "2022-12-20T11:33:55.343070Z"
    }
   },
   "outputs": [
    {
     "name": "stderr",
     "output_type": "stream",
     "text": [
      "/var/folders/zw/37lckzg54ll7byfmgjl5pkw40000gn/T/ipykernel_32275/603832677.py:2: SettingWithCopyWarning: \n",
      "A value is trying to be set on a copy of a slice from a DataFrame.\n",
      "Try using .loc[row_indexer,col_indexer] = value instead\n",
      "\n",
      "See the caveats in the documentation: https://pandas.pydata.org/pandas-docs/stable/user_guide/indexing.html#returning-a-view-versus-a-copy\n",
      "  sales_num['clusters'] = kmeans.fit_predict(sales_num)\n"
     ]
    }
   ],
   "source": [
    "# create new column containing cluster group\n",
    "sales_num['clusters'] = kmeans.fit_predict(sales_num)"
   ]
  },
  {
   "cell_type": "code",
   "execution_count": 15,
   "id": "bcf0a74a",
   "metadata": {
    "ExecuteTime": {
     "end_time": "2022-12-20T11:34:22.698289Z",
     "start_time": "2022-12-20T11:34:22.685233Z"
    }
   },
   "outputs": [
    {
     "data": {
      "text/html": [
       "<div>\n",
       "<style scoped>\n",
       "    .dataframe tbody tr th:only-of-type {\n",
       "        vertical-align: middle;\n",
       "    }\n",
       "\n",
       "    .dataframe tbody tr th {\n",
       "        vertical-align: top;\n",
       "    }\n",
       "\n",
       "    .dataframe thead th {\n",
       "        text-align: right;\n",
       "    }\n",
       "</style>\n",
       "<table border=\"1\" class=\"dataframe\">\n",
       "  <thead>\n",
       "    <tr style=\"text-align: right;\">\n",
       "      <th></th>\n",
       "      <th>Pack</th>\n",
       "      <th>Bottle_vol</th>\n",
       "      <th>Bottle_cost</th>\n",
       "      <th>Bottle_sale</th>\n",
       "      <th>Bottles_sold</th>\n",
       "      <th>Sale</th>\n",
       "      <th>Volumne_sold</th>\n",
       "      <th>clusters</th>\n",
       "    </tr>\n",
       "  </thead>\n",
       "  <tbody>\n",
       "    <tr>\n",
       "      <th>6</th>\n",
       "      <td>6</td>\n",
       "      <td>1500</td>\n",
       "      <td>11.62</td>\n",
       "      <td>17.43</td>\n",
       "      <td>6</td>\n",
       "      <td>104.58</td>\n",
       "      <td>9.0</td>\n",
       "      <td>2</td>\n",
       "    </tr>\n",
       "    <tr>\n",
       "      <th>8</th>\n",
       "      <td>12</td>\n",
       "      <td>750</td>\n",
       "      <td>19.58</td>\n",
       "      <td>29.37</td>\n",
       "      <td>4</td>\n",
       "      <td>117.48</td>\n",
       "      <td>3.0</td>\n",
       "      <td>0</td>\n",
       "    </tr>\n",
       "    <tr>\n",
       "      <th>13</th>\n",
       "      <td>6</td>\n",
       "      <td>1500</td>\n",
       "      <td>11.62</td>\n",
       "      <td>17.43</td>\n",
       "      <td>1</td>\n",
       "      <td>17.43</td>\n",
       "      <td>1.5</td>\n",
       "      <td>2</td>\n",
       "    </tr>\n",
       "    <tr>\n",
       "      <th>18</th>\n",
       "      <td>1</td>\n",
       "      <td>6000</td>\n",
       "      <td>99.00</td>\n",
       "      <td>148.50</td>\n",
       "      <td>1</td>\n",
       "      <td>148.50</td>\n",
       "      <td>6.0</td>\n",
       "      <td>2</td>\n",
       "    </tr>\n",
       "    <tr>\n",
       "      <th>21</th>\n",
       "      <td>6</td>\n",
       "      <td>1500</td>\n",
       "      <td>11.62</td>\n",
       "      <td>17.43</td>\n",
       "      <td>6</td>\n",
       "      <td>104.58</td>\n",
       "      <td>9.0</td>\n",
       "      <td>2</td>\n",
       "    </tr>\n",
       "  </tbody>\n",
       "</table>\n",
       "</div>"
      ],
      "text/plain": [
       "    Pack  Bottle_vol  Bottle_cost  Bottle_sale  Bottles_sold    Sale  \\\n",
       "6      6        1500        11.62        17.43             6  104.58   \n",
       "8     12         750        19.58        29.37             4  117.48   \n",
       "13     6        1500        11.62        17.43             1   17.43   \n",
       "18     1        6000        99.00       148.50             1  148.50   \n",
       "21     6        1500        11.62        17.43             6  104.58   \n",
       "\n",
       "    Volumne_sold  clusters  \n",
       "6            9.0         2  \n",
       "8            3.0         0  \n",
       "13           1.5         2  \n",
       "18           6.0         2  \n",
       "21           9.0         2  "
      ]
     },
     "execution_count": 15,
     "metadata": {},
     "output_type": "execute_result"
    }
   ],
   "source": [
    "sales_num.head()"
   ]
  },
  {
   "cell_type": "code",
   "execution_count": 16,
   "id": "5dc3d43f",
   "metadata": {
    "ExecuteTime": {
     "end_time": "2022-12-20T11:34:22.768086Z",
     "start_time": "2022-12-20T11:34:22.700715Z"
    }
   },
   "outputs": [
    {
     "data": {
      "text/plain": [
       "0    9817772\n",
       "2    2576982\n",
       "3      15341\n",
       "1         30\n",
       "Name: clusters, dtype: int64"
      ]
     },
     "execution_count": 16,
     "metadata": {},
     "output_type": "execute_result"
    }
   ],
   "source": [
    "sales_num['clusters'].value_counts()"
   ]
  },
  {
   "cell_type": "markdown",
   "id": "42216d27",
   "metadata": {},
   "source": [
    "### understanding results"
   ]
  },
  {
   "cell_type": "code",
   "execution_count": 17,
   "id": "0f57631e",
   "metadata": {
    "ExecuteTime": {
     "end_time": "2022-12-20T11:34:25.161153Z",
     "start_time": "2022-12-20T11:34:22.769814Z"
    }
   },
   "outputs": [
    {
     "data": {
      "text/html": [
       "<div>\n",
       "<style scoped>\n",
       "    .dataframe tbody tr th:only-of-type {\n",
       "        vertical-align: middle;\n",
       "    }\n",
       "\n",
       "    .dataframe tbody tr th {\n",
       "        vertical-align: top;\n",
       "    }\n",
       "\n",
       "    .dataframe thead tr th {\n",
       "        text-align: left;\n",
       "    }\n",
       "\n",
       "    .dataframe thead tr:last-of-type th {\n",
       "        text-align: right;\n",
       "    }\n",
       "</style>\n",
       "<table border=\"1\" class=\"dataframe\">\n",
       "  <thead>\n",
       "    <tr>\n",
       "      <th></th>\n",
       "      <th colspan=\"2\" halign=\"left\">Pack</th>\n",
       "      <th colspan=\"2\" halign=\"left\">Bottle_vol</th>\n",
       "      <th colspan=\"2\" halign=\"left\">Bottle_cost</th>\n",
       "      <th colspan=\"2\" halign=\"left\">Bottle_sale</th>\n",
       "      <th colspan=\"2\" halign=\"left\">Bottles_sold</th>\n",
       "      <th colspan=\"2\" halign=\"left\">Sale</th>\n",
       "      <th colspan=\"2\" halign=\"left\">Volumne_sold</th>\n",
       "    </tr>\n",
       "    <tr>\n",
       "      <th></th>\n",
       "      <th>mean</th>\n",
       "      <th>median</th>\n",
       "      <th>mean</th>\n",
       "      <th>median</th>\n",
       "      <th>mean</th>\n",
       "      <th>median</th>\n",
       "      <th>mean</th>\n",
       "      <th>median</th>\n",
       "      <th>mean</th>\n",
       "      <th>median</th>\n",
       "      <th>mean</th>\n",
       "      <th>median</th>\n",
       "      <th>mean</th>\n",
       "      <th>median</th>\n",
       "    </tr>\n",
       "    <tr>\n",
       "      <th>clusters</th>\n",
       "      <th></th>\n",
       "      <th></th>\n",
       "      <th></th>\n",
       "      <th></th>\n",
       "      <th></th>\n",
       "      <th></th>\n",
       "      <th></th>\n",
       "      <th></th>\n",
       "      <th></th>\n",
       "      <th></th>\n",
       "      <th></th>\n",
       "      <th></th>\n",
       "      <th></th>\n",
       "      <th></th>\n",
       "    </tr>\n",
       "  </thead>\n",
       "  <tbody>\n",
       "    <tr>\n",
       "      <th>0</th>\n",
       "      <td>13.881531</td>\n",
       "      <td>12.0</td>\n",
       "      <td>704.626496</td>\n",
       "      <td>750.0</td>\n",
       "      <td>9.008951</td>\n",
       "      <td>7.49</td>\n",
       "      <td>13.529833</td>\n",
       "      <td>11.24</td>\n",
       "      <td>7.890309</td>\n",
       "      <td>4.0</td>\n",
       "      <td>103.530866</td>\n",
       "      <td>60.12</td>\n",
       "      <td>5.563838</td>\n",
       "      <td>2.25</td>\n",
       "    </tr>\n",
       "    <tr>\n",
       "      <th>1</th>\n",
       "      <td>1.000000</td>\n",
       "      <td>1.0</td>\n",
       "      <td>340500.000000</td>\n",
       "      <td>378000.0</td>\n",
       "      <td>4054.373333</td>\n",
       "      <td>3537.30</td>\n",
       "      <td>6081.560000</td>\n",
       "      <td>5305.95</td>\n",
       "      <td>1.000000</td>\n",
       "      <td>1.0</td>\n",
       "      <td>6081.560000</td>\n",
       "      <td>5305.95</td>\n",
       "      <td>340.500000</td>\n",
       "      <td>378.00</td>\n",
       "    </tr>\n",
       "    <tr>\n",
       "      <th>2</th>\n",
       "      <td>5.881924</td>\n",
       "      <td>6.0</td>\n",
       "      <td>1781.529578</td>\n",
       "      <td>1750.0</td>\n",
       "      <td>12.001081</td>\n",
       "      <td>10.00</td>\n",
       "      <td>18.048118</td>\n",
       "      <td>15.00</td>\n",
       "      <td>6.738193</td>\n",
       "      <td>6.0</td>\n",
       "      <td>122.956351</td>\n",
       "      <td>83.16</td>\n",
       "      <td>11.875194</td>\n",
       "      <td>10.50</td>\n",
       "    </tr>\n",
       "    <tr>\n",
       "      <th>3</th>\n",
       "      <td>11.441236</td>\n",
       "      <td>6.0</td>\n",
       "      <td>1300.011407</td>\n",
       "      <td>1000.0</td>\n",
       "      <td>19.471109</td>\n",
       "      <td>12.59</td>\n",
       "      <td>29.282173</td>\n",
       "      <td>18.89</td>\n",
       "      <td>400.835930</td>\n",
       "      <td>300.0</td>\n",
       "      <td>7497.512343</td>\n",
       "      <td>5778.00</td>\n",
       "      <td>514.819359</td>\n",
       "      <td>450.00</td>\n",
       "    </tr>\n",
       "  </tbody>\n",
       "</table>\n",
       "</div>"
      ],
      "text/plain": [
       "               Pack            Bottle_vol            Bottle_cost           \\\n",
       "               mean median           mean    median         mean   median   \n",
       "clusters                                                                    \n",
       "0         13.881531   12.0     704.626496     750.0     9.008951     7.49   \n",
       "1          1.000000    1.0  340500.000000  378000.0  4054.373333  3537.30   \n",
       "2          5.881924    6.0    1781.529578    1750.0    12.001081    10.00   \n",
       "3         11.441236    6.0    1300.011407    1000.0    19.471109    12.59   \n",
       "\n",
       "          Bottle_sale          Bottles_sold                Sale           \\\n",
       "                 mean   median         mean median         mean   median   \n",
       "clusters                                                                   \n",
       "0           13.529833    11.24     7.890309    4.0   103.530866    60.12   \n",
       "1         6081.560000  5305.95     1.000000    1.0  6081.560000  5305.95   \n",
       "2           18.048118    15.00     6.738193    6.0   122.956351    83.16   \n",
       "3           29.282173    18.89   400.835930  300.0  7497.512343  5778.00   \n",
       "\n",
       "         Volumne_sold          \n",
       "                 mean  median  \n",
       "clusters                       \n",
       "0            5.563838    2.25  \n",
       "1          340.500000  378.00  \n",
       "2           11.875194   10.50  \n",
       "3          514.819359  450.00  "
      ]
     },
     "execution_count": 17,
     "metadata": {},
     "output_type": "execute_result"
    }
   ],
   "source": [
    "# first I want to know some basoc stats to see where I want to create visualisations \n",
    "sales_num.groupby('clusters').agg({'Pack':['mean', 'median'], \n",
    "                         'Bottle_vol':['mean', 'median'], \n",
    "                         'Bottle_cost':['mean', 'median'],\n",
    "                         'Bottle_sale':['mean', 'median'],\n",
    "                         'Bottles_sold':['mean', 'median'],\n",
    "                         'Sale':['mean', 'median'],\n",
    "                         'Volumne_sold':['mean', 'median']})"
   ]
  },
  {
   "cell_type": "markdown",
   "id": "d667afd5",
   "metadata": {},
   "source": [
    "Interesting relationships:\n",
    "- Bottles_sold <==> Volume_sold\n",
    "- Pack <==> Bottle_vol\n",
    "- Bottle_cost <==> Volume_sold "
   ]
  },
  {
   "cell_type": "markdown",
   "id": "987787de",
   "metadata": {},
   "source": [
    "creating sample for visualizations"
   ]
  },
  {
   "cell_type": "code",
   "execution_count": 18,
   "id": "90dcaeb5",
   "metadata": {
    "ExecuteTime": {
     "end_time": "2022-12-20T11:34:25.833263Z",
     "start_time": "2022-12-20T11:34:25.163871Z"
    }
   },
   "outputs": [],
   "source": [
    "sampl = sales_num.sample(n=500000, random_state=1)"
   ]
  },
  {
   "cell_type": "code",
   "execution_count": 19,
   "id": "b01cc796",
   "metadata": {
    "ExecuteTime": {
     "end_time": "2022-12-20T11:34:43.630602Z",
     "start_time": "2022-12-20T11:34:25.835329Z"
    },
    "scrolled": true
   },
   "outputs": [
    {
     "data": {
      "image/png": "[encoded data removed]",
      "text/plain": [
       "<Figure size 1200x800 with 1 Axes>"
      ]
     },
     "metadata": {},
     "output_type": "display_data"
    }
   ],
   "source": [
    "# scatterplot for Bottles_Sold <==> Volume_sold\n",
    "\n",
    "plt.figure(figsize=(12,8))\n",
    "ax = sns.scatterplot(x=sampl['Bottles_sold'], y=sampl['Volumne_sold'], hue=sampl['clusters'], s=100) \n",
    "\n",
    "ax.grid(False) # This removes the grid from the background.\n",
    "plt.xlabel('bottle selling price') \n",
    "plt.ylabel('sold volumne in liter') \n",
    "plt.show()"
   ]
  },
  {
   "cell_type": "code",
   "execution_count": 20,
   "id": "c236a5f0",
   "metadata": {
    "ExecuteTime": {
     "end_time": "2022-12-20T11:35:00.217502Z",
     "start_time": "2022-12-20T11:34:43.632844Z"
    }
   },
   "outputs": [
    {
     "data": {
      "image/png": "[encoded data removed]",
      "text/plain": [
       "<Figure size 1200x800 with 1 Axes>"
      ]
     },
     "metadata": {},
     "output_type": "display_data"
    }
   ],
   "source": [
    "# scatterplot for Pack <==> Bottle_vol\n",
    "\n",
    "plt.figure(figsize=(12,8))\n",
    "ax = sns.scatterplot(x=sampl['Pack'], y=sampl['Bottle_vol'], hue=sampl['clusters'], s=100) \n",
    "\n",
    "ax.grid(False) \n",
    "plt.xlabel('number of bottles in a pack') \n",
    "plt.ylabel('sold volumne in liter') \n",
    "plt.show()"
   ]
  },
  {
   "cell_type": "code",
   "execution_count": 21,
   "id": "8d68d487",
   "metadata": {
    "ExecuteTime": {
     "end_time": "2022-12-20T11:35:00.328966Z",
     "start_time": "2022-12-20T11:35:00.220402Z"
    }
   },
   "outputs": [
    {
     "name": "stderr",
     "output_type": "stream",
     "text": [
      "/var/folders/zw/37lckzg54ll7byfmgjl5pkw40000gn/T/ipykernel_32275/2183219463.py:3: UserWarning: Boolean Series key will be reindexed to match DataFrame index.\n",
      "  samples_sampl = samples_sampl[sampl['Bottle_vol'] < 10000]\n"
     ]
    },
    {
     "data": {
      "text/plain": [
       "(499989, 8)"
      ]
     },
     "execution_count": 21,
     "metadata": {},
     "output_type": "execute_result"
    }
   ],
   "source": [
    "# outlier ruin the result so I take them out \n",
    "samples_sampl = sampl[sampl['Pack'] < 50]\n",
    "samples_sampl = samples_sampl[sampl['Bottle_vol'] < 10000]\n",
    "samples_sampl.shape"
   ]
  },
  {
   "cell_type": "code",
   "execution_count": 22,
   "id": "4867dbe6",
   "metadata": {
    "ExecuteTime": {
     "end_time": "2022-12-20T11:35:15.933368Z",
     "start_time": "2022-12-20T11:35:00.331535Z"
    }
   },
   "outputs": [
    {
     "data": {
      "image/png": "[encoded data removed]",
      "text/plain": [
       "<Figure size 1200x800 with 1 Axes>"
      ]
     },
     "metadata": {},
     "output_type": "display_data"
    }
   ],
   "source": [
    "# scatterplot try 2 for Pack <==> Bottle_vol\n",
    "\n",
    "plt.figure(figsize=(12,8))\n",
    "ax = sns.scatterplot(x=samples_sampl['Pack'], y=samples_sampl['Bottle_vol'], hue=samples_sampl['clusters'], s=100) \n",
    "\n",
    "ax.grid(False) \n",
    "plt.xlabel('number of bottles in a pack') \n",
    "plt.ylabel('sold volumne in liter') \n",
    "plt.show()"
   ]
  },
  {
   "cell_type": "code",
   "execution_count": 23,
   "id": "1dfbf5fe",
   "metadata": {
    "ExecuteTime": {
     "end_time": "2022-12-20T11:35:32.300463Z",
     "start_time": "2022-12-20T11:35:15.935837Z"
    },
    "scrolled": true
   },
   "outputs": [
    {
     "data": {
      "image/png": "[encoded data removed]",
      "text/plain": [
       "<Figure size 1200x800 with 1 Axes>"
      ]
     },
     "metadata": {},
     "output_type": "display_data"
    }
   ],
   "source": [
    "# scatterplot for Bottle_cost <==> Volume_sold \n",
    "\n",
    "plt.figure(figsize=(12,8))\n",
    "ax = sns.scatterplot(x=sampl['Bottle_cost'], y=sampl['Volumne_sold'], hue=sampl['clusters'], s=100) \n",
    "\n",
    "ax.grid(False) \n",
    "plt.xlabel('cost per bottle') \n",
    "plt.ylabel('sold volumne in liter') \n",
    "plt.show()"
   ]
  },
  {
   "cell_type": "code",
   "execution_count": 24,
   "id": "b7891735",
   "metadata": {
    "ExecuteTime": {
     "end_time": "2022-12-20T11:35:32.382385Z",
     "start_time": "2022-12-20T11:35:32.303212Z"
    },
    "scrolled": true
   },
   "outputs": [
    {
     "name": "stderr",
     "output_type": "stream",
     "text": [
      "/var/folders/zw/37lckzg54ll7byfmgjl5pkw40000gn/T/ipykernel_32275/3699660704.py:2: UserWarning: Boolean Series key will be reindexed to match DataFrame index.\n",
      "  samples_sampl_2 = samples_sampl_2[sampl['Volumne_sold'] < 3000]\n"
     ]
    }
   ],
   "source": [
    "samples_sampl_2 = sampl[sampl['Bottle_cost'] < 1000]\n",
    "samples_sampl_2 = samples_sampl_2[sampl['Volumne_sold'] < 3000]"
   ]
  },
  {
   "cell_type": "code",
   "execution_count": 25,
   "id": "bd605dd2",
   "metadata": {
    "ExecuteTime": {
     "end_time": "2022-12-20T11:35:48.643911Z",
     "start_time": "2022-12-20T11:35:32.384394Z"
    }
   },
   "outputs": [
    {
     "data": {
      "image/png": "[encoded data removed]",
      "text/plain": [
       "<Figure size 1200x800 with 1 Axes>"
      ]
     },
     "metadata": {},
     "output_type": "display_data"
    }
   ],
   "source": [
    "# scatterplot for Bottle_cost <==> Volume_sold \n",
    "\n",
    "plt.figure(figsize=(12,8))\n",
    "ax = sns.scatterplot(x=samples_sampl_2['Bottle_cost'], y=samples_sampl_2['Volumne_sold'], hue=samples_sampl_2['clusters'], s=100) \n",
    "\n",
    "ax.grid(False) \n",
    "plt.xlabel('cost per bottle') \n",
    "plt.ylabel('sold volumne in liter') \n",
    "plt.show()"
   ]
  },
  {
   "cell_type": "code",
   "execution_count": 26,
   "id": "36efeff7",
   "metadata": {
    "ExecuteTime": {
     "end_time": "2022-12-20T11:35:49.974773Z",
     "start_time": "2022-12-20T11:35:48.645955Z"
    }
   },
   "outputs": [
    {
     "data": {
      "text/html": [
       "<div>\n",
       "<style scoped>\n",
       "    .dataframe tbody tr th:only-of-type {\n",
       "        vertical-align: middle;\n",
       "    }\n",
       "\n",
       "    .dataframe tbody tr th {\n",
       "        vertical-align: top;\n",
       "    }\n",
       "\n",
       "    .dataframe thead th {\n",
       "        text-align: right;\n",
       "    }\n",
       "</style>\n",
       "<table border=\"1\" class=\"dataframe\">\n",
       "  <thead>\n",
       "    <tr style=\"text-align: right;\">\n",
       "      <th></th>\n",
       "      <th>Invoice/Item Number</th>\n",
       "      <th>Date</th>\n",
       "      <th>Store Name</th>\n",
       "      <th>Address</th>\n",
       "      <th>City</th>\n",
       "      <th>Zip Code</th>\n",
       "      <th>Store Location</th>\n",
       "      <th>Country</th>\n",
       "      <th>Category Name</th>\n",
       "      <th>Vendor Name</th>\n",
       "      <th>Item Description</th>\n",
       "      <th>Pack</th>\n",
       "      <th>Bottle Volume (ml)</th>\n",
       "      <th>State Bottle Cost</th>\n",
       "      <th>State Bottle Retail</th>\n",
       "      <th>Bottles Sold</th>\n",
       "      <th>Sale (Dollars)</th>\n",
       "      <th>Volume Sold (Liters)</th>\n",
       "      <th>Volume Sold (Gallons)</th>\n",
       "      <th>clusters</th>\n",
       "    </tr>\n",
       "  </thead>\n",
       "  <tbody>\n",
       "    <tr>\n",
       "      <th>6</th>\n",
       "      <td>S28865700001</td>\n",
       "      <td>11/09/2015</td>\n",
       "      <td>Hy-Vee Food Store #3 / Waterloo</td>\n",
       "      <td>1422 FLAMMANG DR</td>\n",
       "      <td>WATERLOO</td>\n",
       "      <td>50702</td>\n",
       "      <td>1422 FLAMMANG DR\\nWATERLOO 50702\\n(42.459938, ...</td>\n",
       "      <td>Black Hawk</td>\n",
       "      <td>DECANTERS &amp; SPECIALTY PACKAGES</td>\n",
       "      <td>Duggan's Distillers Products Corp</td>\n",
       "      <td>Forbidden Secret Coffee Pack</td>\n",
       "      <td>6</td>\n",
       "      <td>1500</td>\n",
       "      <td>11.62</td>\n",
       "      <td>17.43</td>\n",
       "      <td>6</td>\n",
       "      <td>104.58</td>\n",
       "      <td>9.00</td>\n",
       "      <td>2.38</td>\n",
       "      <td>2</td>\n",
       "    </tr>\n",
       "    <tr>\n",
       "      <th>13</th>\n",
       "      <td>S28866900001</td>\n",
       "      <td>11/11/2015</td>\n",
       "      <td>Spirits, Stogies and Stuff</td>\n",
       "      <td>118 South Main St.</td>\n",
       "      <td>HOLSTEIN</td>\n",
       "      <td>51025</td>\n",
       "      <td>118 South Main St.\\nHOLSTEIN 51025\\n(42.490073...</td>\n",
       "      <td>Ida</td>\n",
       "      <td>DECANTERS &amp; SPECIALTY PACKAGES</td>\n",
       "      <td>Duggan's Distillers Products Corp</td>\n",
       "      <td>Forbidden Secret Coffee Pack</td>\n",
       "      <td>6</td>\n",
       "      <td>1500</td>\n",
       "      <td>11.62</td>\n",
       "      <td>17.43</td>\n",
       "      <td>1</td>\n",
       "      <td>17.43</td>\n",
       "      <td>1.50</td>\n",
       "      <td>0.40</td>\n",
       "      <td>2</td>\n",
       "    </tr>\n",
       "    <tr>\n",
       "      <th>18</th>\n",
       "      <td>S29134300126</td>\n",
       "      <td>11/18/2015</td>\n",
       "      <td>J D Spirits Liquor</td>\n",
       "      <td>1023  9TH ST</td>\n",
       "      <td>ONAWA</td>\n",
       "      <td>51040</td>\n",
       "      <td>1023 9TH ST\\nONAWA 51040\\n(42.025841, -96.095845)</td>\n",
       "      <td>Monona</td>\n",
       "      <td>CREAM LIQUEURS</td>\n",
       "      <td>MHW Ltd</td>\n",
       "      <td>Rumchata \"GoChatas\"</td>\n",
       "      <td>1</td>\n",
       "      <td>6000</td>\n",
       "      <td>99.00</td>\n",
       "      <td>148.50</td>\n",
       "      <td>1</td>\n",
       "      <td>148.50</td>\n",
       "      <td>6.00</td>\n",
       "      <td>1.59</td>\n",
       "      <td>2</td>\n",
       "    </tr>\n",
       "    <tr>\n",
       "      <th>21</th>\n",
       "      <td>S29282800048</td>\n",
       "      <td>11/23/2015</td>\n",
       "      <td>Hy-Vee Wine and Spirits / Pella</td>\n",
       "      <td>512 E OSKALOOSA</td>\n",
       "      <td>PELLA</td>\n",
       "      <td>50219</td>\n",
       "      <td>512 E OSKALOOSA\\nPELLA 50219\\n(41.397023, -92....</td>\n",
       "      <td>Marion</td>\n",
       "      <td>DECANTERS &amp; SPECIALTY PACKAGES</td>\n",
       "      <td>Duggan's Distillers Products Corp</td>\n",
       "      <td>Forbidden Secret Coffee Pack</td>\n",
       "      <td>6</td>\n",
       "      <td>1500</td>\n",
       "      <td>11.62</td>\n",
       "      <td>17.43</td>\n",
       "      <td>6</td>\n",
       "      <td>104.58</td>\n",
       "      <td>9.00</td>\n",
       "      <td>2.38</td>\n",
       "      <td>2</td>\n",
       "    </tr>\n",
       "    <tr>\n",
       "      <th>25</th>\n",
       "      <td>S28867000001</td>\n",
       "      <td>11/04/2015</td>\n",
       "      <td>Bancroft Liquor Store</td>\n",
       "      <td>107 N PORTLAND ST PO BX 222</td>\n",
       "      <td>BANCROFT</td>\n",
       "      <td>50517</td>\n",
       "      <td>107 N PORTLAND ST PO BX 222\\nBANCROFT 50517\\n(...</td>\n",
       "      <td>Kossuth</td>\n",
       "      <td>DECANTERS &amp; SPECIALTY PACKAGES</td>\n",
       "      <td>Duggan's Distillers Products Corp</td>\n",
       "      <td>Forbidden Secret Coffee Pack</td>\n",
       "      <td>6</td>\n",
       "      <td>1500</td>\n",
       "      <td>11.62</td>\n",
       "      <td>17.43</td>\n",
       "      <td>3</td>\n",
       "      <td>52.29</td>\n",
       "      <td>4.50</td>\n",
       "      <td>1.19</td>\n",
       "      <td>2</td>\n",
       "    </tr>\n",
       "    <tr>\n",
       "      <th>29</th>\n",
       "      <td>S28865800001</td>\n",
       "      <td>11/09/2015</td>\n",
       "      <td>Hy-Vee Food Store / iowa Falls</td>\n",
       "      <td>HIGHWAY 65 SOUTH</td>\n",
       "      <td>IOWA FALLS</td>\n",
       "      <td>50126</td>\n",
       "      <td>HIGHWAY 65 SOUTH\\nIOWA FALLS 50126\\n</td>\n",
       "      <td>Hardin</td>\n",
       "      <td>DECANTERS &amp; SPECIALTY PACKAGES</td>\n",
       "      <td>Duggan's Distillers Products Corp</td>\n",
       "      <td>Forbidden Secret Coffee Pack</td>\n",
       "      <td>6</td>\n",
       "      <td>1500</td>\n",
       "      <td>11.62</td>\n",
       "      <td>17.43</td>\n",
       "      <td>6</td>\n",
       "      <td>104.58</td>\n",
       "      <td>9.00</td>\n",
       "      <td>2.38</td>\n",
       "      <td>2</td>\n",
       "    </tr>\n",
       "    <tr>\n",
       "      <th>38</th>\n",
       "      <td>S28867100001</td>\n",
       "      <td>11/09/2015</td>\n",
       "      <td>Pit Stop Liquors / Newton</td>\n",
       "      <td>1324, 1st AVE E</td>\n",
       "      <td>NEWTON</td>\n",
       "      <td>50208</td>\n",
       "      <td>1324, 1st AVE E\\nNEWTON 50208\\n(41.699173, -93...</td>\n",
       "      <td>Jasper</td>\n",
       "      <td>DECANTERS &amp; SPECIALTY PACKAGES</td>\n",
       "      <td>Duggan's Distillers Products Corp</td>\n",
       "      <td>Forbidden Secret Coffee Pack</td>\n",
       "      <td>6</td>\n",
       "      <td>1500</td>\n",
       "      <td>11.62</td>\n",
       "      <td>17.43</td>\n",
       "      <td>2</td>\n",
       "      <td>34.86</td>\n",
       "      <td>3.00</td>\n",
       "      <td>0.79</td>\n",
       "      <td>2</td>\n",
       "    </tr>\n",
       "    <tr>\n",
       "      <th>50</th>\n",
       "      <td>S29137200001</td>\n",
       "      <td>11/18/2015</td>\n",
       "      <td>Hy-Vee Food Store / Knoxville</td>\n",
       "      <td>813 N LINCOLN STE 1</td>\n",
       "      <td>KNOXVILLE</td>\n",
       "      <td>50138</td>\n",
       "      <td>813 N LINCOLN STE 1\\nKNOXVILLE 50138\\n(41.3254...</td>\n",
       "      <td>Marion</td>\n",
       "      <td>DECANTERS &amp; SPECIALTY PACKAGES</td>\n",
       "      <td>Duggan's Distillers Products Corp</td>\n",
       "      <td>Forbidden Secret Coffee Pack</td>\n",
       "      <td>6</td>\n",
       "      <td>1500</td>\n",
       "      <td>11.62</td>\n",
       "      <td>17.43</td>\n",
       "      <td>12</td>\n",
       "      <td>209.16</td>\n",
       "      <td>18.00</td>\n",
       "      <td>4.76</td>\n",
       "      <td>2</td>\n",
       "    </tr>\n",
       "    <tr>\n",
       "      <th>52</th>\n",
       "      <td>S29161800004</td>\n",
       "      <td>11/18/2015</td>\n",
       "      <td>Hy-Vee Food Store / Iowa City</td>\n",
       "      <td>1125 N DODGE ST</td>\n",
       "      <td>IOWA CITY</td>\n",
       "      <td>52240</td>\n",
       "      <td>1125 N DODGE ST\\nIOWA CITY 52240\\n(41.676203, ...</td>\n",
       "      <td>Johnson</td>\n",
       "      <td>CREAM LIQUEURS</td>\n",
       "      <td>MHW Ltd</td>\n",
       "      <td>Rumchata \"GoChatas\"</td>\n",
       "      <td>1</td>\n",
       "      <td>6000</td>\n",
       "      <td>99.00</td>\n",
       "      <td>148.50</td>\n",
       "      <td>1</td>\n",
       "      <td>148.50</td>\n",
       "      <td>6.00</td>\n",
       "      <td>1.59</td>\n",
       "      <td>2</td>\n",
       "    </tr>\n",
       "    <tr>\n",
       "      <th>53</th>\n",
       "      <td>S29082800001</td>\n",
       "      <td>11/16/2015</td>\n",
       "      <td>Hy-Vee Food Store / Muscatine</td>\n",
       "      <td>2400 2ND AVE</td>\n",
       "      <td>MUSCATINE</td>\n",
       "      <td>52761</td>\n",
       "      <td>2400 2ND AVE\\nMUSCATINE 52761\\n(41.45135, -91....</td>\n",
       "      <td>Muscatine</td>\n",
       "      <td>CREAM LIQUEURS</td>\n",
       "      <td>MHW Ltd</td>\n",
       "      <td>Rumchata \"GoChatas\"</td>\n",
       "      <td>1</td>\n",
       "      <td>6000</td>\n",
       "      <td>99.00</td>\n",
       "      <td>148.50</td>\n",
       "      <td>1</td>\n",
       "      <td>148.50</td>\n",
       "      <td>6.00</td>\n",
       "      <td>1.59</td>\n",
       "      <td>2</td>\n",
       "    </tr>\n",
       "    <tr>\n",
       "      <th>62</th>\n",
       "      <td>S29216200002</td>\n",
       "      <td>11/20/2015</td>\n",
       "      <td>Hy-Vee Food Store / Muscatine</td>\n",
       "      <td>2400 2ND AVE</td>\n",
       "      <td>MUSCATINE</td>\n",
       "      <td>52761</td>\n",
       "      <td>2400 2ND AVE\\nMUSCATINE 52761\\n(41.45135, -91....</td>\n",
       "      <td>Muscatine</td>\n",
       "      <td>CREAM LIQUEURS</td>\n",
       "      <td>MHW Ltd</td>\n",
       "      <td>Rumchata \"GoChatas\"</td>\n",
       "      <td>1</td>\n",
       "      <td>6000</td>\n",
       "      <td>99.00</td>\n",
       "      <td>148.50</td>\n",
       "      <td>2</td>\n",
       "      <td>297.00</td>\n",
       "      <td>12.00</td>\n",
       "      <td>3.17</td>\n",
       "      <td>2</td>\n",
       "    </tr>\n",
       "    <tr>\n",
       "      <th>69</th>\n",
       "      <td>S28867200001</td>\n",
       "      <td>11/05/2015</td>\n",
       "      <td>Sperry One Stop Shop LLC</td>\n",
       "      <td>516 HWY 141</td>\n",
       "      <td>COON RAPIDS</td>\n",
       "      <td>50058</td>\n",
       "      <td>516 HWY 141\\nCOON RAPIDS 50058\\n</td>\n",
       "      <td>Carroll</td>\n",
       "      <td>DECANTERS &amp; SPECIALTY PACKAGES</td>\n",
       "      <td>Duggan's Distillers Products Corp</td>\n",
       "      <td>Forbidden Secret Coffee Pack</td>\n",
       "      <td>6</td>\n",
       "      <td>1500</td>\n",
       "      <td>11.62</td>\n",
       "      <td>17.43</td>\n",
       "      <td>1</td>\n",
       "      <td>17.43</td>\n",
       "      <td>1.50</td>\n",
       "      <td>0.40</td>\n",
       "      <td>2</td>\n",
       "    </tr>\n",
       "    <tr>\n",
       "      <th>84</th>\n",
       "      <td>S29249700269</td>\n",
       "      <td>11/21/2015</td>\n",
       "      <td>Hy-Vee Wine and Spirits / WDM</td>\n",
       "      <td>1725  74TH ST</td>\n",
       "      <td>WEST DES MOINES</td>\n",
       "      <td>50266</td>\n",
       "      <td>1725 74TH ST\\nWEST DES MOINES 50266\\n(41.59851...</td>\n",
       "      <td>Polk</td>\n",
       "      <td>CREAM LIQUEURS</td>\n",
       "      <td>MHW Ltd</td>\n",
       "      <td>Rumchata \"GoChatas\"</td>\n",
       "      <td>1</td>\n",
       "      <td>6000</td>\n",
       "      <td>99.00</td>\n",
       "      <td>148.50</td>\n",
       "      <td>2</td>\n",
       "      <td>297.00</td>\n",
       "      <td>12.00</td>\n",
       "      <td>3.17</td>\n",
       "      <td>2</td>\n",
       "    </tr>\n",
       "    <tr>\n",
       "      <th>85</th>\n",
       "      <td>S28865900001</td>\n",
       "      <td>11/11/2015</td>\n",
       "      <td>Hy-Vee Food Store / Knoxville</td>\n",
       "      <td>813 N LINCOLN STE 1</td>\n",
       "      <td>KNOXVILLE</td>\n",
       "      <td>50138</td>\n",
       "      <td>813 N LINCOLN STE 1\\nKNOXVILLE 50138\\n(41.3254...</td>\n",
       "      <td>Marion</td>\n",
       "      <td>DECANTERS &amp; SPECIALTY PACKAGES</td>\n",
       "      <td>Duggan's Distillers Products Corp</td>\n",
       "      <td>Forbidden Secret Coffee Pack</td>\n",
       "      <td>6</td>\n",
       "      <td>1500</td>\n",
       "      <td>11.62</td>\n",
       "      <td>17.43</td>\n",
       "      <td>6</td>\n",
       "      <td>104.58</td>\n",
       "      <td>9.00</td>\n",
       "      <td>2.38</td>\n",
       "      <td>2</td>\n",
       "    </tr>\n",
       "    <tr>\n",
       "      <th>90</th>\n",
       "      <td>S28866800001</td>\n",
       "      <td>11/09/2015</td>\n",
       "      <td>Hy-Vee Wine and Spirits / Waterloo</td>\n",
       "      <td>2126 KIMBALL AVE</td>\n",
       "      <td>WATERLOO</td>\n",
       "      <td>50701</td>\n",
       "      <td>2126 KIMBALL AVE\\nWATERLOO 50701\\n</td>\n",
       "      <td>Black Hawk</td>\n",
       "      <td>DECANTERS &amp; SPECIALTY PACKAGES</td>\n",
       "      <td>Duggan's Distillers Products Corp</td>\n",
       "      <td>Forbidden Secret Coffee Pack</td>\n",
       "      <td>6</td>\n",
       "      <td>1500</td>\n",
       "      <td>11.62</td>\n",
       "      <td>17.43</td>\n",
       "      <td>6</td>\n",
       "      <td>104.58</td>\n",
       "      <td>9.00</td>\n",
       "      <td>2.38</td>\n",
       "      <td>2</td>\n",
       "    </tr>\n",
       "    <tr>\n",
       "      <th>93</th>\n",
       "      <td>S29142300101</td>\n",
       "      <td>11/18/2015</td>\n",
       "      <td>Hy-Vee #5 / Davenport</td>\n",
       " "
      ],
      "text/plain": [
       "    Invoice/Item Number        Date                            Store Name  \\\n",
       "6          S28865700001  11/09/2015       Hy-Vee Food Store #3 / Waterloo   \n",
       "13         S28866900001  11/11/2015            Spirits, Stogies and Stuff   \n",
       "18         S29134300126  11/18/2015                    J D Spirits Liquor   \n",
       "21         S29282800048  11/23/2015       Hy-Vee Wine and Spirits / Pella   \n",
       "25         S28867000001  11/04/2015                 Bancroft Liquor Store   \n",
       "29         S28865800001  11/09/2015        Hy-Vee Food Store / iowa Falls   \n",
       "38         S28867100001  11/09/2015             Pit Stop Liquors / Newton   \n",
       "50         S29137200001  11/18/2015         Hy-Vee Food Store / Knoxville   \n",
       "52         S29161800004  11/18/2015         Hy-Vee Food Store / Iowa City   \n",
       "53         S29082800001  11/16/2015         Hy-Vee Food Store / Muscatine   \n",
       "62         S29216200002  11/20/2015         Hy-Vee Food Store / Muscatine   \n",
       "69         S28867200001  11/05/2015              Sperry One Stop Shop LLC   \n",
       "84         S29249700269  11/21/2015         Hy-Vee Wine and Spirits / WDM   \n",
       "85         S28865900001  11/11/2015         Hy-Vee Food Store / Knoxville   \n",
       "90         S28866800001  11/09/2015    Hy-Vee Wine and Spirits / Waterloo   \n",
       "93         S29142300101  11/18/2015                 Hy-Vee #5 / Davenport   \n",
       "101        S23647700049  01/26/2015  No Frills Supermarkets #786 / Counci   \n",
       "103        S04854100048  04/03/2012                  Anamosa Family Foods   \n",
       "112        S18283700037  04/07/2014  Hy-Vee Wine and Spirits / Bettendorf   \n",
       "121        S08426400013  10/18/2012                      Spirits / Grimes   \n",
       "\n",
       "                         Address             City Zip Code  \\\n",
       "6               1422 FLAMMANG DR         WATERLOO    50702   \n",
       "13            118 South Main St.         HOLSTEIN    51025   \n",
       "18                  1023  9TH ST            ONAWA    51040   \n",
       "21               512 E OSKALOOSA            PELLA    50219   \n",
       "25   107 N PORTLAND ST PO BX 222         BANCROFT    50517   \n",
       "29              HIGHWAY 65 SOUTH       IOWA FALLS    50126   \n",
       "38               1324, 1st AVE E           NEWTON    50208   \n",
       "50           813 N LINCOLN STE 1        KNOXVILLE    50138   \n",
       "52               1125 N DODGE ST        IOWA CITY    52240   \n",
       "53                  2400 2ND AVE        MUSCATINE    52761   \n",
       "62                  2400 2ND AVE        MUSCATINE    52761   \n",
       "69                   516 HWY 141      COON RAPIDS    50058   \n",
       "84                 1725  74TH ST  WEST DES MOINES    50266   \n",
       "85           813 N LINCOLN STE 1        KNOXVILLE    50138   \n",
       "90              2126 KIMBALL AVE         WATERLOO    50701   \n",
       "93                 2351 W LOCUST        DAVENPORT    52804   \n",
       "101             1817, W BROADWAY   COUNCIL BLUFFS    51501   \n",
       "103                402 EAST MAIN          ANAMOSA    52205   \n",
       "112        2890 DEVILS GLEN ROAD       BETTENDORF    52722   \n",
       "121        109 EAST 1ST ST STE B           GRIMES    50111   \n",
       "\n",
       "                                        Store Location        Country  \\\n",
       "6    1422 FLAMMANG DR\\nWATERLOO 50702\\n(42.459938, ...     Black Hawk   \n",
       "13   118 South Main St.\\nHOLSTEIN 51025\\n(42.490073...            Ida   \n",
       "18   1023 9TH ST\\nONAWA 51040\\n(42.025841, -96.095845)         Monona   \n",
       "21   512 E OSKALOOSA\\nPELLA 50219\\n(41.397023, -92....         Marion   \n",
       "25   107 N PORTLAND ST PO BX 222\\nBANCROFT 50517\\n(...        Kossuth   \n",
       "29                HIGHWAY 65 SOUTH\\nIOWA FALLS 50126\\n         Hardin   \n",
       "38   1324, 1st AVE E\\nNEWTON 50208\\n(41.699173, -93...         Jasper   \n",
       "50   813 N LINCOLN STE 1\\nKNOXVILLE 50138\\n(41.3254...         Marion   \n",
       "52   1125 N DODGE ST\\nIOWA CITY 52240\\n(41.676203, ...        Johnson   \n",
       "53   2400 2ND AVE\\nMUSCATINE 52761\\n(41.45135, -91....      Muscatine   \n",
       "62   2400 2ND AVE\\nMUSCATINE 52761\\n(41.45135, -91....      Muscatine   \n",
       "69                    516 HWY 141\\nCOON RAPIDS 50058\\n        Carroll   \n",
       "84   1725 74TH ST\\nWEST DES MOINES 50266\\n(41.59851...           Polk   \n",
       "85   813 N LINCOLN STE 1\\nKNOXVILLE 50138\\n(41.3254...         Marion   \n",
       "90                  2126 KIMBALL AVE\\nWATERLOO 50701\\n     Black Hawk   \n",
       "93   2351 W LOCUST\\nDAVENPORT 52804\\n(41.538207, -9...          Scott   \n",
       "101  1817, W BROADWAY\\nCOUNCIL BLUFFS 51501\\n(41.26...  Pottawattamie   \n",
       "103  402 EAST MAIN\\nANAMOSA 52205\\n(42.108289, -91....          Jones   \n",
       "112  2890 DEVILS GLEN ROAD\\nBETTENDORF 52722\\n(41.5...          Scott   \n",
       "121  109 EAST 1ST ST STE B\\nGRIMES 50111\\n(41.6884,...           Polk   \n",
       "\n",
       "                        Category Name                        Vendor Name  \\\n",
       "6      DECANTERS & SPECIALTY PACKAGES  Duggan's Distillers Products Corp   \n",
       "13     DECANTERS & SPECIALTY PACKAGES  Duggan's Distillers Products Corp   \n",
       "18                     CREAM LIQUEURS                            MHW Ltd   \n",
       "21     DECANTERS & SPECIALTY PACKAGES  Duggan's Distillers Products Corp   \n",
       "25     DECANTERS & SPECIALTY PACKAGES  Duggan's Distillers Products Corp   \n",
       "29     DECANTERS & SPECIALTY PACKAGES  Duggan's Distillers Products Corp   \n",
       "38     DECANTERS & SPECIALTY PACKAGES  Duggan's Distillers Products Corp   \n",
       "50     DECANTERS & SPECIALTY PACKAGES  Duggan's Distillers Products Corp   \n",
       "52                     CREAM LIQUEURS                            MHW Ltd   \n",
       "53                     CREAM LIQUEURS                            MHW Ltd   \n",
       "62                     CREAM LIQUEURS                            MHW Ltd   \n",
       "69     DECANTERS & SPECIALTY PACKAGES  Duggan's Distillers Products Corp   \n",
       "84                     CREAM LIQUEURS                            MHW Ltd   \n",
       "85     DECANTERS & SPECIALTY PACKAGES  Duggan's Distillers Products Corp   \n",
       "90     DECANTERS & SPECIALTY PACKAGES  Duggan's Distillers Products Corp   \n",
       "93     DECANTERS & SPECIALTY PACKAGES  Duggan's Distillers Products Corp   \n",
       "101  PUERTO RICO & VIRGIN ISLANDS RUM               Bacardi U.S.A., Inc.   \n",
       "103               PEPPERMINT SCHNAPPS                     Luxco-St Louis   \n",
       "112                 AMERICAN DRY GINS                    Diageo Americas   \n",
       "121                  BLENDED WHISKIES                     Luxco-St Louis   \n",
       "\n",
       "                  Item Description  Pack  Bottle Volume (ml)  \\\n",
       "6     Forbidden Secret Coffee Pack     6                1500   \n",
       "13    Forbidden Secret Coffee Pack     6                1500   \n",
       "18             Rumchata \"GoChatas\"     1                6000   \n",
       "21    Forbidden Secret Coffee Pack     6                1500   \n",
       "25    Forbidden Secret Coffee Pack     6                1500   \n",
       "29    Forbidden Secret Coffee Pack     6                1500   \n",
       "38    Forbidden Secret Coffee Pack     6                1500   \n",
       "50    Forbidden Secret Coffee Pack     6                1500   \n",
       "52             Rumchata \"GoChatas\"     1                6000   \n",
       "53             Rumchata \"GoChatas\"     1                6000   \n",
       "62             Rumchata \"GoChatas\"     1                6000   \n",
       "69    Forbidden Secret Coffee Pack     6                1500   \n",
       "84             Rumchata \"GoChatas\"     1                6000   \n",
       "85    Forbidden Secret Coffee Pack     6                1500   \n",
       "90    Forbidden Secret Coffee Pack     6                1500   \n",
       "93    Forbidden Secret Coffee Pack     6                1500   \n",
       "101           Bacardi Superior Rum     6                1750   \n",
       "103      Arrow Peppermint Schnapps     6                1750   \n",
       "112  Gordon's Gin London Dry - Pet     6                1750   \n",
       "121       Calvert Extra Bl Whiskey     6                1750   \n",
       "\n",
       "     State Bottle Cost  State Bottle Retail  Bottles Sold  Sale (Dollars)  \\\n",
       "6                11.62                17.43             6          104.58   \n",
       "13               11.62                17.43             1           17.43   \n",
       "18               99.00               148.50             1          148.50   \n",
       "21               11.62                17.43             6          104.58   \n",
       "25               11.62                17.43             3           52.29   \n",
       "29               11.62                17.43             6          104.58   \n",
       "38               11.62                17.43             2           34.86   \n",
       "50               11.62                17.43            12          209.16   \n",
       "52               99.00               148.50             1          148.50   \n",
       "53               99.00               148.50             1          148.50   \n",
       "62               99.00               148.50             2          297.00   \n",
       "69               11.62                17.43             1           17.43   \n",
       "84               99.00               148.50             2          297.00   \n",
       "85               11.62                17.43             6          104.58   \n",
       "90               11.62                17.43             6          104.58   \n",
       "93               11.62                17.43             6          104.58   \n",
       "101              15.00                22.50            12          270.00   \n",
       "103               7.04                10.56             3           31.68   \n",
       "112              11.00                16.49             6           98.94   \n",
       "121              11.02                16.53             1           16.53   \n",
       "\n",
       "     Volume Sold (Liters)  Volume Sold (Gallons)  clusters  \n",
       "6                    9.00                   2.38         2  \n",
       "13                   1.50                   0.40         2  \n",
       "18                   6.00                   1.59         2  \n",
       "21                   9.00                   2.38         2  \n",
       "25                   4.50                   1.19         2  \n",
       "29                   9.00                   2.38         2  \n",
       "38                   3.00                   0.79         2  \n",
       "50                  18.00                   4.76         2  \n",
       "52                   6.00                   1.59         2  \n",
       "53                   6.00                   1.59         2  \n",
       "62                  12.00                   3.17         2  \n",
       "69                   1.50                   0.40         2  \n",
       "84                  12.00                   3.17         2  \n",
       "85                   9.00                   2.38         2  \n",
       "90                   9.00                   2.38         2  \n",
       "93       "
      ]
     },
     "execution_count": 26,
     "metadata": {},
     "output_type": "execute_result"
    },
    {
     "data": {
      "text/html": [
       "<b>limit_output extension: Maximum message size of 10000 exceeded with 12865 characters</b>"
      ]
     },
     "metadata": {},
     "output_type": "display_data"
    }
   ],
   "source": [
    "sales['clusters'] = sales_num['clusters']\n",
    "clust_2 = sales[sales['clusters'] == 2]\n",
    "clust_2.head(20)"
   ]
  },
  {
   "cell_type": "code",
   "execution_count": 27,
   "id": "9bc0c9c9",
   "metadata": {
    "ExecuteTime": {
     "end_time": "2022-12-20T11:37:48.023134Z",
     "start_time": "2022-12-20T11:35:49.981875Z"
    }
   },
   "outputs": [],
   "source": [
    "sales.to_csv(os.path.join(path, '02 Data','Prepared Data', 'final_data.csv'))"
   ]
  },
  {
   "cell_type": "markdown",
   "id": "a8d9b7c3",
   "metadata": {},
   "source": [
    "### Results\n",
    "I can shurely say cluster 2 are high price range products, its most often the same product: 18 cases Smirnoff 1.75L/18 cases Captain 1.75L  \n",
    "Cluster 1 has a higher selling price than Cluster 2 compared to there bottle volume.  \n",
    "\n",
    "In general I would say Cluster one and two are standart quality product-/sales  \n",
    "Cluster 2 are High quality product-/sales  \n",
    "Cluster 3 are Luxury quality product-/sales  \n",
    "This gives us big insight into our data and helps us categorising our data. Based on this I coud conduct spatial analysis"
   ]
  }
 ],
 "metadata": {
  "kernelspec": {
   "display_name": "Python 3 (ipykernel)",
   "language": "python",
   "name": "python3"
  },
  "language_info": {
   "codemirror_mode": {
    "name": "ipython",
    "version": 3
   },
   "file_extension": ".py",
   "mimetype": "text/x-python",
   "name": "python",
   "nbconvert_exporter": "python",
   "pygments_lexer": "ipython3",
   "version": "3.8.15"
  }
 },
 "nbformat": 4,
 "nbformat_minor": 5
}
